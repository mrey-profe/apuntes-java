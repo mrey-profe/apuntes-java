{
 "cells": [
  {
   "cell_type": "markdown",
   "metadata": {},
   "source": [
    "# Estructuras selectivas\n",
    "\n",
    "## if ... else\n",
    "\n",
    "```java\n",
    "if (condición) {\n",
    "    // código si la condición es verdadera\n",
    "} else {\n",
    "    // código si la condición es falsa\n",
    "}\n",
    "```"
   ]
  },
  {
   "cell_type": "code",
   "execution_count": null,
   "metadata": {},
   "outputs": [],
   "source": [
    "int edad = 15;\n",
    "\n",
    "if (edad >= 18) {\n",
    "    System.out.println(\"Eres mayor de edad\");\n",
    "}"
   ]
  },
  {
   "cell_type": "code",
   "execution_count": 1,
   "metadata": {},
   "outputs": [
    {
     "name": "stdout",
     "output_type": "stream",
     "text": [
      "Eres menor de edad\n"
     ]
    }
   ],
   "source": [
    "int edad = 15;\n",
    "\n",
    "if (edad >= 18) {\n",
    "    System.out.println(\"Eres mayor de edad\");\n",
    "} else {\n",
    "    System.out.println(\"Eres menor de edad\");\n",
    "}"
   ]
  },
  {
   "cell_type": "markdown",
   "metadata": {},
   "source": [
    "Si no ponemos llaves, puede llevarnos a confusión, como en el siguiente ejemplo:"
   ]
  },
  {
   "cell_type": "code",
   "execution_count": 2,
   "metadata": {},
   "outputs": [
    {
     "name": "stdout",
     "output_type": "stream",
     "text": [
      "Eres mayor de edad\n",
      "Ya crecerás\n"
     ]
    }
   ],
   "source": [
    "int edad = 20;\n",
    "\n",
    "if (edad >= 18)\n",
    "    System.out.println(\"Eres mayor de edad\");\n",
    "else \n",
    "    System.out.println(\"Eres menor de edad\");\n",
    "    System.out.println(\"Ya crecerás\");\n"
   ]
  },
  {
   "cell_type": "markdown",
   "metadata": {},
   "source": [
    "Si solo hay una instrucción dentro del `if` o `else`, no es necesario usar llaves, aunque es recomendable para evitar errores."
   ]
  },
  {
   "cell_type": "code",
   "execution_count": null,
   "metadata": {},
   "outputs": [],
   "source": [
    "int edad = 15;\n",
    "\n",
    "if (edad >= 18) System.out.println(\"Eres mayor de edad\");\n",
    "else System.out.println(\"Eres menor de edad\");"
   ]
  },
  {
   "cell_type": "markdown",
   "metadata": {},
   "source": [
    "### if ... else anidados\n",
    "\n",
    "Pueden anidarse estructuras `if ... else` dentro de otras estructuras `if ... else`."
   ]
  },
  {
   "cell_type": "code",
   "execution_count": 2,
   "metadata": {},
   "outputs": [
    {
     "name": "stdout",
     "output_type": "stream",
     "text": [
      "Eres menor de edad\n",
      "Pero puedes trabajar\n"
     ]
    }
   ],
   "source": [
    "int edad = 17;\n",
    "\n",
    "if (edad >= 18) {\n",
    "    System.out.println(\"Eres mayor de edad\");\n",
    "} else {\n",
    "    System.out.println(\"Eres menor de edad\");\n",
    "    if (edad >= 16) {\n",
    "        System.out.println(\"Pero puedes trabajar\");\n",
    "    } else {\n",
    "        System.out.println(\"No puedes trabajar\");\n",
    "    }\n",
    "}"
   ]
  },
  {
   "cell_type": "markdown",
   "metadata": {},
   "source": [
    "## Estructuras selectivas múltiples\n",
    "\n",
    "### if ... else if ... else\n",
    "\n",
    "Permite evaluar varias condiciones en secuencia.\n",
    "\n",
    "```java\n",
    "if (condición1) {\n",
    "    // código si la condición1 es verdadera\n",
    "} else if (condición2) {\n",
    "    // código si la condición2 es verdadera\n",
    "} else {\n",
    "    // código si ninguna de las condiciones anteriores es verdadera\n",
    "}\n",
    "```"
   ]
  },
  {
   "cell_type": "code",
   "execution_count": 4,
   "metadata": {},
   "outputs": [
    {
     "name": "stdout",
     "output_type": "stream",
     "text": [
      "Aprobado\n"
     ]
    }
   ],
   "source": [
    "Scanner teclado = new Scanner(System.in);\n",
    "double nota = teclado.nextDouble();\n",
    "\n",
    "if (nota <= 5) {\n",
    "    System.out.println(\"Suspenso\");\n",
    "} else if (nota <= 6) {\n",
    "    System.out.println(\"Aprobado\");\n",
    "} else if (nota <= 7) {\n",
    "    System.out.println(\"Bien\");\n",
    "} else if (nota <= 8) {\n",
    "    System.out.println(\"Notable\");\n",
    "} else {\n",
    "    System.out.println(\"Sobresaliente\");\n",
    "}"
   ]
  },
  {
   "cell_type": "markdown",
   "metadata": {},
   "source": [
    "### switch-case tradicional (tipo *fall-through*, antes de Java 12)\n",
    "\n",
    "Permite evaluar una variable y ejecutar un bloque de código dependiendo del valor de la variable.\n",
    "\n",
    "```java\n",
    "switch (variable) {\n",
    "    case valor1:\n",
    "        // código si la variable es igual a valor1\n",
    "        break;\n",
    "    case valor2:\n",
    "        // código si la variable es igual a valor2\n",
    "        break;\n",
    "    default:\n",
    "        // código si la variable no es igual a ninguno de los valores anteriores\n",
    "}\n",
    "```"
   ]
  },
  {
   "cell_type": "markdown",
   "metadata": {},
   "source": [
    "La expresión debe ser de tipo `byte`, `short`, `int`, `char` o `String` (en realidad `char`,`byte`,`short`,`int`,`Character`,`Byte`,`Short`,`Integer`,`String` o tipo enumerado).\n",
    "- Los valores del casi deben ser literales únicos: constantes y no variables.\n",
    "- Se pueden poner literales.\n",
    "- Se pueden poner constantes.\n",
    "- NO se pueden poner variables.\n",
    "- Se pueden poner expresiones con literales y/o constantes.\n",
    "- En los `case` no se usan llaves.\n",
    "- Se compara el valor de la expresión con cada valor y se ejecuta a partir del que coincide, hasta que encuentra un break.\n",
    "- Si no coincide con ninguno se ejecuta el `default`.\n",
    "\n"
   ]
  },
  {
   "cell_type": "markdown",
   "metadata": {},
   "source": [
    "Es necesario usar `break` al final de cada `case` para evitar que se ejecuten los bloques de código de los `case` siguientes."
   ]
  },
  {
   "cell_type": "code",
   "execution_count": 3,
   "metadata": {},
   "outputs": [
    {
     "name": "stdout",
     "output_type": "stream",
     "text": [
      "Introduce un número de mes\n"
     ]
    },
    {
     "name": "stdout",
     "output_type": "stream",
     "text": [
      "Abril\n"
     ]
    }
   ],
   "source": [
    "Scanner teclado = new Scanner(System.in);\n",
    "System.out.println(\"Introduce un número de mes\");\n",
    "int mes = teclado.nextInt();\n",
    "\n",
    "switch (mes) {\n",
    "    case 1:\n",
    "        System.out.println(\"Enero\");\n",
    "        break;\n",
    "    case 2:\n",
    "        System.out.println(\"Febrero\");\n",
    "        break;\n",
    "    case 3:\n",
    "        System.out.println(\"Marzo\");\n",
    "        break;\n",
    "    case 4:\n",
    "        System.out.println(\"Abril\");\n",
    "        break;\n",
    "    case 5:\n",
    "        System.out.println(\"Mayo\");\n",
    "        break;\n",
    "    case 6:\n",
    "        System.out.println(\"Junio\");\n",
    "        break;\n",
    "    case 7:\n",
    "        System.out.println(\"Julio\");\n",
    "        break;\n",
    "    case 8:\n",
    "        System.out.println(\"Agosto\");\n",
    "        break;\n",
    "    case 9:\n",
    "        System.out.println(\"Septiembre\");\n",
    "        break;\n",
    "    case 10:\n",
    "        System.out.println(\"Octubre\");\n",
    "        break;\n",
    "    case 11:\n",
    "        System.out.println(\"Noviembre\");\n",
    "        break;\n",
    "    case 12:\n",
    "        System.out.println(\"Diciembre\");\n",
    "        break;\n",
    "    default:\n",
    "        System.out.println(\"Mes no válido\");\n",
    "}"
   ]
  },
  {
   "cell_type": "markdown",
   "metadata": {},
   "source": [
    "Veamos qué sucede si no usamos `break`."
   ]
  },
  {
   "cell_type": "code",
   "execution_count": 4,
   "metadata": {},
   "outputs": [
    {
     "name": "stdout",
     "output_type": "stream",
     "text": [
      "Introduce un número de mes\n"
     ]
    },
    {
     "name": "stdout",
     "output_type": "stream",
     "text": [
      "Abril\n",
      "Mayo\n",
      "Junio\n",
      "Julio\n",
      "Agosto\n",
      "Septiembre\n",
      "Octubre\n",
      "Noviembre\n",
      "Diciembre\n",
      "Mes no válido\n"
     ]
    }
   ],
   "source": [
    "Scanner teclado = new Scanner(System.in);\n",
    "System.out.println(\"Introduce un número de mes\");\n",
    "int mes = teclado.nextInt();\n",
    "\n",
    "switch (mes) {\n",
    "    case 1:\n",
    "        System.out.println(\"Enero\");\n",
    "    case 2:\n",
    "        System.out.println(\"Febrero\");\n",
    "    case 3:\n",
    "        System.out.println(\"Marzo\");\n",
    "    case 4:\n",
    "        System.out.println(\"Abril\");\n",
    "    case 5:\n",
    "        System.out.println(\"Mayo\");\n",
    "    case 6:\n",
    "        System.out.println(\"Junio\");\n",
    "    case 7:\n",
    "        System.out.println(\"Julio\");\n",
    "    case 8:\n",
    "        System.out.println(\"Agosto\");\n",
    "    case 9:\n",
    "        System.out.println(\"Septiembre\");\n",
    "    case 10:\n",
    "        System.out.println(\"Octubre\");\n",
    "    case 11:\n",
    "        System.out.println(\"Noviembre\");\n",
    "    case 12:\n",
    "        System.out.println(\"Diciembre\");\n",
    "    default:\n",
    "        System.out.println(\"Mes no válido\");\n",
    "}"
   ]
  },
  {
   "cell_type": "markdown",
   "metadata": {},
   "source": [
    "### switch-case mejorado o rule-switch (Java 12 en adelante)\n",
    "\n",
    "- Se sustituyen los `:` por `->` y se eliminan los `break`.\n",
    "- Si un bloque `case` tiene más de una instrucción, se usan llaves.\n",
    "\n",
    "```java\n",
    "switch (variable o expresión) {\n",
    "    case valor1 -> {\n",
    "        // código si la variable es igual a valor1\n",
    "    }\n",
    "    case valor2 -> {\n",
    "        // código si la variable es igual a valor2\n",
    "    }\n",
    "    default -> {\n",
    "        // código si la variable no es igual a ninguno de los valores anteriores\n",
    "    }\n",
    "}\n",
    "```"
   ]
  },
  {
   "cell_type": "code",
   "execution_count": 7,
   "metadata": {},
   "outputs": [
    {
     "name": "stdout",
     "output_type": "stream",
     "text": [
      "Introduce un número de mes\n",
      "Mayo\n"
     ]
    }
   ],
   "source": [
    "Scanner teclado = new Scanner(System.in);\n",
    "System.out.println(\"Introduce un número de mes\");\n",
    "int mes = teclado.nextInt();\n",
    "\n",
    "switch (mes) {\n",
    "    case 1 -> System.out.println(\"Enero\");\n",
    "    case 2 -> System.out.println(\"Febrero\");\n",
    "    case 3 -> System.out.println(\"Marzo\");\n",
    "    case 4 -> System.out.println(\"Abril\");\n",
    "    case 5 -> System.out.println(\"Mayo\");\n",
    "    case 6 -> System.out.println(\"Junio\");\n",
    "    case 7 -> System.out.println(\"Julio\");\n",
    "    case 8 -> System.out.println(\"Agosto\");\n",
    "    case 9 -> System.out.println(\"Septiembre\");\n",
    "    case 10 -> System.out.println(\"Octubre\");\n",
    "    case 11 -> System.out.println(\"Noviembre\");\n",
    "    case 12 -> System.out.println(\"Diciembre\");\n",
    "    default -> System.out.println(\"Mes no válido\");\n",
    "}"
   ]
  },
  {
   "cell_type": "markdown",
   "metadata": {},
   "source": [
    "Se puede utilizar también como expresión. Para ello, se debe usar `yield` en cada `case` y `default` para indicar el valor que se debe devolver.\n",
    "\n",
    "En este caso, debe llevar un `;` tras la llave de cierre del `switch`."
   ]
  },
  {
   "cell_type": "code",
   "execution_count": 5,
   "metadata": {},
   "outputs": [
    {
     "name": "stdout",
     "output_type": "stream",
     "text": [
      "Jueves\n"
     ]
    }
   ],
   "source": [
    "char d = 'J';\n",
    "\n",
    "String diaSemana = switch (d) { // Si el case lleva : debemos usar yield obligatoriamente\n",
    "    case 'L': yield \"Lunes\"; \n",
    "    case 'M': yield \"Martes\"; \n",
    "    case 'X': yield \"Miércores\"; \n",
    "    case 'J': yield \"Jueves\"; \n",
    "    case 'V': yield \"Viernes\"; \n",
    "    case 'S': yield \"Sábado\"; \n",
    "    case 'D': yield \"Domingo\"; \n",
    "    default: yield \"\"; \n",
    "}; \n",
    "\n",
    "System.out.println(diaSemana);"
   ]
  },
  {
   "cell_type": "code",
   "execution_count": 10,
   "metadata": {},
   "outputs": [
    {
     "name": "stdout",
     "output_type": "stream",
     "text": [
      "Lunes\n"
     ]
    }
   ],
   "source": [
    "char d = 'L';\n",
    "\n",
    "String diaSemana = switch (d) { // Solo es obligatorio el yield si el case lleva {}, si no, puede ponerse el valor directamente\n",
    "    case 'L' -> {\n",
    "        yield \"Lunes\"; \n",
    "    }\n",
    "    case 'M' -> \"Martes\"; \n",
    "    case 'X' -> \"Miércores\"; \n",
    "    case 'J' -> \"Jueves\"; \n",
    "    case 'V' -> \"Viernes\"; \n",
    "    case 'S' -> \"Sábado\"; \n",
    "    case 'D' -> \"Domingo\"; \n",
    "    default -> \"\"; \n",
    "}; \n",
    "\n",
    "System.out.println(diaSemana);\n"
   ]
  }
 ],
 "metadata": {
  "kernelspec": {
   "display_name": "Java",
   "language": "java",
   "name": "java"
  },
  "language_info": {
   "codemirror_mode": "java",
   "file_extension": ".jshell",
   "mimetype": "text/x-java-source",
   "name": "java",
   "pygments_lexer": "java",
   "version": "21.0.2+13-LTS-58"
  }
 },
 "nbformat": 4,
 "nbformat_minor": 2
}
