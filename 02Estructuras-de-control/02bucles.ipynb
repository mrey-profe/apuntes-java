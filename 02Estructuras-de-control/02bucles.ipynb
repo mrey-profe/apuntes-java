{
 "cells": [
  {
   "cell_type": "markdown",
   "metadata": {},
   "source": [
    "# Estructuras repetitivas\n",
    "\n",
    "## Bucle `for`\n",
    "\n",
    "El bucle `for` es una estructura de control que nos permite ejecutar un bloque de código un número determinado de veces. La sintaxis de un bucle `for` es la siguiente:\n",
    "\n",
    "```java\n",
    "for (inicialización; condición continuación; actualización) {\n",
    "    // bloque de código\n",
    "}\n",
    "```"
   ]
  },
  {
   "cell_type": "code",
   "execution_count": 2,
   "metadata": {
    "vscode": {
     "languageId": "java"
    }
   },
   "outputs": [
    {
     "name": "stdout",
     "output_type": "stream",
     "text": [
      "0\n",
      "2\n",
      "4\n",
      "6\n",
      "8\n"
     ]
    }
   ],
   "source": [
    "for (int i = 0; i < 10; i+=2) {\n",
    "    System.out.println(i);\n",
    "}"
   ]
  },
  {
   "cell_type": "code",
   "execution_count": 2,
   "metadata": {
    "vscode": {
     "languageId": "java"
    }
   },
   "outputs": [
    {
     "name": "stdout",
     "output_type": "stream",
     "text": [
      "0 0\n",
      "0 1\n",
      "0 2\n",
      "0 3\n",
      "0 4\n",
      "0 5\n",
      "0 6\n",
      "0 7\n",
      "0 8\n",
      "0 9\n",
      "1 0\n",
      "1 1\n",
      "1 2\n",
      "1 3\n",
      "1 4\n",
      "1 5\n",
      "1 6\n",
      "1 7\n",
      "1 8\n",
      "1 9\n",
      "2 0\n",
      "2 1\n",
      "2 2\n",
      "2 3\n",
      "2 4\n",
      "2 5\n",
      "2 6\n",
      "2 7\n",
      "2 8\n",
      "2 9\n",
      "3 0\n",
      "3 1\n",
      "3 2\n",
      "3 3\n",
      "3 4\n",
      "3 5\n",
      "3 6\n",
      "3 7\n",
      "3 8\n",
      "3 9\n",
      "4 0\n",
      "4 1\n",
      "4 2\n",
      "4 3\n",
      "4 4\n",
      "4 5\n",
      "4 6\n",
      "4 7\n",
      "4 8\n",
      "4 9\n",
      "5 0\n",
      "5 1\n",
      "5 2\n",
      "5 3\n",
      "5 4\n",
      "5 5\n",
      "5 6\n",
      "5 7\n",
      "5 8\n",
      "5 9\n",
      "6 0\n",
      "6 1\n",
      "6 2\n",
      "6 3\n",
      "6 4\n",
      "6 5\n",
      "6 6\n",
      "6 7\n",
      "6 8\n",
      "6 9\n",
      "7 0\n",
      "7 1\n",
      "7 2\n",
      "7 3\n",
      "7 4\n",
      "7 5\n",
      "7 6\n",
      "7 7\n",
      "7 8\n",
      "7 9\n",
      "8 0\n",
      "8 1\n",
      "8 2\n",
      "8 3\n",
      "8 4\n",
      "8 5\n",
      "8 6\n",
      "8 7\n",
      "8 8\n",
      "8 9\n",
      "9 0\n",
      "9 1\n",
      "9 2\n",
      "9 3\n",
      "9 4\n",
      "9 5\n",
      "9 6\n",
      "9 7\n",
      "9 8\n",
      "9 9\n"
     ]
    }
   ],
   "source": [
    "for (int i = 0; i < 10; i++) {\n",
    "    for (int j = 0; j < 10; j++) {\n",
    "        System.out.println(i + \" \" + j);\n",
    "    }\n",
    "}"
   ]
  },
  {
   "cell_type": "markdown",
   "metadata": {},
   "source": [
    "## Bucle `while`\n",
    "\n",
    "El bucle `while` es una estructura de control que nos permite ejecutar un bloque de código mientras se cumpla una condición. La sintaxis de un bucle `while` es la siguiente:\n",
    "\n",
    "```java\n",
    "while (condición) {\n",
    "    // bloque de código\n",
    "}\n",
    "```"
   ]
  },
  {
   "cell_type": "code",
   "execution_count": 5,
   "metadata": {
    "vscode": {
     "languageId": "java"
    }
   },
   "outputs": [
    {
     "name": "stdout",
     "output_type": "stream",
     "text": [
      "Introduce un número (-1 finaliza): \n"
     ]
    },
    {
     "name": "stdout",
     "output_type": "stream",
     "text": [
      "2\n",
      "Introduce un número (-1 finaliza): \n",
      "5\n",
      "Introduce un número (-1 finaliza): \n",
      "3\n",
      "Introduce un número (-1 finaliza): \n",
      "-1\n",
      "La suma es: 10\n"
     ]
    }
   ],
   "source": [
    "int suma = 0;\n",
    "Scanner teclado = new Scanner(System.in);\n",
    "System.out.println(\"Introduce un número (-1 finaliza): \");\n",
    "int numero = teclado.nextInt();\n",
    "System.out.println(numero);\n",
    "\n",
    "while (numero != -1) {\n",
    "    suma += numero;\n",
    "    System.out.println(\"Introduce un número (-1 finaliza): \");\n",
    "    numero = teclado.nextInt();\n",
    "    System.out.println(numero);\n",
    "}\n",
    "\n",
    "System.out.println(\"La suma es: \" + suma);"
   ]
  },
  {
   "cell_type": "markdown",
   "metadata": {},
   "source": [
    "Siempre hay que leer un valor antes de entrar al bucle `while` para que se ejecute al menos una vez."
   ]
  },
  {
   "cell_type": "markdown",
   "metadata": {},
   "source": [
    "## Bucle `do-while`\n",
    "\n",
    "Funciona como el bucle `while`, pero la condición se evalúa al final del bucle. Por lo tanto, el bloque de código se ejecuta al menos una vez. \n",
    "\n",
    "```java\n",
    "do {\n",
    "    // bloque de código\n",
    "} while (condición);\n",
    "```"
   ]
  },
  {
   "cell_type": "code",
   "execution_count": 1,
   "metadata": {
    "vscode": {
     "languageId": "java"
    }
   },
   "outputs": [
    {
     "ename": "CompilationException",
     "evalue": "",
     "output_type": "error",
     "traceback": [
      "\u001b[1m\u001b[30m|   \u001b[1m\u001b[30m    String respuesta = \u001b[0m\u001b[1m\u001b[30m\u001b[41mteclado\u001b[0m\u001b[1m\u001b[30m.next().toLowerCase();\u001b[0m",
      "\u001b[1m\u001b[31mcannot find symbol\u001b[0m",
      "\u001b[1m\u001b[31m  symbol:   variable teclado\u001b[0m",
      "",
      "\u001b[1m\u001b[30m|   \u001b[1m\u001b[30m} while (\u001b[0m\u001b[1m\u001b[30m\u001b[41mrespuesta\u001b[0m\u001b[1m\u001b[30m.equals(\"s\"));\u001b[0m",
      "\u001b[1m\u001b[31mcannot find symbol\u001b[0m",
      "\u001b[1m\u001b[31m  symbol:   variable respuesta\u001b[0m",
      ""
     ]
    }
   ],
   "source": [
    "int valor = 1;\n",
    "String respuesta;\n",
    "\n",
    "do {\n",
    "    System.out.println(valor);\n",
    "    valor++;\n",
    "    System.out.println(\"¿Quieres que siga? (S/N)\");\n",
    "    respuesta = teclado.next().toLowerCase();\n",
    "} while (respuesta.equals(\"s\"));"
   ]
  },
  {
   "cell_type": "markdown",
   "metadata": {},
   "source": [
    "## Ámbito de las variables\n",
    "\n",
    "¡Ojo! Las variables declaradas dentro de un bucle `for`, `while` o `do-while` solo existen dentro del bucle. Si intentamos acceder a ellas fuera del bucle, obtendremos un error.\n",
    "\n",
    "Se considera incluso fuera del bucle la condición del bucle `while` o `do-while`."
   ]
  },
  {
   "cell_type": "code",
   "execution_count": 6,
   "metadata": {
    "vscode": {
     "languageId": "java"
    }
   },
   "outputs": [
    {
     "name": "stdout",
     "output_type": "stream",
     "text": [
      "0\n",
      "1\n",
      "2\n",
      "3\n",
      "4\n",
      "5\n",
      "6\n",
      "7\n",
      "8\n",
      "9\n"
     ]
    },
    {
     "ename": "CompilationException",
     "evalue": "",
     "output_type": "error",
     "traceback": [
      "\u001b[1m\u001b[30m|   \u001b[1m\u001b[30mSystem.out.println(\u001b[0m\u001b[1m\u001b[30m\u001b[41mi\u001b[0m\u001b[1m\u001b[30m);\u001b[0m",
      "\u001b[1m\u001b[31mcannot find symbol\u001b[0m",
      "\u001b[1m\u001b[31m  symbol:   variable i\u001b[0m",
      ""
     ]
    }
   ],
   "source": [
    "for (int i = 0; i < 10; i++) {\n",
    "    System.out.println(i);\n",
    "}\n",
    "\n",
    "System.out.println(i);"
   ]
  },
  {
   "cell_type": "code",
   "execution_count": 9,
   "metadata": {
    "vscode": {
     "languageId": "java"
    }
   },
   "outputs": [
    {
     "ename": "CompilationException",
     "evalue": "",
     "output_type": "error",
     "traceback": [
      "\u001b[1m\u001b[30m|   \u001b[1m\u001b[30m} while (\u001b[0m\u001b[1m\u001b[30m\u001b[41mn\u001b[0m\u001b[1m\u001b[30m != -1);\u001b[0m",
      "\u001b[1m\u001b[31mcannot find symbol\u001b[0m",
      "\u001b[1m\u001b[31m  symbol:   variable n\u001b[0m",
      ""
     ]
    }
   ],
   "source": [
    "int suma = 0;\n",
    "\n",
    "do {\n",
    "    System.out.println(\"Introduce un número (-1 finaliza): \");\n",
    "    int n = teclado.nextInt();\n",
    "    System.out.println(n);\n",
    "    suma += n;\n",
    "} while (n != -1);"
   ]
  },
  {
   "cell_type": "code",
   "execution_count": 12,
   "metadata": {
    "vscode": {
     "languageId": "java"
    }
   },
   "outputs": [
    {
     "name": "stdout",
     "output_type": "stream",
     "text": [
      "Introduce un número (-1 finaliza): \n"
     ]
    },
    {
     "name": "stdout",
     "output_type": "stream",
     "text": [
      "2\n",
      "Introduce un número (-1 finaliza): \n",
      "3\n",
      "Introduce un número (-1 finaliza): \n",
      "-1\n",
      "La suma es: 5\n"
     ]
    }
   ],
   "source": [
    "int suma = 0, n; //La variable n debe ser declarada fuera del bucle\n",
    "\n",
    "do {\n",
    "    System.out.println(\"Introduce un número (-1 finaliza): \");\n",
    "    n = teclado.nextInt();\n",
    "    System.out.println(n);\n",
    "    if (n != -1) {\n",
    "        suma += n;\n",
    "    }\n",
    "} while (n != -1);\n",
    "\n",
    "System.out.println(\"La suma es: \" + suma);"
   ]
  },
  {
   "cell_type": "markdown",
   "metadata": {},
   "source": [
    "## Sentencias `break` y `continue`\n",
    "\n",
    "La sentencia `break` se utiliza para salir de un bucle. La sentencia `continue` se utiliza para saltar a la siguiente iteración del bucle.\n",
    "\n",
    "Debemos tratar de evitar el uso de estas sentencias, ya que pueden hacer que el código sea difícil de entender."
   ]
  },
  {
   "cell_type": "markdown",
   "metadata": {},
   "source": [
    "## Equivalencia `for`-`while`\t\n",
    "\n",
    "Cualquier bucle `for` se puede convertir en un bucle `while` y viceversa. Por ejemplo, el bucle `for`. Aunque, en algunos casos, uno de los dos bucles puede ser más claro y fácil de entender."
   ]
  },
  {
   "cell_type": "code",
   "execution_count": 4,
   "metadata": {
    "vscode": {
     "languageId": "java"
    }
   },
   "outputs": [
    {
     "name": "stdout",
     "output_type": "stream",
     "text": [
      "0 1 2 3 4 5 6 7 8 9 10 "
     ]
    }
   ],
   "source": [
    "for (int i = 0; i <= 10; i++) {\n",
    "    System.out.print(i + \" \");\n",
    "}"
   ]
  },
  {
   "cell_type": "code",
   "execution_count": 3,
   "metadata": {
    "vscode": {
     "languageId": "java"
    }
   },
   "outputs": [
    {
     "name": "stdout",
     "output_type": "stream",
     "text": [
      "0 1 2 3 4 5 6 7 8 9 10 "
     ]
    }
   ],
   "source": [
    "int i = 0;\n",
    "while (i <= 10) {\n",
    "    System.out.print(i + \" \");\n",
    "    i++;\n",
    "}"
   ]
  }
 ],
 "metadata": {
  "kernelspec": {
   "display_name": "Java",
   "language": "java",
   "name": "java"
  },
  "language_info": {
   "codemirror_mode": "java",
   "file_extension": ".jshell",
   "mimetype": "text/x-java-source",
   "name": "Java",
   "pygments_lexer": "java",
   "version": "21.0.2+13-LTS-58"
  }
 },
 "nbformat": 4,
 "nbformat_minor": 2
}
