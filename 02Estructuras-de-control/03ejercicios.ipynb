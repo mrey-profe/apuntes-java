{
 "cells": [
  {
   "cell_type": "markdown",
   "metadata": {},
   "source": [
    "# Ejercicio 1\n",
    "\n",
    "Crea un un programa que pida las notas de un alumno y calcule la nota media.\n",
    "\n",
    "# Ejercicio 2\n",
    "\n",
    "Crea un programa que pida un número y calcule su factorial.\n",
    "\n",
    "# Ejercicio 3 ([https://wirtzjava.blogspot.com/])\n",
    "\n",
    "Queremos conocer los datos estadísticos de una asignatura, por lo tanto, necesitamos un\n",
    "programa al que se le introduzcan secuencialmente las notas de los alumnos y que nos muestre:\n",
    "\n",
    "- El tanto por ciento de alumnos que han superado la asignatura.\n",
    "- El tanto por ciento de notables y sobresalientes de la asignatura.\n",
    "\n",
    "# Ejercicio 4 ([https://wirtzjava.blogspot.com/])\n",
    "\n",
    "Queremos realizar un pequeño programa para introducirlo en el ordenador de a bordo de nuestro coche y que nos informe del consumo medio del coche cada 100 km. Diseña un programa al que le introduzcamos el kilometraje de la última vez que se repostó, el kilometraje actual, los litros de gasolina que tenía al finalizar la última vez que repostó y la cantidad de gasolina actual.\n",
    "\n",
    "El programa nos debe mostrar el consumo medio del coche cada 100 km.\n",
    "\n",
    "# Ejercicio 5 ([https://wirtzjava.blogspot.com/])\n",
    "\n",
    "Diseñar un programa al que se le introduzcan por consola tres números enteros. Si todos son negativos, mostrar el producto de los tres. Si alguno es negativo, pero no todos, mostrar la suma de los tres. En caso de que todos sean positivos sumar los dos primeros y multiplicar dicha suma por el tercero. ¿existe alguna combinación de los valores leídos no contemplado en el algoritmo? (Suponer que el cero es un número positivo). Hacer el programa lo más sencillo posible.\n",
    "\n",
    "# Ejercicio 6 ([https://wirtzjava.blogspot.com/])\n",
    "\n",
    "Diseñar un algoritmo al que se le introduzca la cantidad de horas, minutos y segundo mostrados en un reloj digital, que verifique que los valores sean correctos y calcule el total de segundos transcurridos desde el comienzo del día. No emplear las clases de fecha de Java.\n",
    "\n",
    "# Ejercicio 7 ([https://wirtzjava.blogspot.com/])\n",
    "\n",
    "Introduciendo dos fechas (día, mes, año), hacer un programa que nos diga cuál de las dos es mayor. Suponemos que se introducen fechas válidas y no empleamos las clases de fecha de Java.\n",
    "\n",
    "# Ejercicio 8\n",
    "\n",
    "Escribe un programa que acepte un personaje de carnaval y muestre un mensaje personalizado para ese personaje. Por ejemplo, si el usuario introduce \"Pirata\", el programa podría imprimir \"¡Arr, prepárate para surcar los siete mares!\".\n",
    "\n",
    "# Ejercicio 9\n",
    "\n",
    "Programa al que le introduzcas un número y que garantice que es positivo, es decir si lo introducimos menor o igual que cero nos obligará a volver a introducirlo las veces que sea necesario hasta que se introduzca uno positivo.\n",
    "\n",
    "# Ejercicio 10 ([https://wirtzjava.blogspot.com/])\n",
    "\n",
    "Diseñar un algoritmo que informe de los números perfectos que hay entre 1 y 10000. Un número perfecto si es igual a la suma de todos los divisores menores que él.\n",
    "\n",
    "# Ejercicio 11 ([https://wirtzjava.blogspot.com/])\n",
    "\n",
    "Programar el siguiente juego. El ordenador genera un número al azar entre 0 y 99 que habrá que adivinar. El jugador intentará adivinar el número y el programa le responderá si es mayor, menor o si ha acertado. Se dispone de un máximo de 5 intentos.\n"
   ]
  }
 ],
 "metadata": {
  "language_info": {
   "name": "python"
  }
 },
 "nbformat": 4,
 "nbformat_minor": 2
}
