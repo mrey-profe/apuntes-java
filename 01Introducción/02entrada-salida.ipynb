{
 "cells": [
  {
   "cell_type": "markdown",
   "metadata": {},
   "source": [
    "# Flujo estándar de datos\n",
    "\n",
    "- `System.in`: flujo de entrada estándar (teclado).\n",
    "- `System.out`: flujo de salida estándar (pantalla).\n",
    "- `System.err`: flujo de error estándar (pantalla)."
   ]
  },
  {
   "cell_type": "code",
   "execution_count": 1,
   "metadata": {
    "vscode": {
     "languageId": "java"
    }
   },
   "outputs": [
    {
     "name": "stdout",
     "output_type": "stream",
     "text": [
      "¡Hola mundo!\n"
     ]
    },
    {
     "name": "stderr",
     "output_type": "stream",
     "text": [
      "Esto es un error\n"
     ]
    }
   ],
   "source": [
    "System.out.println(\"¡Hola mundo!\");\n",
    "\n",
    "System.err.println(\"Esto es un error\"); // Salida de errores (en rojo, habitualmente)"
   ]
  },
  {
   "cell_type": "markdown",
   "metadata": {},
   "source": [
    "## Lectura de datos\n",
    "\n",
    "Para la entrada de datos, se utiliza la clase `Scanner` que se encuentra en el paquete `java.util`. \n",
    "\n",
    "Esta clase tiene diferentes métodos para leer diferentes tipos de datos. Algunos de los métodos más utilizados son:\n",
    "\n",
    "- `String nextLine()`: Lee una línea completa.\n",
    "- `int nextInt()`: Lee un entero.\n",
    "- `byte nextByte()`: Lee un byte.\n",
    "- `short nextShort()`: Lee un entero corto.\n",
    "- `long nextLong()`: Lee un entero largo.\n",
    "- `double nextDouble()`: Lee un número decimal.\n",
    "- `float nextFloat()`: Lee un número decimal corto.\n",
    "- `boolean nextBoolean()`: Lee un valor booleano.\n",
    "- `String next()`: Lee una palabra (realmente, un *token*, pero, habitualmente, el separador es el espacio).\n",
    "- `void useDelimiter(String pattern)`: Establece el delimitador de tokens, por defecto es el espacio.\n",
    "- `void close()`: Cierra el flujo de entrada."
   ]
  },
  {
   "cell_type": "code",
   "execution_count": 3,
   "metadata": {
    "vscode": {
     "languageId": "java"
    }
   },
   "outputs": [
    {
     "name": "stdout",
     "output_type": "stream",
     "text": [
      "Introduce un número: \n",
      "El número introducido es: 3\n"
     ]
    }
   ],
   "source": [
    "Scanner teclado = new Scanner(System.in);\n",
    "System.out.println(\"Introduce un número: \");\n",
    "int numero = teclado.nextInt();\n",
    "System.out.println(\"El número introducido es: \" + numero);"
   ]
  },
  {
   "cell_type": "code",
   "execution_count": null,
   "metadata": {
    "vscode": {
     "languageId": "java"
    }
   },
   "outputs": [],
   "source": [
    "Scanner teclado = new Scanner(System.in);\n",
    "System.out.println(\"Introduce un número con decimales: \");\n",
    "double numero = teclado.nextDouble(); // Ojo, en consola el separador decimal es la coma si el teclado está en español\n",
    "System.out.println(\"El número introducido es: \" + numero);"
   ]
  },
  {
   "cell_type": "code",
   "execution_count": 4,
   "metadata": {
    "vscode": {
     "languageId": "java"
    }
   },
   "outputs": [
    {
     "name": "stdout",
     "output_type": "stream",
     "text": [
      "Introduce dos números: \n",
      "La suma de los dos números es: 7\n"
     ]
    }
   ],
   "source": [
    "Scanner teclado = new Scanner(System.in);\n",
    "System.out.println(\"Introduce dos números: \"); // Se pueden introducir separados por un espacio o por un salto de línea\n",
    "int numero1 = teclado.nextInt();\n",
    "int numero2 = teclado.nextInt();\n",
    "System.out.println(\"La suma de los dos números es: \" + (numero1 + numero2));"
   ]
  },
  {
   "cell_type": "code",
   "execution_count": 5,
   "metadata": {
    "vscode": {
     "languageId": "java"
    }
   },
   "outputs": [
    {
     "name": "stdout",
     "output_type": "stream",
     "text": [
      "Introduce tu nombre: \n",
      "¡Hola Marta!\n"
     ]
    }
   ],
   "source": [
    "Scanner teclado = new Scanner(System.in);\n",
    "System.out.println(\"Introduce tu nombre: \");\n",
    "String nombre = teclado.nextLine();\n",
    "System.out.println(\"¡Hola \" + nombre + \"!\");"
   ]
  },
  {
   "cell_type": "code",
   "execution_count": 1,
   "metadata": {
    "vscode": {
     "languageId": "java"
    }
   },
   "outputs": [
    {
     "name": "stdout",
     "output_type": "stream",
     "text": [
      "Introduce un número: \n",
      "Introduce tu nombre: \n",
      "¡Hola !\n"
     ]
    }
   ],
   "source": [
    "Scanner teclado = new Scanner(System.in);\n",
    "System.out.println(\"Introduce un número: \");\n",
    "double numero = teclado.nextDouble();\n",
    "System.out.println(\"Introduce tu nombre: \");\n",
    "String nombre = teclado.nextLine();\n",
    "System.out.println(\"¡Hola \" + nombre + \"!\");"
   ]
  },
  {
   "cell_type": "markdown",
   "metadata": {},
   "source": [
    "**¿Qué está pasando?**\n",
    "\n",
    "Los métodos `nextInt()`, `nextDouble()`, `nextBoolean()`, etc. no leen el salto de línea, por lo que, si después de leer un número con `nextInt()` o `nextDouble()` se lee una línea con `nextLine()`, se obtendrá una cadena vacía (se lee todo lo que hay hasta el salto de línea)."
   ]
  },
  {
   "cell_type": "code",
   "execution_count": 10,
   "metadata": {
    "vscode": {
     "languageId": "java"
    }
   },
   "outputs": [
    {
     "name": "stdout",
     "output_type": "stream",
     "text": [
      "Introduce un número: \n"
     ]
    },
    {
     "name": "stdout",
     "output_type": "stream",
     "text": [
      "Introduce tu nombre: \n",
      "¡Hola Xiana!\n"
     ]
    }
   ],
   "source": [
    "Scanner teclado = new Scanner(System.in);\n",
    "System.out.println(\"Introduce un número: \");\n",
    "double numero = teclado.nextDouble();\n",
    "teclado.nextLine(); // Limpia el buffer\n",
    "System.out.println(\"Introduce tu nombre: \");\n",
    "String nombre = teclado.nextLine();\n",
    "System.out.println(\"¡Hola \" + nombre + \"!\");"
   ]
  },
  {
   "cell_type": "markdown",
   "metadata": {},
   "source": [
    "No sucede si lo que leo después es otro número."
   ]
  },
  {
   "cell_type": "code",
   "execution_count": 6,
   "metadata": {
    "vscode": {
     "languageId": "java"
    }
   },
   "outputs": [
    {
     "name": "stdout",
     "output_type": "stream",
     "text": [
      "Introduce dos números: \n"
     ]
    },
    {
     "name": "stdout",
     "output_type": "stream",
     "text": [
      "Se han introducido 3.5 y 6\n"
     ]
    }
   ],
   "source": [
    "Scanner teclado = new Scanner(System.in);\n",
    "System.out.println(\"Introduce dos números: \");\n",
    "double numero1 = teclado.nextDouble();\n",
    "int numero2 = teclado.nextInt();\n",
    "System.out.println(\"Se han introducido \" + numero1 + \" y \" + numero2);"
   ]
  },
  {
   "cell_type": "markdown",
   "metadata": {},
   "source": [
    "**No** existe un método `nextChar()`, por lo que, si se necesita leer un carácter, se puede leer una línea y obtener el primer carácter de la cadena."
   ]
  },
  {
   "cell_type": "code",
   "execution_count": 11,
   "metadata": {
    "vscode": {
     "languageId": "java"
    }
   },
   "outputs": [
    {
     "name": "stdout",
     "output_type": "stream",
     "text": [
      "Introduce una letra: \n",
      "La letra introducida es: d\n"
     ]
    }
   ],
   "source": [
    "Scanner teclado = new Scanner(System.in);\n",
    "System.out.println(\"Introduce una letra: \");\n",
    "char letra = teclado.next().charAt(0);\n",
    "System.out.println(\"La letra introducida es: \" + letra);"
   ]
  }
 ],
 "metadata": {
  "kernelspec": {
   "display_name": "Java",
   "language": "java",
   "name": "java"
  },
  "language_info": {
   "codemirror_mode": "java",
   "file_extension": ".jshell",
   "mimetype": "text/x-java-source",
   "name": "Java",
   "pygments_lexer": "java",
   "version": "21.0.2+13-LTS-58"
  }
 },
 "nbformat": 4,
 "nbformat_minor": 2
}
