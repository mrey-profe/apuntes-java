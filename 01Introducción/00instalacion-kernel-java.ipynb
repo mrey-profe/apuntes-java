{
 "cells": [
  {
   "cell_type": "markdown",
   "metadata": {},
   "source": [
    "# Instalación kernel de Java en Jupyter\n",
    "\n",
    "## Instalación de jshell\n",
    "\n",
    "`choco install jbang`\n",
    "\n",
    "## Instalación kernel iJava\n",
    "\n",
    "Estos primeros pasos pueden no ser necesarios:\n",
    "\n",
    "- Abrir powershell como administrador\n",
    "- Instalar pip: [https://www.dataquest.io/blog/install-pip-windows/]\n",
    "- Instalar jupyter: `pip install --upgrade jupyter`\n",
    "  \n",
    "Pasos para instalar el kernel de Java en Jupyter (Windows):\n",
    "\n",
    "- Descargamos el archivo `ijava-1.3.0.zip` desde el siguiente enlace: [https://github.com/SpencerPark/IJava/releases/tag/v1.3.0]\n",
    "- Lo descomprimimos y lanzamos el script `install.py`.\n",
    "- Lo instalará en C:\\ProgramData\\jupyter\\kernels\\java\n",
    "- Lo  movemos a C:\\Users\\usuario\\AppData\\Roaming\\jupyter\\kernels\\java\\ijava-1.3.0.jar\n",
    "- Modificamos el archivo `kernel.json` para que apunte a la nueva ubicación del archivo `ijava-1.3.0.jar` C:\\\\Users\\\\usuario\\\\AppData\\\\Roaming\\\\jupyter\\\\kernels\\\\java\\\\ijava-1.3.0.jar\n",
    "\n",
    "Los pasos en Linux son similares, pero habrá que crear la carpeta `/usr/local/share/jupyter` y dar le permisos de escritura.\n",
    "\n"
   ]
  }
 ],
 "metadata": {
  "kernelspec": {
   "display_name": "Java",
   "language": "java",
   "name": "java"
  },
  "language_info": {
   "name": "java"
  }
 },
 "nbformat": 4,
 "nbformat_minor": 2
}
