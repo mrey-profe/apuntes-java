{
 "cells": [
  {
   "cell_type": "markdown",
   "metadata": {},
   "source": [
    "# Instalación kernel de Java en Jupyter\n",
    "\n",
    "## Instalación de jshell\n",
    "\n",
    "`choco install jbang`\n",
    "\n",
    "## Instalación kernel iJava\n",
    "\n",
    "- Descargamos el archivo `ijava-1.3.0.zip` desde el siguiente enlace: [https://github.com/SpencerPark/IJava/releases/tag/v1.3.0]\n",
    "- Lo descomprimimos y copiamos el contenido en la carpeta C:\\\\Users\\\\usuario\\\\AppData\\\\Roaming\\\\jupyter\\\\kernels\\\\java\\\\ijava-1.3.0.jar\n",
    "- Lanzamos el script `install.py`\n",
    "\n"
   ]
  }
 ],
 "metadata": {
  "kernelspec": {
   "display_name": "Java",
   "language": "java",
   "name": "java"
  },
  "language_info": {
   "name": "java"
  }
 },
 "nbformat": 4,
 "nbformat_minor": 2
}
