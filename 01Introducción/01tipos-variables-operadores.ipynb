{
 "cells": [
  {
   "cell_type": "markdown",
   "metadata": {},
   "source": [
    "# Introducción a Java\n",
    "\n",
    "Java es un lenguaje de programación de propósito general, concurrente, orientado a objetos, que fue diseñado específicamente para tener tan pocas dependencias de implementación como fuera posible. Su intención es \"escribir una vez, ejecutar en cualquier lugar\" (WORA), lo que significa que el código que es ejecutado en una plataforma no tiene que ser recompilado para funcionar en otra.\n",
    "\n",
    "Java es un lenguaje compilado, pero en lugar de compilar directamente a código máquina, compila a un bytecode que es ejecutado por una máquina virtual Java (JVM). Esto significa que el código Java puede funcionar en cualquier máquina que tenga una implementación de la JVM."
   ]
  },
  {
   "cell_type": "markdown",
   "metadata": {},
   "source": [
    "## Estructura de un programa en Java\n",
    "\n",
    "Un programa en Java está compuesto por una o más clases. Cada clase es un archivo separado, y cada archivo debe tener el mismo nombre que la clase que contiene. Por ejemplo, el código para una clase llamada `MiClase` debería estar en un archivo llamado `MiClase.java`.\n",
    "\n",
    "Un fichero de código fuente Java puede contener varias clases, pero solo una de ellas puede ser pública. El nombre del archivo debe coincidir con el nombre de la clase pública. Habitualmente, habrá una clase por archivo.\n",
    "\n",
    "Un programa Java consta de al menos una clase que contiene un método llamado `main`. El método `main` es el punto de entrada de un programa Java, y es el método que se ejecuta cuando el programa es lanzado. Esta clase principal debe ser pública y estática (no va a ser instanciada) y el método `main` debe ser público, estático y no devolver ningún valor.\n",
    "\n",
    "```java\n",
    "public class MiClase {\n",
    "    public static void main(String[] args) {\n",
    "        // Código que se ejecutará cuando el programa sea lanzado\n",
    "    }\n",
    "}\n",
    "```"
   ]
  },
  {
   "cell_type": "code",
   "execution_count": 3,
   "metadata": {},
   "outputs": [],
   "source": [
    "public class HolaMundo {\n",
    "    public static void main(String[] args) {\n",
    "        System.out.println(\"Hola Mundo\");\n",
    "    }\n",
    "}"
   ]
  },
  {
   "cell_type": "markdown",
   "metadata": {},
   "source": [
    "## Escritura por pantalla\n",
    "\n",
    "Para escribir por pantalla en Java se utiliza el método `System.out.println`. Este método imprime una cadena de texto en la consola y añade un salto de línea al final."
   ]
  },
  {
   "cell_type": "code",
   "execution_count": 4,
   "metadata": {},
   "outputs": [
    {
     "name": "stdout",
     "output_type": "stream",
     "text": [
      "Hola Mundo\n"
     ]
    }
   ],
   "source": [
    "System.out.println(\"Hola Mundo\");"
   ]
  },
  {
   "cell_type": "markdown",
   "metadata": {},
   "source": [
    "## Sintaxis básica\n",
    "\n",
    "- Java es Case Sensitive, es decir, diferencia entre mayúsculas y minúsculas.\n",
    "- Los bloques de código se delimitan con llaves `{}`.\n",
    "- Las instrucciones terminan *SIEMPRE* con punto y coma `;`."
   ]
  },
  {
   "cell_type": "markdown",
   "metadata": {},
   "source": [
    "## Comentarios\n",
    "\n",
    "Exisnten tres tipos de comentarios en Java:\n",
    "\n",
    "- Comentario de una línea: `// Comentario de una línea`\n",
    "- Comentario de varias líneas: `/* Comentario de varias líneas */`\n",
    "- Comentario de documentación: `/** Comentario de documentación */`"
   ]
  },
  {
   "cell_type": "code",
   "execution_count": null,
   "metadata": {},
   "outputs": [],
   "source": [
    "public class Rectangulo {\n",
    "    private double base; // Atributo público\n",
    "    private double altura;\n",
    "\n",
    "    public Rectangulo(double base, double altura) {\n",
    "        /* Este es\n",
    "        el constructor */\n",
    "        this.base = base;\n",
    "        this.altura = altura;\n",
    "    }\n",
    "\n",
    "    /**\n",
    "     * Este método calcula el área del rectángulo\n",
    "     * @return el área del rectángulo\n",
    "     */\n",
    "    public double area() {\n",
    "        return base * altura;\n",
    "    }\n",
    "}"
   ]
  },
  {
   "cell_type": "markdown",
   "metadata": {},
   "source": [
    "## Identificadores\n",
    "\n",
    "En Java, los identificadores (nombres de variables, métodos, clases, etc.) deben seguir las siguientes reglas:\n",
    "\n",
    "- Deben comenzar con una letra, un signo de dólar `$` o un guión bajo `_`.\n",
    "- Case Sensitive.\n",
    "- No pueden contener espacios en blanco.\n",
    "- No pueden ser una palabra reservada:\n",
    "\n",
    "```java\n",
    "abstract    assert      boolean     break       byte        case\n",
    "catch       char        class       const       continue    default\n",
    "do          double      else        enum        extends     final\n",
    "finally     float       for         goto        if          implements\n",
    "import      instanceof  int         interface   long        native\n",
    "new         package     private     protected   public      return\n",
    "short       static      strictfp    super       switch      synchronized\n",
    "this        throw       throws      transient   try         void\n",
    "volatile    while\n",
    "```\n",
    "\n",
    "### Convenciones de nombres\n",
    "\n",
    "- Los nombres de **variables** comienzan con minúscula y utilizan camelCase. Suelen comenzar con una letra, evitando `$` y `_`.\n",
    "- Los nombres de **clases** comienzan con mayúscula y utilizan PascalCase.\n",
    "- Los nombres de **métodos** comienzan con minúscula y utilizan camelCase.\n",
    "- Las **constantes** se escriben en mayúsculas y con guiones bajos.\n",
    "- Los nombres de **paquetes** comienzan con minúscula y utilizan camelCase."
   ]
  },
  {
   "cell_type": "markdown",
   "metadata": {},
   "source": [
    "## Tipos de datos\n",
    "\n",
    "Java es un lenguaje de programación fuertemente tipado, lo que significa que **TODAS** las variables deben tener un tipo de datos definido. Los tipos de datos en Java se dividen en dos categorías: primitivos y no primitivos.\n",
    "\n",
    "### Tipos de datos primitivos\n",
    "\n",
    "Los tipos de datos primitivos son los tipos de datos más básicos disponibles en Java. No son objetos y no tienen métodos. \n",
    "\n",
    "- `byte`: 8 bits, con signo. Rango de -128 a 127.\n",
    "- `short`: 16 bits, con signo. Rango de -32.768 a 32.767.\n",
    "- `int`: 32 bits, con signo. Rango de $-2^{31}$ a $2^{31}-1$.\n",
    "- `long`: 64 bits, con signo. Rango de $-2^{63}$ a $2^{63}-1$.\n",
    "- `float`: 32 bits.\n",
    "- `double`: 64 bits, doble precisión.\n",
    "- `boolean`: 1 bit, `true` o `false`.\n",
    "- `char`: tipo entero para almacenar caracteres (almacenará su código UNICODE).\n",
    "- `void`: No tiene valor.\n",
    "\n",
    "Si se excede el rango de un tipo de dato, se producirá desbordamiento (*overflow*)."
   ]
  },
  {
   "cell_type": "code",
   "execution_count": 1,
   "metadata": {},
   "outputs": [
    {
     "name": "stdout",
     "output_type": "stream",
     "text": [
      "5 20123456\n"
     ]
    }
   ],
   "source": [
    "int b;\n",
    "\n",
    "b = 6;\n",
    "\n",
    "int a = 5;\n",
    "long b = 20_123_456;\n",
    "\n",
    "System.out.println(a + \" \" + b);"
   ]
  },
  {
   "cell_type": "code",
   "execution_count": 12,
   "metadata": {},
   "outputs": [
    {
     "ename": "CompilationException",
     "evalue": "",
     "output_type": "error",
     "traceback": [
      "\u001b[1m\u001b[30m|   \u001b[1m\u001b[30mc = \u001b[0m\u001b[1m\u001b[30m\u001b[41ma * b\u001b[0m\u001b[1m\u001b[30m;\u001b[0m",
      "\u001b[1m\u001b[31mincompatible types: possible lossy conversion from int to byte\u001b[0m",
      ""
     ]
    }
   ],
   "source": [
    "byte a = 5, b = 2, c;\n",
    "\n",
    "c = a * b;"
   ]
  },
  {
   "cell_type": "markdown",
   "metadata": {},
   "source": [
    "### Literales\n",
    "\n",
    "Un literal es un valor fijo que se utiliza en una expresión.\n",
    "\n",
    "- `int`:\n",
    "  - Decimal: `int decimal = 100;`\n",
    "  - Octal: `int octal = 0144;`\n",
    "  - Hexadecimal: `int hex = 0x64;`\n",
    "  - Binario: `int bin = 0b1100100;`\n",
    "- `long`:\n",
    "  - Sufijo `L` o `l`: `long l = 100L;`\n",
    "- `float`:\n",
    "  - Sufijo `F` o `f`: `float f = 100.0f;`\n",
    "  - Notación científica: `float f = 1.0e2f;`\n",
    "- `double`:\n",
    "  - Sufijo `D` o `d`: `double d = 100.0;`\n",
    "  - Notación científica: `double d = 1.0e2;`\n",
    "- `char`:\n",
    "  - Carácter: `char c = 'a';`\n",
    "  - Código UNICODE: `char c = '\\u0061';`\n",
    "  - Entero: `char c = 97;`\n",
    "  - Escape: `char c = '\\n';`\n",
    "- `boolean`:\n",
    "  - `boolean b = true;`\n",
    "  - `boolean b = false;`\n",
    "\n",
    "Es obligatorio indicar el sufijo de los literales `long` y `float`."
   ]
  },
  {
   "cell_type": "code",
   "execution_count": 3,
   "metadata": {},
   "outputs": [
    {
     "ename": "CompilationException",
     "evalue": "",
     "output_type": "error",
     "traceback": [
      "\u001b[1m\u001b[30m|   \u001b[1m\u001b[30mfloat c = \u001b[0m\u001b[1m\u001b[30m\u001b[41m5.5\u001b[0m\u001b[1m\u001b[30m;\u001b[0m",
      "\u001b[1m\u001b[31mincompatible types: possible lossy conversion from double to float\u001b[0m",
      ""
     ]
    }
   ],
   "source": [
    "float c = 5.5;"
   ]
  },
  {
   "cell_type": "code",
   "execution_count": 5,
   "metadata": {},
   "outputs": [
    {
     "ename": "CompilationException",
     "evalue": "",
     "output_type": "error",
     "traceback": [
      "\u001b[1m\u001b[30m|   \u001b[1m\u001b[30mlong d = \u001b[0m\u001b[1m\u001b[30m\u001b[41m\u001b[0m\u001b[1m\u001b[30m1234567890123456789;\u001b[0m",
      "\u001b[1m\u001b[31minteger number too large\u001b[0m",
      ""
     ]
    }
   ],
   "source": [
    "long d = 1234567890123456789;"
   ]
  },
  {
   "cell_type": "code",
   "execution_count": 9,
   "metadata": {},
   "outputs": [
    {
     "name": "stdout",
     "output_type": "stream",
     "text": [
      "a\n"
     ]
    },
    {
     "name": "stdout",
     "output_type": "stream",
     "text": [
      "b\n"
     ]
    }
   ],
   "source": [
    "char c = 97;\n",
    "System.out.println(c);\n",
    "c += 1;\n",
    "System.out.println(c);"
   ]
  },
  {
   "cell_type": "markdown",
   "metadata": {},
   "source": [
    "### Declación de variables\n",
    "\n",
    "La declaración de una variable en Java se compone de tres partes:\n",
    "\n",
    "1. Tipo de dato.\n",
    "2. Nombre de la variable.\n",
    "3. Opcionalmente, un valor inicial. (Inicialización)\n",
    "\n",
    "```java\n",
    "int edad; // Declaración\n",
    "edad = 20; // Inicialización\n",
    "```\n",
    "\n",
    "También se puede declarar e inicializar una variable en una sola línea:\n",
    "\n",
    "```java\n",
    "int edad = 20; // Declaración e inicialización\n",
    "```\n",
    "\n",
    "Para inicializar varias variables del mismo tipo en una sola línea, se puede hacer de la siguiente manera:\n",
    "\n",
    "```java\n",
    "int a, b, c;\n",
    "int edad = 20, altura = 180, peso = 80; // Declaración e inicialización\n",
    "int d, e, f = 10; // Declaración e inicialización\n",
    "int d = 2, e, f = 10; // Declaración e inicialización\n",
    "```\n",
    "\n",
    "Para inicializar variables de tipos no primitivos (instanciación), se utiliza la palabra reservada `new`:\n",
    "\n",
    "```java\n",
    "Rectangulo r = new Rectangulo(20, 10); //Llamada al constructor\n",
    "```"
   ]
  },
  {
   "cell_type": "code",
   "execution_count": 10,
   "metadata": {},
   "outputs": [
    {
     "ename": "CompilationException",
     "evalue": "",
     "output_type": "error",
     "traceback": [
      "\u001b[1m\u001b[30m|   \u001b[1m\u001b[30mint a = 10,\u001b[0m\u001b[1m\u001b[30m\u001b[41m\u001b[0m\u001b[1m\u001b[30m float c = 2.4f;\u001b[0m",
      "\u001b[1m\u001b[31m<identifier> expected\u001b[0m",
      ""
     ]
    }
   ],
   "source": [
    "int a = 10, float c = 2.4f;"
   ]
  },
  {
   "cell_type": "code",
   "execution_count": 11,
   "metadata": {},
   "outputs": [],
   "source": [
    "int a = 10;\n",
    "float c = 2.4f;"
   ]
  },
  {
   "cell_type": "markdown",
   "metadata": {},
   "source": [
    "## La clase `String`\n",
    "\n",
    "La clase `String` es una clase predefinida en Java que representa una secuencia de caracteres. En Java, las cadenas de texto se representan como objetos de la clase `String`.\n",
    "\n",
    "```java\n",
    "String nombre = \"Juan\"; //No es necesario utilizar la palabra reservada new\n",
    "```"
   ]
  },
  {
   "cell_type": "code",
   "execution_count": 14,
   "metadata": {},
   "outputs": [
    {
     "name": "stdout",
     "output_type": "stream",
     "text": [
      "Hola Juan\n"
     ]
    }
   ],
   "source": [
    "String nombre = \"Juan\";\n",
    "System.out.println(\"Hola \" + nombre);"
   ]
  },
  {
   "cell_type": "markdown",
   "metadata": {},
   "source": [
    "## Conversión de tipos (*casting*)\n",
    "\n",
    "La conversión de tipos es la forma de convertir un tipo de dato en otro. En Java, existen dos tipos de conversión: conversión implícita y conversión explícita.\n",
    "\n",
    "### Conversión implícita\n",
    "\n",
    "La conversión implícita es la conversión que se realiza automáticamente por el compilador. Se produce cuando se asigna un valor de un tipo de dato más pequeño a un tipo de dato más grande.\n",
    "\n",
    "```java\n",
    "int a = 10;\n",
    "long b = a; // Conversión implícita\n",
    "```\n",
    "\n",
    "### Conversión explícita\n",
    "\n",
    "La conversión explícita es la conversión que se realiza manualmente por el programador. Se lleva a cabo indicando el tipo de dato al que se quiere convertir entre paréntesis.\n",
    "\n",
    "```java\n",
    "long a = 100;\n",
    "int b = (int) a; // Conversión explícita\n",
    "```\n"
   ]
  },
  {
   "cell_type": "code",
   "execution_count": 14,
   "metadata": {},
   "outputs": [
    {
     "name": "stdout",
     "output_type": "stream",
     "text": [
      "15\n"
     ]
    }
   ],
   "source": [
    "byte a = 5, b = 3, c;\n",
    "\n",
    "c = (byte) (a * b);\n",
    "\n",
    "System.out.println(c);"
   ]
  },
  {
   "cell_type": "markdown",
   "metadata": {},
   "source": [
    "## Operadores\n",
    "\n",
    "### Operadores Aritméticos\n",
    "#### Unarios\n",
    "\n",
    "|Operador|Significado|\n",
    "|-|-|\n",
    "|`+`|Número postitivo|\n",
    "|`-`|Número negativo|\n",
    "\n",
    "#### Binarios\n",
    "\n",
    "|Operador|Significado|\n",
    "|-|-|\n",
    "|`+`|Suma|\n",
    "|`-`|Resta|\n",
    "|`*`|Multiplicación|\n",
    "|`/`|División|\n",
    "|`%`|Resto o módulo|\n",
    "\n",
    "No existe el operador de división entera en Java. El operador `/` actuará como división entera si ambos operandos son enteros, y como división decimal si al menos uno de los operandos es decimal.\n",
    "\n",
    "Tampoco existe el operador de potencia en Java. Para elevar un número a una potencia, se utiliza el método `Math.pow` de la clase `Math`.\n"
   ]
  },
  {
   "cell_type": "code",
   "execution_count": 16,
   "metadata": {},
   "outputs": [
    {
     "name": "stdout",
     "output_type": "stream",
     "text": [
      "2.0\n"
     ]
    }
   ],
   "source": [
    "int a = 5, b = 2;\n",
    "double resultado;\n",
    "\n",
    "resultado = 5 / 2;\n",
    "\n",
    "System.out.println(resultado);"
   ]
  },
  {
   "cell_type": "code",
   "execution_count": 18,
   "metadata": {},
   "outputs": [
    {
     "name": "stdout",
     "output_type": "stream",
     "text": [
      "2.5\n"
     ]
    }
   ],
   "source": [
    "int a = 5, b = 2;\n",
    "double resultado;\n",
    "\n",
    "resultado = (double) 5 / 2;\n",
    "\n",
    "System.out.println(resultado);"
   ]
  },
  {
   "cell_type": "markdown",
   "metadata": {},
   "source": [
    "\n",
    "##### Resulados de operaciones aritméticas\n",
    "\n",
    "- Un operando de tipo `long` y ninguno real (ni `float` ni `double`): el resultado es `long`.\n",
    "- Ninguno de los operandos es `long` ni real (ni `float` ni `double`): el resultado es `int`.\n",
    "- Al menos un operando es de tipo `double`: el resultado es `double`.\n",
    "- Al menos un operando es de tipo `float` y ninguno es `double`: el resultado es `float`.\n"
   ]
  },
  {
   "cell_type": "markdown",
   "metadata": {},
   "source": [
    "\n",
    "### Operadores incrementales y decrementales\n",
    "\n",
    "|Operador|Significado|Prefijo|Postfijo|\n",
    "|----|-----|-|-|\n",
    "|`++`|Incremento|`++a`|`a++`|\n",
    "|`--`|Decremento|`--a`|`a--`|\n",
    "\n",
    "En valor de la variable se incrementa o decrementa antes de la evaluación de la expresión si se utiliza el operador de incremento o decremento como prefijo, y después de la evaluación de la expresión si se utiliza como sufijo.\n"
   ]
  },
  {
   "cell_type": "code",
   "execution_count": 17,
   "metadata": {},
   "outputs": [
    {
     "name": "stdout",
     "output_type": "stream",
     "text": [
      "x = 4 y = 3\n"
     ]
    }
   ],
   "source": [
    "int x = 3;\n",
    "int y = x++; //Primero se asigna el valor de x a y y luego se incrementa x\n",
    "System.out.println(\"x = \" + x + \" y = \" + y);"
   ]
  },
  {
   "cell_type": "code",
   "execution_count": 18,
   "metadata": {},
   "outputs": [
    {
     "name": "stdout",
     "output_type": "stream",
     "text": [
      "x = 4 y = 4\n"
     ]
    }
   ],
   "source": [
    "int x = 3;\n",
    "int y = ++x; //Primero se asigna el valor de x a y y luego se incrementa x\n",
    "System.out.println(\"x = \" + x + \" y = \" + y);"
   ]
  },
  {
   "cell_type": "code",
   "execution_count": 22,
   "metadata": {},
   "outputs": [
    {
     "name": "stdout",
     "output_type": "stream",
     "text": [
      "3\n",
      "Al final, x vale 4\n"
     ]
    }
   ],
   "source": [
    "int x = 3;\n",
    "System.out.println(x++);\n",
    "System.out.println(\"Al final, x vale \" + x);"
   ]
  },
  {
   "cell_type": "markdown",
   "metadata": {},
   "source": [
    "### Operador de asignación\n",
    "\n",
    "|Operador|Significado|\n",
    "|-|-|\n",
    "|`=`|Asignación|\n",
    "|`+=`|Suma y asignación|\n",
    "|`-=`|Resta y asignación|\n",
    "|`*=`|Multiplicación y asignación|\n",
    "|`/=`|División y asignación|\n",
    "|`%=`|Resto y asignación|"
   ]
  },
  {
   "cell_type": "code",
   "execution_count": 20,
   "metadata": {},
   "outputs": [
    {
     "name": "stdout",
     "output_type": "stream",
     "text": [
      "3\n"
     ]
    }
   ],
   "source": [
    "int x = 3;\n",
    "System.out.println(x);"
   ]
  },
  {
   "cell_type": "markdown",
   "metadata": {},
   "source": [
    "### Operadores sobre cadenas de caracteres\n",
    "\n",
    "El operator `+` se utiliza para concatenar cadenas de caracteres, concatenará cuando al menos uno de los operandos sea de tipo `String`."
   ]
  },
  {
   "cell_type": "code",
   "execution_count": 19,
   "metadata": {},
   "outputs": [
    {
     "name": "stdout",
     "output_type": "stream",
     "text": [
      "Hola Mundo\n",
      "La suma de 5 y 3 es 8\n"
     ]
    }
   ],
   "source": [
    "System.out.println(\"Hola\" + \" \" + \"Mundo\");\n",
    "int a = 5, b = 3, suma;\n",
    "suma = a + b;\n",
    "System.out.println(\"La suma de \" + a + \" y \" + b + \" es \" + suma);"
   ]
  },
  {
   "cell_type": "markdown",
   "metadata": {},
   "source": [
    "### Operadores relacionales\n",
    "\n",
    "|Operador|Significado|\n",
    "|-|-|\n",
    "|`==`|Igual a|\n",
    "|`!=`|Distinto de|\n",
    "|`>`|Mayor que|\n",
    "|`<`|Menor que|\n",
    "|`>=`|Mayor o igual que|\n",
    "|`<=`|Menor o igual que|"
   ]
  },
  {
   "cell_type": "markdown",
   "metadata": {},
   "source": [
    "### Operadores lógicos\n",
    "\n",
    "|Operador|Significado|\n",
    "|-|-|\n",
    "|`&&`|Y lógico|\n",
    "|`\\|\\|`|O lógico|\n",
    "|`!`|Negación lógica|\n",
    "|`^`|O exclusivo|\n",
    "\n",
    "¡Ojo! En Java, los operadores `&` y `|` también son operadores lógicos, pero rara vez se utilizan. La diferencia entre `&&` y `&` es que `&&` no evaluará el segundo operando si el primero es `false`, mientras que `&` evaluará ambos operandos. Ídem para `||` y `|`, pero en el caso de `||` y `|`, `||` no evaluará el segundo operando si el primero es `true`, mientras que `|` evaluará ambos operandos."
   ]
  },
  {
   "cell_type": "code",
   "execution_count": 23,
   "metadata": {},
   "outputs": [
    {
     "name": "stdout",
     "output_type": "stream",
     "text": [
      "5 es mayor que 3\n"
     ]
    }
   ],
   "source": [
    "int a = 5, b = 3;\n",
    "\n",
    "if (a > b) {\n",
    "    System.out.println(a + \" es mayor que \" + b);\n",
    "} else {\n",
    "    System.out.println(a + \" no es mayor que \" + b);\n",
    "}"
   ]
  },
  {
   "cell_type": "code",
   "execution_count": 24,
   "metadata": {},
   "outputs": [
    {
     "name": "stdout",
     "output_type": "stream",
     "text": [
      "Eres menor de edad o no trabajador\n"
     ]
    }
   ],
   "source": [
    "int edad = 15;\n",
    "boolean trabajador = false;\n",
    "\n",
    "if (edad >= 18 && trabajador) {\n",
    "    System.out.println(\"Eres mayor de edad y trabajador\");\n",
    "} else {\n",
    "    System.out.println(\"Eres menor de edad o no trabajador\");\n",
    "}"
   ]
  },
  {
   "cell_type": "markdown",
   "metadata": {},
   "source": [
    "### Operador ternario\n",
    "\n",
    "|Operador|Descripción|\n",
    "|---|---|\n",
    "|`condición ? valor1 : valor2`|Si la condición es verdadera, se devuelve valor1, de lo contrario, se devuelve valor2|"
   ]
  },
  {
   "cell_type": "code",
   "execution_count": 28,
   "metadata": {},
   "outputs": [
    {
     "name": "stdout",
     "output_type": "stream",
     "text": [
      "Eres menor de edad\n"
     ]
    },
    {
     "name": "stdout",
     "output_type": "stream",
     "text": [
      "La paga es de 5 euros\n"
     ]
    }
   ],
   "source": [
    "int edad = 16;\n",
    "System.out.println(edad >= 18 ? \"Eres mayor de edad\" : \"Eres menor de edad\");\n",
    "int paga = edad >= 10 ? 5 : 2;\n",
    "System.out.println(\"La paga es de \" + paga + \" euros\");"
   ]
  },
  {
   "cell_type": "markdown",
   "metadata": {},
   "source": [
    "### Precedencia de operadores\n",
    "\n",
    "La precedencia de los operadores en Java es la siguiente:\n",
    "- Paréntesis `()`\n",
    "- Operadores unarios, notación postfija `++`, `--`\n",
    "- Operadores unarios `+`, `-`, `++`, `--`, `!`, `(cast)`\n",
    "- Multiplicación, división y módulo `*`, `/`, `%`\n",
    "- Suma y resta `+`, `-`\n",
    "- Operadores relacionales `>`, `<`, `>=`, `<=`\n",
    "- Operadores de igualdad `==`, `!=`\n",
    "- Operadores lógicos `&&`, `\\|\\|`, `^`\n",
    "- Operador ternario `? :`\n",
    "- Asignación `=`, `+=`, `-=`, `*=`, `/=`, `%=`\n"
   ]
  }
 ],
 "metadata": {
  "kernelspec": {
   "display_name": "Java",
   "language": "java",
   "name": "java"
  },
  "language_info": {
   "codemirror_mode": "java",
   "file_extension": ".jshell",
   "mimetype": "text/x-java-source",
   "name": "java",
   "pygments_lexer": "java",
   "version": "21.0.2+13-LTS-58"
  }
 },
 "nbformat": 4,
 "nbformat_minor": 2
}
