{
 "cells": [
  {
   "cell_type": "markdown",
   "metadata": {},
   "source": [
    "# Ejercicios números aleatorios\n",
    "\n",
    "## Ejercicio 1\n",
    "\n",
    "Crea un programa en el que el usuario tendrá 4 intentos para adivinar un número aleatorio entre 1 y 100. Tras cada intento, el programa debe decirle si el número es mayor o menor que el introducido por el usuario.\n",
    "\n",
    "## Ejercicio 2\n",
    "\n",
    "Crea un programa que lance dos dados de 6 caras y muestre el resultado de ambos.\n",
    "\n",
    "## Ejercicio 3\n",
    "\n",
    "Crea un programa que sirva para obtener un descuento aleatorio en una tienda. El descuento puede ser del 5%, 10%, 15% o 20%. Las probabilidades de que salga un descuento u otro son las siguientes:\n",
    "\n",
    "- 5%: 50%\n",
    "- 10%: 25%\n",
    "- 15%: 15%\n",
    "- 20%: 9%\n",
    "- 50%: 1%\n",
    "\n",
    "Pista metemática: Puedes usar el método `nextDouble()` de la clase `Random` para obtener un número aleatorio entre 0 y 1 y compararlo con los límites de las probabilidades (0.5, 0.75...).\n",
    "\n",
    "Prueba a ejecutar el programa varias veces, obteniendo los mismos resultados o resultados diferentes.\n",
    "\n",
    "## Ejercicio 4\n",
    "\n",
    "Crea un programa que simule el lanzamiento de una moneda."
   ]
  }
 ],
 "metadata": {
  "language_info": {
   "name": "python"
  }
 },
 "nbformat": 4,
 "nbformat_minor": 2
}
