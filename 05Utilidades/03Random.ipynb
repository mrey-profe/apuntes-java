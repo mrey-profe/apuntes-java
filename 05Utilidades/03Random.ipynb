{
 "cells": [
  {
   "cell_type": "markdown",
   "metadata": {},
   "source": [
    "# Generación de números aleatorios\n",
    "\n",
    "## Números aleatorios el método `Math.random()`\n",
    "\n",
    "Este método devuelve un número pseudo-aleatorio en el rango de 0 a 1 (no incluído), es decir, el número generado estará en el rango de 0 a 0.9999999999999999.\n",
    "\n",
    "Para transformar este número en un rango diferente, se puede utilizar la siguiente fórmula:\n",
    "\n",
    "```\n",
    "Math.floor(Math.random() * (max - min + 1)) + min\n",
    "```"
   ]
  },
  {
   "cell_type": "code",
   "execution_count": 1,
   "metadata": {
    "vscode": {
     "languageId": "java"
    }
   },
   "outputs": [
    {
     "name": "stdout",
     "output_type": "stream",
     "text": [
      "93\n",
      "79\n",
      "42\n",
      "36\n",
      "92\n",
      "58\n",
      "99\n",
      "95\n",
      "47\n",
      "52\n"
     ]
    }
   ],
   "source": [
    "//Generación de números entre 1 y 100\n",
    "for (int i = 0; i < 10; i++) {\n",
    "    System.out.println((int) (Math.random() * 100) + 1);\n",
    "}"
   ]
  },
  {
   "cell_type": "code",
   "execution_count": 3,
   "metadata": {
    "vscode": {
     "languageId": "java"
    }
   },
   "outputs": [
    {
     "name": "stdout",
     "output_type": "stream",
     "text": [
      "8\n",
      "14\n",
      "15\n",
      "5\n",
      "14\n",
      "10\n",
      "9\n",
      "9\n",
      "15\n",
      "5\n",
      "15\n",
      "11\n",
      "7\n",
      "12\n",
      "14\n",
      "15\n",
      "15\n",
      "12\n",
      "9\n",
      "6\n",
      "11\n",
      "14\n",
      "5\n",
      "6\n",
      "6\n",
      "5\n",
      "12\n",
      "15\n",
      "13\n",
      "7\n",
      "5\n",
      "6\n",
      "11\n",
      "7\n",
      "13\n",
      "15\n",
      "8\n",
      "11\n",
      "5\n",
      "10\n",
      "6\n",
      "12\n",
      "9\n",
      "10\n",
      "13\n",
      "6\n",
      "14\n",
      "10\n",
      "10\n",
      "12\n",
      "12\n",
      "7\n",
      "15\n",
      "11\n",
      "15\n",
      "6\n",
      "12\n",
      "8\n",
      "10\n",
      "7\n",
      "11\n",
      "11\n",
      "7\n",
      "14\n",
      "13\n",
      "12\n",
      "12\n",
      "7\n",
      "9\n",
      "7\n",
      "15\n",
      "14\n",
      "14\n",
      "8\n",
      "5\n",
      "14\n",
      "15\n",
      "14\n",
      "11\n",
      "12\n",
      "9\n",
      "13\n",
      "7\n",
      "5\n",
      "9\n",
      "7\n",
      "5\n",
      "13\n",
      "8\n",
      "11\n",
      "13\n",
      "14\n",
      "11\n",
      "10\n",
      "7\n",
      "5\n",
      "7\n",
      "7\n",
      "10\n",
      "10\n"
     ]
    }
   ],
   "source": [
    "//Generación de números entre 5 y 15\n",
    "for (int i = 0; i < 10; i++) {\n",
    "    System.out.println((int) (Math.random() * (15 - 5 + 1)) + 5);\n",
    "}"
   ]
  },
  {
   "cell_type": "markdown",
   "metadata": {},
   "source": [
    "## La clase `Random` de Java\n",
    "\n",
    "Esta clase sirve para generar secuencias de números aleatorios, para ello, lo primero que debemos hacer es crear un objeto de la clase `Random`:\n",
    "\n",
    "```java\n",
    "Random random = new Random();\n",
    "```\n",
    "\n",
    "Los métodos más utilizados de esta clase son (para distribuciones uniformes):\n",
    "- `nextInt()`: Devuelve un número entero aleatorio.\n",
    "- `nextInt(int n)`: Devuelve un número entero aleatorio en el rango de 0 a n (no incluído).\n",
    "- `nextDouble()`: Devuelve un número decimal aleatorio en el rango de 0.0 a 1.0 (no incluído).\n",
    "- `nextBoolean()`: Devuelve un valor booleano aleatorio.\n",
    "- `nextLong()`: Devuelve un número entero largo aleatorio.\n",
    "- `nextFloat()`: Devuelve un número decimal aleatorio en el rango de 0.0 a 1.0 (no incluído).\n",
    "\n",
    "También sería posible generar números aleatorios que sigan una distribución normal, para ello, se puede utilizar el método `nextGaussian()`."
   ]
  },
  {
   "cell_type": "code",
   "execution_count": 6,
   "metadata": {
    "vscode": {
     "languageId": "java"
    }
   },
   "outputs": [
    {
     "name": "stdout",
     "output_type": "stream",
     "text": [
      "89\n",
      "36\n",
      "25\n",
      "46\n",
      "27\n",
      "41\n",
      "96\n",
      "92\n",
      "41\n",
      "88\n"
     ]
    }
   ],
   "source": [
    "import java.util.Random;\n",
    "\n",
    "Random r = new Random();\n",
    "\n",
    "//Generación de números entre 0 y 99\n",
    "for (int i = 0; i < 10; i++) {\n",
    "    System.out.println(r.nextInt(100));\n",
    "}"
   ]
  },
  {
   "cell_type": "code",
   "execution_count": 7,
   "metadata": {
    "vscode": {
     "languageId": "java"
    }
   },
   "outputs": [
    {
     "name": "stdout",
     "output_type": "stream",
     "text": [
      "12\n",
      "15\n",
      "5\n",
      "5\n",
      "15\n",
      "13\n",
      "9\n",
      "15\n",
      "14\n",
      "11\n"
     ]
    }
   ],
   "source": [
    "//Generación de números entre 5 y 15\n",
    "for (int i = 0; i < 10; i++) {\n",
    "    System.out.println(r.nextInt(11) + 5);\n",
    "}"
   ]
  },
  {
   "cell_type": "code",
   "execution_count": 8,
   "metadata": {
    "vscode": {
     "languageId": "java"
    }
   },
   "outputs": [
    {
     "name": "stdout",
     "output_type": "stream",
     "text": [
      "0.9231695458311999\n",
      "0.22607753997011992\n",
      "0.9695647442493514\n",
      "0.9225872869886931\n",
      "0.21464892565256588\n",
      "0.8779153033471141\n",
      "0.27374277691489457\n",
      "0.8295853509516143\n",
      "0.9313129082102879\n",
      "0.47973899471701\n"
     ]
    }
   ],
   "source": [
    "//Generación de números entre 0 y 1 (no incluido)\n",
    "for (int i = 0; i < 10; i++) {\n",
    "    System.out.println(r.nextDouble());\n",
    "}"
   ]
  },
  {
   "cell_type": "code",
   "execution_count": 9,
   "metadata": {
    "vscode": {
     "languageId": "java"
    }
   },
   "outputs": [
    {
     "name": "stdout",
     "output_type": "stream",
     "text": [
      "false\n",
      "true\n",
      "false\n",
      "true\n",
      "true\n",
      "false\n",
      "false\n",
      "true\n",
      "false\n",
      "true\n"
     ]
    }
   ],
   "source": [
    "//Generación de booleanos aleatorios\n",
    "for (int i = 0; i < 10; i++) {\n",
    "    System.out.println(r.nextBoolean());\n",
    "}"
   ]
  },
  {
   "cell_type": "markdown",
   "metadata": {},
   "source": [
    "\n",
    "\n",
    "### La semilla de los números aleatorios\n",
    "\n",
    "En realidad, los números generados por los métodos de la clase Random no son completamente aleatorios sino pseudo-aleatorios. Esto significa que los números son generados utilizando una serie numérica que cumpla con los requisitos de aleatoriedad, pero que en realidad es determinista.\n",
    "\n",
    "Esta serie numérica es generada a partir de una semilla, que es un número que se utiliza para inicializar el generador de números aleatorios. Si se utiliza la misma semilla, se obtendrá la misma serie numérica.\n",
    "\n",
    "Habitualmente, la semilla se inicializa con el tiempo actual en milisegundos, lo que garantiza que la serie numérica generada sea diferente cada vez que se ejecute el programa.\n",
    "\n",
    "Pero puede ser útil fijar la semilla para obtener una serie numérica determinista, que permita reproducir los resultados obtenidos en una ejecución anterior, para depurar el programa o para realizar pruebas.\n",
    "\n",
    "Para ello, en el momento de crear el objeto Random, se puede pasar como argumento un número entero que se utilizará como semilla."
   ]
  },
  {
   "cell_type": "code",
   "execution_count": 5,
   "metadata": {
    "vscode": {
     "languageId": "java"
    }
   },
   "outputs": [
    {
     "name": "stdout",
     "output_type": "stream",
     "text": [
      "15\n",
      "50\n",
      "74\n",
      "88\n",
      "91\n",
      "66\n",
      "36\n",
      "88\n",
      "23\n",
      "13\n"
     ]
    }
   ],
   "source": [
    "import java.util.Random;\n",
    "\n",
    "Random r = new Random(100); //Se le pasa la semilla\n",
    "\n",
    "for (int i = 0; i < 10; i++) {\n",
    "    System.out.println(r.nextInt(100));\n",
    "}"
   ]
  }
 ],
 "metadata": {
  "kernelspec": {
   "display_name": "Java",
   "language": "java",
   "name": "java"
  },
  "language_info": {
   "codemirror_mode": "java",
   "file_extension": ".jshell",
   "mimetype": "text/x-java-source",
   "name": "Java",
   "pygments_lexer": "java",
   "version": "21.0.2+13-Ubuntu-120.04.1"
  }
 },
 "nbformat": 4,
 "nbformat_minor": 2
}
