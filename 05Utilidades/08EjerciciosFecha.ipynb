{
 "cells": [
  {
   "cell_type": "markdown",
   "metadata": {},
   "source": [
    "## Ejercicio 1 (https://wirtzjava.blogspot.com/)\n",
    "\n",
    "Ejercicios de fechas. Usando las clases de Java para el manejo de fechas, realiza programas\n",
    "con la siguiente funcionalidad:\n",
    "\n",
    "1. Introducir tu fecha de nacimiento y muestre cuantos días han pasado hasta ahora mismo.\n",
    "2. Introducir una fecha y un número de días y calcule la fecha que se obtiene al incrementar\n",
    "dichos días a la fecha.\n",
    "3. Introducir dos horas de reloj y nos dé la diferencia entre ambas en segundos.\n",
    "4. ¿Cuántos años bisiestos ha habido desde el año 1 dC?\n",
    "5. Introducir una fecha y mostrar el día de la semana que le corresponde.\n",
    "6. Introducir un tipo de producto (1-perecedero, 2-electrónica, 3-ropa) y la fecha de compra, y\n",
    "que informe si se puede devolver a día de hoy o no (los plazos de devolución, son\n",
    "respectivamente 5 horas, 6 meses, 15 días)\n",
    "7. Introducir un año y decir cuántos domingos tiene.\n",
    "\n",
    "## Ejercicio 2\n",
    "\n",
    "Modifica el ejercicio 4 del boletín de ArrayList para que el alumno tenga como atributo su fecha de nacimiento y su fecha de ingreso en el centro. Añade los siguientes métodos:\n",
    "- Un método que devuelva la edad del alumno.\n",
    "- Un método que nos indique si es mayor de edad.\n",
    "- Un método que devuelva el tiempo que lleva en el centro, en años, meses y días.\n",
    "- Un método que nos devuelva el nombre de usuario en el dominio de informática, que se corresponderá con la letra a, seguida del año en el que se matriculó (2 dígitos), seguido de su nombre y las iniciales de sus apellidos, todo en minúsculas. Por ejemplo, `a24mariajp`. Puedes suponer que un alumno solo tiene un nombre y 2 apellidos, sin espacios.\n",
    "\n",
    "## Ejercicio 3\n",
    "\n",
    "Crea una clase `Trabajador` que tenga como atributos el nombre, la fecha de nacimiento, la fecha de incorporación a la empresa y el salario base.\n",
    "\n",
    "Tendrá los siguientes métodos:\n",
    "- Un constructor que inicialice todos los atributos (las fechas se pasarán en formato `String`).\n",
    "- Un método que devuelva el número de años y meses que se le faltan para la jubilación (65 años).\n",
    "- Un método que devuelva la antigüedad en la empresa en años, meses y días.\n",
    "- Un método que devuelva el salario mensual, que se calculará como el salario base más un complemento de antigüedad de 50€ por cada trienio trabajado.\n",
    "- Los 6 primeros meses de ingresar en la empresa, los trabajadores no tienen sus propias llaves para acceder al edificio. Un método que devuelva si el trabajador tiene llaves o no.\n",
    "\n",
    "## Ejercicio 4\n",
    "\n",
    "Para la lectura de los proyectos de fin de ciclo, se reservan espacios temporales de 20 minutos. Teniendo en cuenta que cada 4 proyectos se realiza un descanso de 10 minutos, crea un programa que solicita la hora de inicio de las lecturas y el número de proyectos a leer y muestre por pantalla los horarios de inicio y fin de cada proyecto y los descansos.\n",
    "\n",
    "Modifícalo para que solicite los nombres de los/las alumnos/as, el tiempo asignado para cada proyecto, el tiempo de descanso, el número de proyectos entre descansos y muestre el listado de horarios de inicio y fin de cada proyecto y los descansos."
   ]
  }
 ],
 "metadata": {
  "language_info": {
   "name": "python"
  }
 },
 "nbformat": 4,
 "nbformat_minor": 2
}
