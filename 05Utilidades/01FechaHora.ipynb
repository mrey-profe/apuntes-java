{
 "cells": [
  {
   "cell_type": "markdown",
   "metadata": {},
   "source": [
    "# Fecha y hora\n",
    "\n",
    "Para el manejo de fechas y hora se utilizan en Java las clases `LocalDate`, `LocalTime` y `LocalDateTime`, dependiendo de si se necesita solo la fecha, solo la hora o ambas.\n",
    "\n",
    "## Creación de una fecha\n",
    "\n",
    "Estas clases no tienen constructores públicos, pero sí tienen métodos estáticos que podemos utilizar como tales en función de cuál sea la fecha a la que queramos hacer referencia:\n",
    "\n",
    "- `LocalDate.now()`: Devuelve la fecha actual.\n",
    "- `LocalDate.of(año, mes, día)`: Devuelve la fecha correspondiente a la fecha indicada.\n",
    "- `LocalDate.parse(\"yyyy-MM-dd\")`: Devuelve la fecha correspondiente a la cadena de texto indicada.\n",
    "\n",
    "Las clases `LocalTime` y `LocalDateTime` tienen métodos análogos.\n"
   ]
  },
  {
   "cell_type": "code",
   "execution_count": 3,
   "metadata": {
    "vscode": {
     "languageId": "java"
    }
   },
   "outputs": [
    {
     "name": "stdout",
     "output_type": "stream",
     "text": [
      "2024-04-23\n"
     ]
    }
   ],
   "source": [
    "import java.time.*;\n",
    "\n",
    "LocalDate fecha1 = LocalDate.now();\n",
    "System.out.println(fecha1);"
   ]
  },
  {
   "cell_type": "code",
   "execution_count": 4,
   "metadata": {
    "vscode": {
     "languageId": "java"
    }
   },
   "outputs": [
    {
     "name": "stdout",
     "output_type": "stream",
     "text": [
      "2019-11-29\n",
      "2109-08-20T08:30:59\n",
      "06:30:12\n"
     ]
    }
   ],
   "source": [
    "LocalDate fecha2 = LocalDate.of(2019, 11, 29);\n",
    "System.out.println(fecha2);\n",
    "LocalDateTime fecHora3= LocalDateTime.of(2109, Month.AUGUST, 20, 8, 30, 59);\n",
    "System.out.println(fecHora3);\n",
    "LocalTime hora7 = LocalTime.of (6, 30, 12);\n",
    "System.out.println(hora7);"
   ]
  },
  {
   "cell_type": "code",
   "execution_count": 5,
   "metadata": {
    "vscode": {
     "languageId": "java"
    }
   },
   "outputs": [
    {
     "name": "stdout",
     "output_type": "stream",
     "text": [
      "1990-12-31\n",
      "08:30\n",
      "2018-10-10T11:25\n",
      "08:30\n"
     ]
    }
   ],
   "source": [
    "LocalDate fecha4 = LocalDate.parse(\"1990-12-31\");\n",
    "System.out.println(fecha4);\n",
    "LocalTime hora5 = LocalTime.parse(\"08:30\");\n",
    "System.out.println(hora5);\n",
    "LocalDateTime fechahora6 = LocalDateTime.parse(\"2018-10-10T11:25\");\n",
    "System.out.println(fechahora6);\n",
    "LocalTime hora8 = LocalTime.parse(\"08:30\");\n",
    "System.out.println(hora8);"
   ]
  },
  {
   "cell_type": "markdown",
   "metadata": {},
   "source": [
    "## Obtención de información\n",
    "\n",
    "Una vez que tenemos la fecha, podemos obtener información usando los siguientes métodos:\n",
    "\n",
    "- `getYear()`: Devuelve el año.\n",
    "- `getMonthValue()`: Devuelve el mes como un entero entre 1 y 12.\n",
    "- `getMonth()`: Devuelve el mes como como un enumerado de `Month`.\n",
    "- `getDayOfMonth()`: Devuelve el día del mes.\n",
    "- `getDayOfWeek()`: Devuelve el día de la semana.\n",
    "- `getDayOfYear()`: Devuelve el día del año.\n",
    "- `isLeapYear()`: Devuelve `true` si el año es bisiesto, `false` en caso contrario.\n",
    "- `lengthOfMonth()`: Devuelve la cantidad de días del mes.\n",
    "- `lengthOfYear()`: Devuelve la cantidad de días del año.\n",
    "- `getHour()`: Devuelve la hora.\n",
    "- `getMinute()`: Devuelve los minutos.\n",
    "- `getSecond()`: Devuelve los segundos.\n",
    "\n"
   ]
  },
  {
   "cell_type": "markdown",
   "metadata": {},
   "source": [
    "## Incrementos y decrementos\n",
    "\n",
    "- `plusDays(long days)`: Devuelve la fecha incrementada en la cantidad de días indicada.\n",
    "- `plusMonths(long months)`: Devuelve la fecha incrementada en la cantidad de meses indicada.\n",
    "- `plusYears(long years)`: Devuelve la fecha incrementada en la cantidad de años indicada.\n",
    "- `minusDays(long days)`: Devuelve la fecha decrementada en la cantidad de días indicada.\n",
    "- `minusMonths(long months)`: Devuelve la fecha decrementada en la cantidad de meses indicada.\n",
    "- `minusYears(long years)`: Devuelve la fecha decrementada en la cantidad de años indicada.\n",
    "- `plusHours(long hours)`: Devuelve la hora incrementada en la cantidad de horas indicada.\n",
    "- `plusMinutes(long minutes)`: Devuelve la hora incrementada en la cantidad de minutos indicada.\n",
    "- `plusSeconds(long seconds)`: Devuelve la hora incrementada en la cantidad de segundos indicada.\n",
    "- `minusHours(long hours)`: Devuelve la hora decrementada en la cantidad de horas indicada.\n",
    "- `minusMinutes(long minutes)`: Devuelve la hora decrementada en la cantidad de minutos indicada.\n",
    "- `minusSeconds(long seconds)`: Devuelve la hora decrementada en la cantidad de segundos indicada.\n",
    "- `withDayOfMonth(int dayOfMonth)`: Devuelve la fecha modificando el día con el mes indicado.\n",
    "- `withMonth(int month)`: Devuelve la fecha modificando el mes con el indicado.\n",
    "- `withYear(int year)`: Devuelve la fecha modificando el año con el indicado.\n",
    "- `withHour(int hour)`: Devuelve la hora modificando la hora con la indicada.\n",
    "- `withMinute(int minute)`: Devuelve la hora modificando los minutos con los indicados.\n",
    "- `withSecond(int second)`: Devuelve la hora modificando los segundos con los indicados.\n",
    "- `withNano(int nanoOfSecond)`: Devuelve la hora modificando los nanosegundos con los indicados.\n",
    "- `plus(long number, TemporalUnit unit)`: Devuelve la fecha incrementada en la cantidad de tiempo indicada.\n",
    "- `minus(long number, TemporalUnit unit)`: Devuelve la fecha decrementada en la cantidad de tiempo indicada."
   ]
  },
  {
   "cell_type": "code",
   "execution_count": 6,
   "metadata": {
    "vscode": {
     "languageId": "java"
    }
   },
   "outputs": [
    {
     "name": "stdout",
     "output_type": "stream",
     "text": [
      "2024-04-23\n",
      "2024-04-24\n",
      "2024-04-22\n",
      "2019-11-29\n",
      "2019-11-01\n",
      "2019-12-29\n",
      "2020-11-29\n"
     ]
    }
   ],
   "source": [
    "import java.time.*;\n",
    "import java.time.temporal.ChronoUnit;\n",
    "\n",
    "LocalDate fecha = LocalDate.now();\n",
    "System.out.println(fecha);\n",
    "LocalDate mañana = fecha.plusDays(1);\n",
    "System.out.println(mañana);\n",
    "LocalDate ayer = fecha.minusDays(1);\n",
    "System.out.println(ayer);\n",
    "LocalDate fecha2 = LocalDate.of(2019, 11, 29);\n",
    "System.out.println(fecha2);\n",
    "LocalDate cambioDia = fecha2.withDayOfMonth(1);\n",
    "System.out.println(cambioDia);\n",
    "LocalDate aumentar = fecha2.plus(1, ChronoUnit.MONTHS);\n",
    "System.out.println(aumentar);\n",
    "LocalDate aumentar2 = fecha2.plus(1, ChronoUnit.YEARS);\n",
    "System.out.println(aumentar2);"
   ]
  },
  {
   "cell_type": "markdown",
   "metadata": {},
   "source": [
    "## Comparación de fechas\n",
    "\n",
    "- `isAfter(LocalDate)`: Devuelve `true` si la fecha es posterior a la fecha indicada.\n",
    "- `isBefore(LocalDate)`: Devuelve `true` si la fecha es anterior a la fecha indicada.\n",
    "- `isEqual(LocalDate)`: Devuelve `true` si la fecha es igual a la fecha indicada.\n",
    "- `compareTo(LocalDate)`: Devuelve un valor negativo si la fecha es anterior a la fecha indicada, cero si son iguales y un valor positivo si la fecha es posterior a la fecha indicada."
   ]
  },
  {
   "cell_type": "code",
   "execution_count": 7,
   "metadata": {
    "vscode": {
     "languageId": "java"
    }
   },
   "outputs": [
    {
     "name": "stdout",
     "output_type": "stream",
     "text": [
      "La fecha es anterior a la fecha despues\n"
     ]
    }
   ],
   "source": [
    "LocalDate fecha = LocalDate.now();\n",
    "LocalDate despues = fecha.plusDays(5);\n",
    "if (fecha.isBefore(despues)) {\n",
    "    System.out.println(\"La fecha es anterior a la fecha despues\");\n",
    "} else {\n",
    "    System.out.println(\"La fecha es posterior a la fecha despues\");\n",
    "}"
   ]
  },
  {
   "cell_type": "markdown",
   "metadata": {},
   "source": [
    "## Diferencia entre fechas\n",
    "\n",
    "- `until(LocalDate, TemporalUnit)`: Devuelve la diferencia entre dos fechas en la unidad de tiempo indicada.\n",
    "\n",
    "Podemos utilizar la clase `ChronoUnit` para indicar la unidad de tiempo en la que queremos obtener la diferencia.\n",
    "\n",
    "- `ChronoUnit.UNIDAD.between(date1, date2)`: Devuelve la diferencia entre dos fechas en la unidad de tiempo indicada.\n",
    "\n",
    "`UNIDAD` puede ser `DAYS`, `MONTHS`, `YEARS`, `HOURS`, `MINUTES`, `SECONDS`, `NANOS`, etc."
   ]
  },
  {
   "cell_type": "code",
   "execution_count": 8,
   "metadata": {
    "vscode": {
     "languageId": "java"
    }
   },
   "outputs": [
    {
     "name": "stdout",
     "output_type": "stream",
     "text": [
      "-1999 días\n",
      "-5 años\n"
     ]
    }
   ],
   "source": [
    "LocalDate hoy = LocalDate.now();\n",
    "LocalDate otra = LocalDate.of(2018, 11, 2);\n",
    "System.out.println(fecha.until(otra, ChronoUnit.DAYS) + \" días\");\n",
    "System.out.println(fecha.until(otra, ChronoUnit.YEARS) + \" años\");"
   ]
  },
  {
   "cell_type": "code",
   "execution_count": 9,
   "metadata": {
    "vscode": {
     "languageId": "java"
    }
   },
   "outputs": [
    {
     "data": {
      "text/plain": [
       "-65"
      ]
     },
     "execution_count": 9,
     "metadata": {},
     "output_type": "execute_result"
    }
   ],
   "source": [
    "LocalDate hoy = LocalDate.now();\n",
    "LocalDate otra = LocalDate.of(2018, 11, 2);\n",
    "ChronoUnit.MONTHS.between(hoy, otra);"
   ]
  },
  {
   "cell_type": "markdown",
   "metadata": {},
   "source": [
    "## La clase `Period`\n",
    "\n",
    "La clase `Period` nos permite almacenar un periodo de tiempo, por ejemplo, la diferencia entre dos fechas.\n",
    "\n",
    "Como en el caso de las fechas, no tiene constructores públicos, pero sí tiene métodos estáticos que podemos utilizar como tales en función de cuál sea el periodo de tiempo a que queramos hacer referencia:\n",
    "\n",
    "- `Period.of(int years, int months, int days)`: Devuelve un periodo de tiempo de la cantidad de años, meses y días indicada.\n",
    "- `Period.ofYears(int years)`: Devuelve un periodo de tiempo de la cantidad de años indicada.\n",
    "- `Period.ofMonths(int months)`: Devuelve un periodo de tiempo de la cantidad de meses indicada.\n",
    "- `Period.ofDays(int days)`: Devuelve un periodo de tiempo de la cantidad de días indicada.\n",
    "- `Period.parse(\"PnYnMnD\")`: Devuelve un periodo de tiempo de la cantidad de años, meses y días indicada.\n",
    "- `Period.between(LocalDate, LocalDate)`: Devuelve un periodo de tiempo entre dos fechas.\n",
    "  "
   ]
  },
  {
   "cell_type": "code",
   "execution_count": 10,
   "metadata": {
    "vscode": {
     "languageId": "java"
    }
   },
   "outputs": [
    {
     "name": "stdout",
     "output_type": "stream",
     "text": [
      "2025-08-29\n"
     ]
    }
   ],
   "source": [
    "LocalDate hoy = LocalDate.now();\n",
    "Period periodo = Period.of(1, 4, 6); // 1 año, 4 meses y 6 días\n",
    "LocalDate fecha = hoy.plus(periodo);\n",
    "System.out.println(fecha);"
   ]
  },
  {
   "cell_type": "markdown",
   "metadata": {},
   "source": [
    "## Formateo de fechas\n",
    "\n",
    "Utilizamos la clase `DateTimeFormatter` para formatear fechas y horas. Para indicarle el formato que queremos, utilizamos el método `ofPattern(\"formato\")`.\n",
    "\n",
    "Podemos incluir los siguientes elementos en el formato:\n",
    "- `y`: año.\n",
    "- `M`: mes.\n",
    "- `d`: día.\n",
    "- `H`: hora.\n",
    "- `m`: minuto.\n",
    "- `s`: segundo.\n",
    "- `n`: nanosegundo.\n",
    "- `E`: día de la semana.\n",
    "- `a`: AM/PM.\n",
    "- `z`: zona horaria.\n",
    "\n",
    "En el caso de que los caracteres que utilicemos para enlazar los diferentes elementos de la fecha sean caracteres que se corresponden con los anteriormente mencionados, debemos escaparlos con comillas simples.\n",
    "\n",
    "Para mostrar la fecha en un formato determinado, utilizamos el método `format(DateTimeFormatter)`."
   ]
  },
  {
   "cell_type": "code",
   "execution_count": 11,
   "metadata": {
    "vscode": {
     "languageId": "java"
    }
   },
   "outputs": [
    {
     "name": "stdout",
     "output_type": "stream",
     "text": [
      "2024-04-23\n",
      "23/04/2024\n",
      "martes, 23 de abril de 2024\n",
      "23-04-24\n"
     ]
    }
   ],
   "source": [
    "import java.time.format.*;\n",
    "\n",
    "LocalDate hoy = LocalDate.now();\n",
    "DateTimeFormatter formato = DateTimeFormatter.ofPattern(\"dd/MM/yyyy\");\n",
    "System.out.println(hoy);\n",
    "System.out.println(hoy.format(formato));\n",
    "formato = DateTimeFormatter.ofPattern(\"EEEE, dd 'de' MMMM 'de' yyyy\");\n",
    "System.out.println(hoy.format(formato));\n",
    "formato = DateTimeFormatter.ofPattern(\"dd-MM-yy\");\n",
    "System.out.println(hoy.format(formato));"
   ]
  },
  {
   "cell_type": "markdown",
   "metadata": {},
   "source": [
    "Si queremos cambiar el idioma de los nombres de los meses y de los días de la semana, podemos utilizar la clase `Locale`."
   ]
  },
  {
   "cell_type": "code",
   "execution_count": 13,
   "metadata": {
    "vscode": {
     "languageId": "java"
    }
   },
   "outputs": [
    {
     "name": "stdout",
     "output_type": "stream",
     "text": [
      "luns, 22 de abril de 2024\n"
     ]
    },
    {
     "name": "stdout",
     "output_type": "stream",
     "text": [
      "lunes, 22 de abril de 2024\n"
     ]
    }
   ],
   "source": [
    "LocalDate ayer = LocalDate.now().minusDays(1);\n",
    "Locale local = new Locale(\"gl\", \"ES\");\n",
    "DateTimeFormatter formato = DateTimeFormatter.ofPattern(\"EEEE, dd 'de' MMMM 'de' yyyy\", local);\n",
    "System.out.println(ayer.format(formato));\n",
    "local = new Locale(\"es\", \"ES\");\n",
    "DateTimeFormatter formato = DateTimeFormatter.ofPattern(\"EEEE, dd 'de' MMMM 'de' yyyy\", local);\n",
    "System.out.println(ayer.format(formato));"
   ]
  }
 ],
 "metadata": {
  "kernelspec": {
   "display_name": "Java",
   "language": "java",
   "name": "java"
  },
  "language_info": {
   "codemirror_mode": "java",
   "file_extension": ".jshell",
   "mimetype": "text/x-java-source",
   "name": "Java",
   "pygments_lexer": "java",
   "version": "21.0.2+13-Ubuntu-120.04.1"
  }
 },
 "nbformat": 4,
 "nbformat_minor": 2
}
