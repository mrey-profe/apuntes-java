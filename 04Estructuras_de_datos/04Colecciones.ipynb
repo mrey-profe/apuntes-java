{
 "cells": [
  {
   "cell_type": "markdown",
   "metadata": {},
   "source": [
    "# Colecciones (interfaz `Collection`)\n",
    "\n",
    "Las colecciones son estructuras dinámicas de datos que permiten almacenar y manipular un conjunto de elementos. \n",
    "\n",
    "En Java, la interfaz `Collection` es la raíz de la jerarquía de colecciones. Esta interfaz define las operaciones básicas que se pueden realizar sobre una colección, como agregar elementos, eliminar elementos, buscar elementos, etc.\n",
    "\n",
    "Para usar estas colecciones haremos uso del **Java Collections Framework** (JCF), que contiene un\n",
    "conjunto de clases e interfaces del paquete `java.util` para gestionar colecciones de objetos.\n",
    "\n",
    "Las colecciones solo se aplican a objetos, no a tipos primitivos. Para poder trabajar con tipos primitivos, se pueden usar las clases envoltorio (`wrappers`) que permiten convertir un tipo primitivo en un objeto.\n",
    "\n",
    "Los tipos de colecciones son:\n",
    "- **Listas**: colecciones ordenadas de elementos que permiten duplicados. Implementan estructuras FIFO (First In, First Out).\n",
    "- **Colas**: colecciones con dos punteros, uno al inicio y otro al final, implementan estructuras LIFO (Last In, First Out).\n",
    "- **Conjuntos**: colecciones no ordenadas de elementos que no permiten duplicados.\n",
    "- **Mapas** (no heredan de la interfaz `Collection` sino de la interfaz `Map`): colecciones de pares clave-valor.\n",
    "\n",
    "Dentro de cada una de ellas existen diferentes implementaciones, que difieren en sus características, como su eficiencia. Las más utilizadas son: `ArrayList`, `LinkedList`, `HashSet`, y `HashMap`, entre otras.\n"
   ]
  },
  {
   "cell_type": "markdown",
   "metadata": {},
   "source": [
    "## Métodos comunes (interfaz `Collection`)\n",
    "\n",
    "- `add(E e)`: agrega un elemento a la colección.\n",
    "- `remove(Object o)`: elimina un elemento de la colección.\n",
    "- `contains(Object o)`: verifica si un elemento está en la colección.\n",
    "- `size()`: devuelve el número de elementos en la colección.\n",
    "- `isEmpty()`: verifica si la colección está vacía.\n",
    "- `clear()`: elimina todos los elementos de la colección.\n",
    "- `iterator()`: devuelve un iterador sobre los elementos de la colección.\n",
    "- `toArray()`: devuelve un array que contiene todos los elementos de la colección."
   ]
  },
  {
   "cell_type": "markdown",
   "metadata": {},
   "source": [
    "# Clase `Collections`\n",
    "\n",
    "Esta clase contiene un conjunto de métodos estáticos que operan sobre colecciones. Algunos de los métodos más comunes son:\n",
    "\n",
    "- `sort(List<T> list)`: ordena la lista especificada en orden ascendente.\n",
    "- `reverse(List<?> list)`: invierte el orden de los elementos en la lista especificada.\n",
    "- `shuffle(List<?> list)`: desordena los elementos de la lista especificada.\n",
    "- `binarySearch(List<? extends Comparable<? super T>> list, T key)`: busca un elemento en la lista especificada utilizando búsqueda binaria."
   ]
  },
  {
   "cell_type": "code",
   "execution_count": 5,
   "metadata": {
    "vscode": {
     "languageId": "java"
    }
   },
   "outputs": [
    {
     "name": "stdout",
     "output_type": "stream",
     "text": [
      "[5, 1, 3, 2, 4]\n",
      "[1, 2, 3, 4, 5]\n",
      "[1, 5, 2, 3, 4]\n"
     ]
    }
   ],
   "source": [
    "ArrayList​<Integer> lista = new ArrayList​<Integer>();\n",
    "\n",
    "lista.add(5);\n",
    "lista.add(1);\n",
    "lista.add(3);\n",
    "lista.add(2);\n",
    "lista.add(4);\n",
    "\n",
    "System.out.println(lista);\n",
    "\n",
    "Collections.sort(lista);\n",
    "\n",
    "System.out.println(lista);\n",
    "\n",
    "Collections.shuffle(lista);\n",
    "\n",
    "System.out.println(lista);"
   ]
  }
 ],
 "metadata": {
  "kernelspec": {
   "display_name": "Java",
   "language": "java",
   "name": "java"
  },
  "language_info": {
   "codemirror_mode": "java",
   "file_extension": ".jshell",
   "mimetype": "text/x-java-source",
   "name": "Java",
   "pygments_lexer": "java",
   "version": "21.0.2+13-Ubuntu-122.04.1"
  }
 },
 "nbformat": 4,
 "nbformat_minor": 2
}
