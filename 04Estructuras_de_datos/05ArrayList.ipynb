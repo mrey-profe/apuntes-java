{
 "cells": [
  {
   "cell_type": "markdown",
   "metadata": {},
   "source": [
    "# Problemas de los Arrays\n",
    "\n",
    "Estos son algunos de los problemas de los Arrays:\n",
    "- Tamaño fijo, no se pueden aumentar o eliminar elementos una vez que se ha creado.\n",
    "- Si se necesita insertar un elemento en la mitad del array, se deben mover todos los elementos.\n",
    "- No son objetos.\n",
    "- No tienen métodos para agregar, eliminar o buscar elementos.\n",
    "\n",
    "# Clase ArrayList\n",
    "\n",
    "Es probablemente la más utilizada de las clases de colecciones en Java. \n",
    "\n",
    "Se trata de un array dinámico, que incrementa su tamaño a medida que es necesario.\n",
    "\n",
    "Solo almacenará objetos, no tipos primitivos. Para almacenar tipos primitivos, se utilizan las clases **wrappers**.\n",
    "\n",
    "## Creación de un ArrayList\n",
    "\n",
    "Para crear un ArrayList, se utiliza la siguiente sintaxis:\n",
    "\n",
    "```java\n",
    "ArrayList<TipoObjetoAlmacenado> lista = new ArrayList<>();\n",
    "```"
   ]
  },
  {
   "cell_type": "code",
   "execution_count": 1,
   "metadata": {},
   "outputs": [],
   "source": [
    "ArrayList<Integer> enteros = new ArrayList<>();\n",
    "ArrayList<String> nombres = new ArrayList<>();"
   ]
  },
  {
   "cell_type": "markdown",
   "metadata": {},
   "source": [
    "## Constructores\n",
    "\n",
    "- `ArrayList()`: Crea un ArrayList vacío, de capacidad inicial 10.\n",
    "- `ArrayList(int capacidadInicial)`: Crea un ArrayList vacío, de capacidad inicial la que se le pase como parámetro.\n",
    "- `ArrayList(Collection c)`: Crea un ArrayList con los elementos de la colección que se le pase como parámetro."
   ]
  },
  {
   "cell_type": "markdown",
   "metadata": {},
   "source": [
    "## Métodos\n",
    "\n",
    "- `get(int index)`: Devuelve el elemento que se encuentra en la posición indicada.\n",
    "- `size()`: Devuelve el número de elementos de la lista.\n",
    "- `add(Object o)`: Añade un elemento al final de la lista.\n",
    "- `add(int index, Object o)`: Añade un elemento en la posición indicada.\n",
    "- `addAll(Collection c)`: Añade todos los elementos de la colección que se le pase como parámetro al final de la lista.\n",
    "- `set(int index, Object o)`: Reemplaza el elemento que se encuentra en la posición indicada por el que se le pasa como parámetro.\n",
    "- `contains(Object o)`: Devuelve true si la lista contiene el objeto que se le pasa como parámetro.\n",
    "- `indexOf(Object o)`: Devuelve la posición del objeto que se le pasa como parámetro.\n",
    "- `isEmpty()`: Devuelve true si la lista está vacía.\n",
    "- `clear()`: Elimina todos los elementos de la lista.\n",
    "- `remove(int index)`: Elimina el elemento que se encuentra en la posición indicada.\n",
    "- `remove(Object o)`: Elimina el objeto que se le pasa como parámetro.\n",
    "- `toArray()`: Devuelve un array con los elementos de la lista.\n",
    "- `toString()`: Devuelve una cadena con los elementos de la lista.\n"
   ]
  },
  {
   "cell_type": "code",
   "execution_count": 4,
   "metadata": {},
   "outputs": [
    {
     "name": "stdout",
     "output_type": "stream",
     "text": [
      "1\n",
      "[1, 2]\n",
      "[2]\n",
      "[2, 7, 8, 9]\n",
      "[2, 11, 8, 9]\n",
      "Sí contiene el 11\n"
     ]
    }
   ],
   "source": [
    "ArrayList<Integer> enteros = new ArrayList<>();\n",
    "\n",
    "enteros.add(1);\n",
    "enteros.add(2);\n",
    "\n",
    "System.out.println(enteros.get(0));\n",
    "System.out.println(enteros); //Llama al método toString\n",
    "\n",
    "enteros.remove(0);\n",
    "System.out.println(enteros);\n",
    "\n",
    "enteros.add(7);\n",
    "enteros.add(8);\n",
    "enteros.add(9);\n",
    "\n",
    "System.out.println(enteros);\n",
    "enteros.set(1, 11);\n",
    "System.out.println(enteros);\n",
    "\n",
    "if (enteros.contains(11)) {\n",
    "    System.out.println(\"Sí contiene el 11\");\n",
    "} else {\n",
    "    System.out.println(\"No contiene el 11\");\n",
    "}"
   ]
  },
  {
   "cell_type": "markdown",
   "metadata": {},
   "source": [
    "## Recorrido de los ArrayList\n",
    "\n",
    "### Bucle for"
   ]
  },
  {
   "cell_type": "code",
   "execution_count": 3,
   "metadata": {},
   "outputs": [
    {
     "name": "stdout",
     "output_type": "stream",
     "text": [
      "Juan\n",
      "Pedro\n",
      "María\n",
      "Nuria\n"
     ]
    }
   ],
   "source": [
    "ArrayList<String> nombres = new ArrayList<>();\n",
    "\n",
    "nombres.add(\"Juan\");\n",
    "nombres.add(\"Pedro\");\n",
    "nombres.add(\"María\");\n",
    "nombres.add(\"Nuria\");\n",
    "\n",
    "for (int i = 0; i < nombres.size(); i++) {\n",
    "    System.out.println(nombres.get(i));\n",
    "}"
   ]
  },
  {
   "cell_type": "markdown",
   "metadata": {},
   "source": [
    "### Bucle for mejorado"
   ]
  },
  {
   "cell_type": "code",
   "execution_count": 8,
   "metadata": {},
   "outputs": [
    {
     "name": "stdout",
     "output_type": "stream",
     "text": [
      "Juan\n",
      "Pedro\n",
      "María\n",
      "Nuria\n"
     ]
    }
   ],
   "source": [
    "for (String nombre : nombres) {\n",
    "    System.out.println(nombre);\n",
    "}"
   ]
  },
  {
   "cell_type": "markdown",
   "metadata": {},
   "source": [
    "### Iteradores\n",
    "\n",
    "Es el método más adecuado si queremos eliminar elementos.\n",
    "\n",
    "Todas las listas implementan la interfaz `Iterator<E>` que debe implementar un método `iterator()` que devuelve un iterador para recorrer la lista.\n",
    "\n",
    "Esta interfaz, entre otros, cuenta con estos métodos:\n",
    "- `hasNext()`: Devuelve true si hay más elementos.\n",
    "- `next()`: Devuelve el siguiente elemento.\n",
    "- `remove()`: Elimina el último elemento devuelto por `next()`."
   ]
  },
  {
   "cell_type": "code",
   "execution_count": 11,
   "metadata": {},
   "outputs": [
    {
     "name": "stdout",
     "output_type": "stream",
     "text": [
      "Juan\n",
      "Pedro\n",
      "María\n",
      "Nuria\n"
     ]
    }
   ],
   "source": [
    "\n",
    "\n",
    "//Creamos el iterador​\n",
    "Iterator<String> iterador = nombres.iterator();\n",
    "\n",
    "///Recorremos los elementos del ArrayList​\n",
    "while (iterador.hasNext()) {\n",
    "    String nombre = iterador.next(); //Acceso a cada elemento​\n",
    "    System.out.println(nombre);\n",
    "}"
   ]
  }
 ],
 "metadata": {
  "kernelspec": {
   "display_name": "Java",
   "language": "java",
   "name": "java"
  },
  "language_info": {
   "codemirror_mode": "java",
   "file_extension": ".jshell",
   "mimetype": "text/x-java-source",
   "name": "java",
   "pygments_lexer": "java",
   "version": "21.0.2+13-Ubuntu-120.04.1"
  }
 },
 "nbformat": 4,
 "nbformat_minor": 2
}
