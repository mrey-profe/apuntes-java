{
 "cells": [
  {
   "cell_type": "markdown",
   "metadata": {},
   "source": [
    "# Clases Wrapper o envoltorio\n",
    "\n",
    "Las clases envoltorio o wrapper son clases que envuelven a otras clases para añadir funcionalidades adicionales. \n",
    "\n",
    "Existen clases envoltorio para los tipos primitivos de Java, como Integer, Double, Float, etc. Estas clases envoltorio permiten convertir un tipo primitivo en un objeto.\n",
    "\n",
    "Para los caracteres, la clase envoltorio es Character."
   ]
  },
  {
   "cell_type": "code",
   "execution_count": null,
   "metadata": {
    "vscode": {
     "languageId": "java"
    }
   },
   "outputs": [],
   "source": [
    "Integer entero = 5;\n",
    "System.out.println(entero);"
   ]
  },
  {
   "cell_type": "markdown",
   "metadata": {},
   "source": [
    "## Clase `Character`\n",
    "\n",
    "La clase `Character` es una clase envoltorio para el tipo primitivo `char`.\n",
    "\n",
    "La clase `Character` tiene varios métodos estáticos que permiten realizar operaciones con caracteres.\n",
    "\n",
    "### Métodos de la clase `Character`\n",
    "\n",
    "Métodos de comparación:\n",
    "\n",
    "- `isDigit(char ch)`: Devuelve `true` si el carácter es un dígito.\n",
    "- `isLetter(char ch)`: Devuelve `true` si el carácter es una letra.\n",
    "- `isLetterOrDigit(char ch)`: Devuelve `true` si el carácter es una letra o un dígito.\n",
    "- `isLowerCase(char ch)`: Devuelve `true` si el carácter es una letra minúscula.\n",
    "- `isUpperCase(char ch)`: Devuelve `true` si el carácter es una letra mayúscula.\n",
    "- `isSpaceChar(char ch)`: Devuelve `true` si el carácter es un espacio en blanco.\n",
    "- `isWhitespace(char ch)`: Devuelve `true` si el carácter es uno de los caracteres de espaciado.\n",
    "\n",
    "Métodos de conversión:\n",
    "\n",
    "- `toLowerCase(char ch)`: Convierte el carácter a minúscula.\n",
    "- `toUpperCase(char ch)`: Convierte el carácter a mayúscula.\n",
    "- `toString(char ch)`: Devuelve una cadena que representa el carácter."
   ]
  },
  {
   "cell_type": "code",
   "execution_count": 4,
   "metadata": {
    "vscode": {
     "languageId": "java"
    }
   },
   "outputs": [
    {
     "name": "stdout",
     "output_type": "stream",
     "text": [
      "true\n",
      "false\n"
     ]
    },
    {
     "name": "stdout",
     "output_type": "stream",
     "text": [
      "true\n",
      "true\n"
     ]
    }
   ],
   "source": [
    "System.out.println(Character.isSpaceChar(' '));\n",
    "System.out.println(Character.isSpaceChar('\\n'));\n",
    "System.out.println(Character.isWhitespace(' '));\n",
    "System.out.println(Character.isWhitespace('\\n'));"
   ]
  },
  {
   "cell_type": "code",
   "execution_count": 3,
   "metadata": {
    "vscode": {
     "languageId": "java"
    }
   },
   "outputs": [
    {
     "name": "stdout",
     "output_type": "stream",
     "text": [
      "true\n",
      "N\n"
     ]
    }
   ],
   "source": [
    "char c = 'n';\n",
    "System.out.println(Character.isLowerCase(c));\n",
    "char c_may = Character.toUpperCase(c);\n",
    "System.out.println(c_may);"
   ]
  }
 ],
 "metadata": {
  "kernelspec": {
   "display_name": "Java",
   "language": "java",
   "name": "java"
  },
  "language_info": {
   "codemirror_mode": "java",
   "file_extension": ".jshell",
   "mimetype": "text/x-java-source",
   "name": "Java",
   "pygments_lexer": "java",
   "version": "21.0.2+13-LTS-58"
  }
 },
 "nbformat": 4,
 "nbformat_minor": 2
}
