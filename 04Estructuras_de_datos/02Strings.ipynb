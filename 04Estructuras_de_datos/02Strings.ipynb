{
 "cells": [
  {
   "cell_type": "markdown",
   "metadata": {},
   "source": [
    "# La clase String\n",
    "\n",
    "Java crea un objeto de la clase `String` cada vez que se declara una cadena de texto. También se puede crear un objeto de la clase `String` utilizando el operador `new`. \n",
    "\n",
    "La clase `String` es inmutable, lo que significa que una vez que se crea un objeto de la clase `String`, no se puede modificar. Todas las operaciones que se realizan en un objeto de la clase `String` crean un nuevo objeto de la clase `String`.\n"
   ]
  },
  {
   "cell_type": "markdown",
   "metadata": {},
   "source": [
    "# La clase String\n",
    "\n",
    "Java crea un objeto de la clase `String` cada vez que se declara una cadena de texto. También se puede crear un objeto de la clase `String` utilizando el operador `new`. \n",
    "\n",
    "La clase `String` es inmutable, lo que significa que una vez que se crea un objeto de la clase `String`, no se puede modificar. Todas las operaciones que se realizan en un objeto de la clase `String` crean un nuevo objeto de la clase `String`.\n"
   ]
  },
  {
   "cell_type": "code",
   "execution_count": 1,
   "metadata": {
    "vscode": {
     "languageId": "java"
    }
   },
   "outputs": [],
   "source": [
    "String cadena = \"Hola Mundo\";\n",
    "String cadena2 = new String(\"Hola Mundo\");"
   ]
  },
  {
   "cell_type": "markdown",
   "metadata": {},
   "source": [
    "## Concatenación\n",
    "\n",
    "La concatenación de cadenas de texto se puede realizar utilizando el operador `+` o el método `concat`. "
   ]
  },
  {
   "cell_type": "code",
   "execution_count": 2,
   "metadata": {
    "vscode": {
     "languageId": "java"
    }
   },
   "outputs": [
    {
     "name": "stdout",
     "output_type": "stream",
     "text": [
      "Buenos Dias\n",
      "Buenos Dias\n",
      "Buenos Dias!\n",
      "Hola Mundo\n"
     ]
    }
   ],
   "source": [
    "String cadena3 = \"Buenos \";\n",
    "String cadena4 = \"Dias\";\n",
    "String concatenada1 = cadena3 + cadena4;\n",
    "System.out.println(concatenada1);\n",
    "String concatenada2 = cadena3.concat(cadena4);\n",
    "System.out.println(concatenada2);\n",
    "String cadena5 = \"!\";\n",
    "String concatenada3 = cadena3.concat(cadena4).concat(cadena5);\n",
    "System.out.println(concatenada3);\n",
    "String concatenada4 = \"Hola\".concat(\" \").concat(\"Mundo\");\n",
    "System.out.println(concatenada4);"
   ]
  },
  {
   "cell_type": "markdown",
   "metadata": {},
   "source": [
    "## Longitud\n",
    "\n",
    "Se utiliza el método `length()`."
   ]
  },
  {
   "cell_type": "code",
   "execution_count": 1,
   "metadata": {
    "vscode": {
     "languageId": "java"
    }
   },
   "outputs": [
    {
     "name": "stdout",
     "output_type": "stream",
     "text": [
      "10\n"
     ]
    }
   ],
   "source": [
    "String cadena = \"Hola Mundo\";\n",
    "System.out.println(cadena.length());"
   ]
  },
  {
   "cell_type": "markdown",
   "metadata": {},
   "source": [
    "## Comparación\n",
    "\n",
    "Se utiliza el método `equals()` para comparar dos cadenas de texto.\n",
    "\n",
    "No podemos comparar dos cadenas de texto utilizando el operador `==` porque este operador compara las referencias de los objetos, no los valores de los objetos. Es decir, comparará las direcciones de memoria de los objetos, no los valores de los objetos."
   ]
  },
  {
   "cell_type": "code",
   "execution_count": 2,
   "metadata": {
    "vscode": {
     "languageId": "java"
    }
   },
   "outputs": [
    {
     "name": "stdout",
     "output_type": "stream",
     "text": [
      "false\n"
     ]
    }
   ],
   "source": [
    "String cadena1 = \"Hola\";\n",
    "String cadena2 = \"Ola\";\n",
    "System.out.println(cadena1.equals(cadena2));"
   ]
  },
  {
   "cell_type": "markdown",
   "metadata": {},
   "source": [
    "### Otros métodos de comparación\n",
    "- `boolean equals(String str)`: compara dos cadenas de texto, deben coincidir en mayúsculas y minúsculas.\n",
    "- `boolean equalsIgnoreCase(String str)`: compara dos cadenas de texto, no importa si coinciden en mayúsculas y minúsculas.\n",
    "- `boolean isEmpty()`: devuelve `true` si la cadena de texto está vacía.\n",
    "- `int compareTo(String str)`: compara dos cadenas de texto, devuelve un número negativo si la cadena sobre la que se llama al método es menor que la cadena que se pasa como argumento, un número positivo si la cadena sobre la que se llama al método es mayor que la cadena que se pasa como argumento y 0 si las cadenas de texto son iguales. Se compara en base al valor Unicode de los caracteres, lo que hace que habitualmente se comparen en base al orden alfabético.\n",
    "- `int compareToIgnoreCase(String str)`: compara dos cadenas de texto, no importa si coinciden en mayúsculas y minúsculas."
   ]
  },
  {
   "cell_type": "code",
   "execution_count": 8,
   "metadata": {
    "vscode": {
     "languageId": "java"
    }
   },
   "outputs": [
    {
     "name": "stdout",
     "output_type": "stream",
     "text": [
      "-128\n"
     ]
    }
   ],
   "source": [
    "String cadena1 = \"casco\";\n",
    "String cadena2 = \"cása\";\n",
    "System.out.println(cadena1.compareTo(cadena2));"
   ]
  },
  {
   "cell_type": "markdown",
   "metadata": {},
   "source": [
    "## Conversión de Strings\n",
    "\n",
    "- `String toLowerCase()`: convierte todos los caracteres de la cadena de texto a minúsculas.\n",
    "- `String toUpperCase()`: convierte todos los caracteres de la cadena de texto a mayúsculas.\n",
    "- `String valueOf(int i)`: convierte un entero en una cadena de texto.\n",
    "- `String valueOf(double d)`: convierte un número de punto flotante en una cadena de texto.\n",
    "- `String valueOf(boolean b)`: convierte un booleano en una cadena de texto.\n",
    "- `String valueOf(char c)`: convierte un carácter en una cadena de texto.\n",
    "- `String valueOf(Object obj)`: convierte un objeto en una cadena de texto (llama al método `toString()` del objeto).\n",
    "- `String replace(char oldChar, char newChar)`: reemplaza todas las ocurrencias de `oldChar` por `newChar`.\n",
    "`String replace(CharSequence target, CharSequence replacement)`: reemplaza todas las ocurrencias de `target` por `replacement`."
   ]
  },
  {
   "cell_type": "code",
   "execution_count": 16,
   "metadata": {
    "vscode": {
     "languageId": "java"
    }
   },
   "outputs": [
    {
     "name": "stdout",
     "output_type": "stream",
     "text": [
      "HOLA\n",
      "Hola\n",
      "Yo estomos en primovero\n",
      "To to\n"
     ]
    }
   ],
   "source": [
    "String cadena = \"Hola\";\n",
    "System.out.println(cadena.toUpperCase());\n",
    "System.out.println(cadena); //Strings son inmutables\n",
    "String cadena = \"Ya estamos en primavera\";\n",
    "System.out.println(cadena.replace('a', 'o'));\n",
    "String cadena = \"Tam tam\";\n",
    "System.out.println(cadena.replace(\"am\", \"o\"));"
   ]
  },
  {
   "cell_type": "markdown",
   "metadata": {},
   "source": [
    "### Conversión de tipos de/hacia Strings\n",
    "\n",
    "Para convertir un tipo de dato a `String`, se puede utilizar el método `valueOf` de la clase `String`, concatenar el valor con una cadena de texto vacía o utilizar el método `toString` de la clase del objeto."
   ]
  },
  {
   "cell_type": "code",
   "execution_count": 5,
   "metadata": {
    "vscode": {
     "languageId": "java"
    }
   },
   "outputs": [
    {
     "name": "stdout",
     "output_type": "stream",
     "text": [
      "5\n",
      "5\n",
      "5\n"
     ]
    }
   ],
   "source": [
    "int i = 5;\n",
    "String cadena = String.valueOf(i);\n",
    "System.out.println(cadena);\n",
    "String cadena2 = \"\" + i;\n",
    "System.out.println(cadena2);\n",
    "String cadena3 = Integer.toString(i);\n",
    "System.out.println(cadena3);"
   ]
  },
  {
   "cell_type": "markdown",
   "metadata": {},
   "source": [
    "#### Conversión de Strings a tipos de datos primitivos\n",
    "\n",
    "Se utiliza el método `parseTipoDato` de la clase `TipoDato` para convertir una cadena de texto en un tipo de dato primitivo. "
   ]
  },
  {
   "cell_type": "code",
   "execution_count": 4,
   "metadata": {
    "vscode": {
     "languageId": "java"
    }
   },
   "outputs": [],
   "source": [
    "int i = Integer.parseInt(\"5\");\n",
    "float f = Float.parseFloat(\"5.5\");\n",
    "double d = Double.parseDouble(\"5.5\");\n",
    "long l = Long.parseLong(\"5\");"
   ]
  },
  {
   "cell_type": "markdown",
   "metadata": {},
   "source": [
    "## Búsqueda"
   ]
  },
  {
   "cell_type": "markdown",
   "metadata": {},
   "source": [
    "### Búsqueda de caracteres\n",
    "\n",
    "- `char charAt(int index)`: devuelve el carácter en la posición `index` de la cadena de texto. Los índices de las cadenas empiezan en 0.\n",
    "- `int indexOf(char c)`: devuelve la posición de la primera ocurrencia de `c` en la cadena de texto.\n",
    "- `int indexOf(char c, int fromIndex)`: devuelve la posición de la primera ocurrencia de `c` en la cadena de texto, comenzando a buscar desde la posición `fromIndex`.\n",
    "- `int lastIndexOf(char c)`: devuelve la posición de la última ocurrencia de `c` en la cadena de texto.\n",
    "- `int lastIndexOf(char c, int fromIndex)`: devuelve la posición de la última ocurrencia de `c` en la cadena de texto, comenzando a buscar desde la posición `fromIndex`."
   ]
  },
  {
   "cell_type": "code",
   "execution_count": 17,
   "metadata": {
    "vscode": {
     "languageId": "java"
    }
   },
   "outputs": [
    {
     "name": "stdout",
     "output_type": "stream",
     "text": [
      "3\n"
     ]
    }
   ],
   "source": [
    "String cadena = \"Esto es una cadena\";\n",
    "System.out.println(cadena.indexOf('o'));"
   ]
  },
  {
   "cell_type": "markdown",
   "metadata": {},
   "source": [
    "### Búsqueda de subcadenas\n",
    "\n",
    "- `int indexOf(String str)`: devuelve la posición de la primera ocurrencia de `str` en la cadena de texto.\n",
    "- `int indexOf(String str, int fromIndex)`: devuelve la posición de la primera ocurrencia de `str` en la cadena de texto, comenzando a buscar desde la posición `fromIndex`.\n",
    "- `int lastIndexOf(String str)`: devuelve la posición de la última ocurrencia de `str` en la cadena de texto.\n",
    "- `int lastIndexOf(String str, int fromIndex)`: devuelve la posición de la última ocurrencia de `str` en la cadena de texto, comenzando a buscar desde la posición `fromIndex`.\n",
    "- `boolean startsWith(String prefix)`: devuelve `true` si la cadena de texto comienza con `prefix`.\n",
    "- `boolean endsWith(String suffix)`: devuelve `true` si la cadena de texto termina con `suffix`.\n",
    "- `boolean contains(CharSequence sequence)`: devuelve `true` si la cadena de texto contiene `sequence`."
   ]
  },
  {
   "cell_type": "markdown",
   "metadata": {},
   "source": [
    "## Extracción de subcadenas\n",
    "\n",
    "- `String substring(int beginIndex)`: devuelve una subcadena de la cadena de texto, comenzando desde `beginIndex`.\n",
    "- `String substring(int beginIndex, int endIndex)`: devuelve una subcadena de la cadena de texto, comenzando desde `beginIndex` y terminando en `endIndex - 1`.\n",
    "- `String trim()`: elimina los espacios en blanco al principio y al final de la cadena de texto.\n",
    "- `String[] split(String regex)`: divide la cadena de texto en subcadenas utilizando `regex` (expresión regular) como delimitador."
   ]
  },
  {
   "cell_type": "markdown",
   "metadata": {},
   "source": [
    "## Formateo\n",
    "\n",
    "- `String format(String format, Object... args)`: devuelve una cadena de texto formateada utilizando `format` como formato y `args` como argumentos.\n",
    "\n",
    "Dentro de `format`, se pueden utilizar los siguientes especificadores de formato:\n",
    "- `%d`: número entero.\n",
    "- `%f`: número de punto flotante.\n",
    "- `%c`: carácter.\n",
    "- `%b`: booleano.\n",
    "- `%s`: cadena de texto. Utilizado para objetos, llamando a su método `toString()` o a `String.valueOf(obj)`.\n",
    "\n",
    "Podemos utilizarlo para indicar con cuántos dígitos queremos que se muestre un resultado.\n",
    "\n",
    "- `%08d`: muestra un número entero con 8 dígitos, rellenando con ceros a la izquierda si es necesario.\n",
    "- `%.2f`: muestra un número de punto flotante con 2 decimales.\n",
    "- `%+.2f`: muestra un número de punto flotante con 2 decimales, mostrando el signo si es positivo.\n",
    "- `%10s`: muestra una cadena de texto con 10 caracteres, rellenando con espacios a la izquierda si es necesario.\n",
    "- `%-10s`: muestra una cadena de texto con 10 caracteres, rellenando con espacios a la derecha si es necesario.\n",
    "\n",
    "Si queremos mostrar un porcentaje, podemos utilizar `%%`.\n",
    "\n",
    "Para mostrar por pantalla utilizando esta sintaixs, podemos utilizar `System.out.printf()`."
   ]
  },
  {
   "cell_type": "code",
   "execution_count": 19,
   "metadata": {
    "vscode": {
     "languageId": "java"
    }
   },
   "outputs": [
    {
     "name": "stdout",
     "output_type": "stream",
     "text": [
      "El valor de PI es 3,14"
     ]
    },
    {
     "name": "stdout",
     "output_type": "stream",
     "text": [
      "Un entero       56\n",
      "Un entero 00000056"
     ]
    },
    {
     "data": {
      "text/plain": [
       "java.io.PrintStream@4d2a534e"
      ]
     },
     "execution_count": 19,
     "metadata": {},
     "output_type": "execute_result"
    }
   ],
   "source": [
    "System.out.printf(\"El valor de PI es %.2f\", 3.14159);\n",
    "System.out.printf(\"Un entero %8d\\n\", 56);\n",
    "System.out.printf(\"Un entero %08d\", 56);"
   ]
  },
  {
   "cell_type": "markdown",
   "metadata": {},
   "source": [
    "## Recorrido de Strings\n",
    "\n",
    "Utilizamos los métodos `charAt()` y `length()` para recorrer una cadena de texto."
   ]
  },
  {
   "cell_type": "code",
   "execution_count": 10,
   "metadata": {
    "vscode": {
     "languageId": "java"
    }
   },
   "outputs": [
    {
     "name": "stdout",
     "output_type": "stream",
     "text": [
      "H\n",
      "o\n",
      "l\n",
      "a\n",
      " \n",
      "M\n",
      "u\n",
      "n\n",
      "d\n",
      "o\n"
     ]
    }
   ],
   "source": [
    "String cadena = \"Hola Mundo\";\n",
    "\n",
    "for (int i = 0; i < cadena.length(); i++) {\n",
    "    System.out.println(cadena.charAt(i));\n",
    "}"
   ]
  },
  {
   "cell_type": "markdown",
   "metadata": {},
   "source": [
    "Si queremos modificarla, debemos recordar que es inmutable, por lo que debemos crear un nuevo objeto de la clase `String` con los cambios que queremos realizar."
   ]
  },
  {
   "cell_type": "code",
   "execution_count": 12,
   "metadata": {
    "vscode": {
     "languageId": "java"
    }
   },
   "outputs": [
    {
     "name": "stdout",
     "output_type": "stream",
     "text": [
      "Hl Mnd\n"
     ]
    }
   ],
   "source": [
    "String cadena = \"Hola Mundo\";\n",
    "// Eliminamos las vocales\n",
    "String resultado = \"\";\n",
    "for (int i = 0; i < cadena.length(); i++) {\n",
    "    /*if (cadena.charAt(i) != 'a' && cadena.charAt(i) != 'e' && cadena.charAt(i) != 'i' && cadena.charAt(i) != 'o' && cadena.charAt(i) != 'u') {\n",
    "        resultado += cadena.charAt(i);\n",
    "    } \n",
    "    if (!(cadena.charAt(i) == 'a' || cadena.charAt(i) == 'e' || cadena.charAt(i) == 'i' || cadena.charAt(i) == 'o' || cadena.charAt(i) != 'u')) {\n",
    "        resultado += cadena.charAt(i);\n",
    "    } */\n",
    "    if (!\"aeiou\".contains(String.valueOf(cadena.charAt(i)))) { //En Java no existe el operador in\n",
    "        resultado += cadena.charAt(i);\n",
    "    }\n",
    "}\n",
    "System.out.println(resultado);\n"
   ]
  },
  {
   "cell_type": "markdown",
   "metadata": {},
   "source": [
    "# Expresiones regulares\n",
    "\n",
    "Las expresiones regulares son patrones que se utilizan para buscar y reemplazar texto. \n"
   ]
  },
  {
   "cell_type": "markdown",
   "metadata": {},
   "source": [
    "## Expresiones regulares en la clase `String`\n",
    "\n",
    "- `boolean matches(String regex)`: devuelve `true` si la cadena de texto coincide con `regex`."
   ]
  },
  {
   "cell_type": "code",
   "execution_count": 22,
   "metadata": {
    "vscode": {
     "languageId": "java"
    }
   },
   "outputs": [
    {
     "name": "stdout",
     "output_type": "stream",
     "text": [
      "Matrícula incorrecta\n"
     ]
    }
   ],
   "source": [
    "String matricula = \"1234ABC\";\n",
    "\n",
    "if (matricula.matches(\"[0-9]{4}[A-Z]{3}\")) {\n",
    "    System.out.println(\"Matrícula correcta\");\n",
    "} else {\n",
    "    System.out.println(\"Matrícula incorrecta\");\n",
    "}"
   ]
  },
  {
   "cell_type": "code",
   "execution_count": null,
   "metadata": {
    "vscode": {
     "languageId": "java"
    }
   },
   "outputs": [],
   "source": [
    "String codigo = \"MR0234\";\n",
    "String patron = \"MP[0-9]{4}\";\n",
    "System.out.println(codigo.matches(patron));\n",
    "\n",
    "String ciclo = \"SIFC03\";\n",
    "String patronCiclos = \"[BMS](IFC|IMP)\\\\d{2}\";\n",
    "System.out.println(ciclo.matches(patronCiclos));\n",
    "\n",
    "String dni = \"12345678-Z\";\n",
    "String patronDNI = \"\\\\d{8}(-|\\\\s)?[A-Za-z]\";\n",
    "System.out.println(dni.matches(patronDNI));\n",
    "\n",
    "String matricula = \"M-1234-AB\";\n",
    "String patronMatricula = \"(\\\\d{4}[A-Z&&[^AEIOU]]{3})|([A-Z]{1,2}-\\\\d{4}-[A-Z]{1,2})|([A-Z]{1,2}-\\\\d{5})\";\n",
    "System.out.println(matricula.matches(patronMatricula));"
   ]
  },
  {
   "cell_type": "markdown",
   "metadata": {},
   "source": [
    "\n",
    "## Comparación o búsqueda con expresiones regulares\n",
    "\n",
    "Se utilizan las clases `Pattern` y `Matcher`.\n",
    "\n",
    "1. Crear un patrón: Crear un objeto `Pattern` que represente la expresión regular. Esto se hace utilizando el método `compile()` de la clase `Pattern`."
   ]
  },
  {
   "cell_type": "code",
   "execution_count": 14,
   "metadata": {
    "vscode": {
     "languageId": "java"
    }
   },
   "outputs": [],
   "source": [
    "import java.util.regex.*;\n",
    "\n",
    "Pattern patron = Pattern.compile(\"\\\\d{2,5}\");"
   ]
  },
  {
   "cell_type": "markdown",
   "metadata": {},
   "source": [
    "2. Crear un objeto `Matcher`: Crear un objeto `Matcher` que represente el texto en el que se buscará la expresión regular. Esto se hace utilizando el método `matcher()` del objeto `Pattern`."
   ]
  },
  {
   "cell_type": "code",
   "execution_count": 15,
   "metadata": {
    "vscode": {
     "languageId": "java"
    }
   },
   "outputs": [],
   "source": [
    "Matcher matcher = patron.matcher(\"2345\");"
   ]
  },
  {
   "cell_type": "markdown",
   "metadata": {},
   "source": [
    "3. Comparación para ver si el texto cumple con la expresión regular: Utilizar el método `matches()` del objeto `Matcher`."
   ]
  },
  {
   "cell_type": "code",
   "execution_count": 17,
   "metadata": {
    "vscode": {
     "languageId": "java"
    }
   },
   "outputs": [
    {
     "name": "stdout",
     "output_type": "stream",
     "text": [
      "Coincide\n"
     ]
    }
   ],
   "source": [
    "if (matcher.matches()) {\n",
    "\tSystem.out.println(\"Coincide\");\n",
    "} else {\n",
    "\tSystem.out.println(\"No coincide\");\n",
    "}"
   ]
  },
  {
   "cell_type": "markdown",
   "metadata": {},
   "source": [
    "4. Encontrar la expresión regular en el texto: Utilizar el método `find()` del objeto `Matcher`. Se puede acceder al valor encontrado utilizando el método `group()` del objeto `Matcher`. Se puede acceder a la posición del valor encontrado utilizando los métodos `start()` y `end()` del objeto `Matcher`."
   ]
  },
  {
   "cell_type": "code",
   "execution_count": 20,
   "metadata": {
    "vscode": {
     "languageId": "java"
    }
   },
   "outputs": [
    {
     "name": "stdout",
     "output_type": "stream",
     "text": [
      "2345\t\t1 - 5\n",
      "345\t\t7 - 10\n",
      "56345\t\t25 - 30\n",
      "63456\t\t30 - 35\n",
      "34\t\t36 - 38\n"
     ]
    }
   ],
   "source": [
    "Pattern pat = Pattern.compile(\"\\\\d{2,5}\");\n",
    "Matcher mat = pat.matcher(\"a2345b 345 dsfsdfg 1 sdf 5634563456 34\");\n",
    "\n",
    "while (mat.find()) {\n",
    "\tSystem.out.println(mat.group() + \"\\t\\t\" + mat.start() + \" - \" + mat.end());\n",
    "}"
   ]
  },
  {
   "cell_type": "markdown",
   "metadata": {},
   "source": [
    "# La clase StringBuilder\n",
    "\n",
    "La clase `StringBuilder` es una clase mutable que se utiliza para crear cadenas de texto. \n",
    "\n",
    "Los objetos StringBuilder son similares a los String pero permiten ser modificados sin tener que estar creando y destruyendo el objeto cada vez.\n",
    "\n",
    "## Creación de un objeto StringBuilder\n",
    "\n",
    "Se debe un objeto de la clase `StringBuilder` utilizando el operador `new`."
   ]
  },
  {
   "cell_type": "code",
   "execution_count": 3,
   "metadata": {
    "vscode": {
     "languageId": "java"
    }
   },
   "outputs": [
    {
     "ename": "CompilationException",
     "evalue": "",
     "output_type": "error",
     "traceback": [
      "\u001b[1m\u001b[30m|   \u001b[1m\u001b[30m\u001b[0m\u001b[1m\u001b[30m\u001b[41mStrigBuilder\u001b[0m\u001b[1m\u001b[30m cadenaSB = \"Hola Mundo\"; //Error\u001b[0m",
      "\u001b[1m\u001b[31mcannot find symbol\u001b[0m",
      "\u001b[1m\u001b[31m  symbol:   class StrigBuilder\u001b[0m",
      ""
     ]
    }
   ],
   "source": [
    "StringBuilder cadenaSB = new StringBuilder(\"Hola Mundo\");\n",
    "//No se puede crear un StrigBuilder directamente asignando un literal String\n",
    "StrigBuilder cadenaSB = \"Hola Mundo\"; //Error"
   ]
  },
  {
   "cell_type": "markdown",
   "metadata": {},
   "source": [
    "## Tamaño de un StringBuilder\n",
    "\n",
    " - Longitud actual de un StringBuilder: `length()`.\n",
    " - Capacidad total (o número de caracteres que puede almacenar, va creciendo a medida que va haciendo falta) de un StringBuilder: `capacity()`.\n",
    "        "
   ]
  },
  {
   "cell_type": "markdown",
   "metadata": {},
   "source": [
    "## Métodos de modificación\n",
    "\n",
    "- `append(String str)`: añade `str` al final del `StringBuilder`.\n",
    "- `append(tipoPrimitivo valor)`: añade `valor` al final del `StringBuilder`.\n",
    "- `insert(int offset, String str)`: inserta `str` en la posición `offset` del `StringBuilder`.\n",
    "- `insert(int offset, tipoPrimitivo valor)`: inserta `valor` en la posición `offset` del `StringBuilder`.\n",
    "- `delete(int start, int end)`: elimina los caracteres desde `start` hasta `end - 1` del `StringBuilder`.\n",
    "- `deleteCharAt(int index)`: elimina el carácter en la posición `index` del `StringBuilder`.\n",
    "- `replace(int start, int end, String str)`: reemplaza los caracteres desde `start` hasta `end - 1` por `str`.\n",
    "- `reverse()`: invierte el `StringBuilder`.\n",
    "- `setCharAt(int index, char c)`: establece el carácter en la posición `index` del `StringBuilder` como `c`."
   ]
  },
  {
   "cell_type": "code",
   "execution_count": 11,
   "metadata": {
    "vscode": {
     "languageId": "java"
    }
   },
   "outputs": [
    {
     "name": "stdout",
     "output_type": "stream",
     "text": [
      "Hola Mundo!\n",
      "Hola el Mundo!\n",
      "\n",
      "Hola Mundo!\n",
      "Hola undo!\n",
      "\n",
      "Hola clase!\n",
      "\n",
      "!esalc aloH\n",
      "!esalc aloH\n"
     ]
    }
   ],
   "source": [
    "StringBuilder cadenaSB = new StringBuilder(\"Hola Mundo\");\n",
    "cadenaSB.append(\"!\");\n",
    "System.out.println(cadenaSB);\n",
    "System.out.println(cadenaSB.insert(5, \"el \")); // El propio método modifica y devuelve una referencia al objeto\n",
    "\n",
    "System.out.println();\n",
    "System.out.println(cadenaSB.delete(5, 8));\n",
    "System.out.println(cadenaSB.deleteCharAt(5));\n",
    "\n",
    "System.out.println();\n",
    "System.out.println(cadenaSB.replace(5, 9, \"clase\"));\n",
    "\n",
    "System.out.println();\n",
    "System.out.println(cadenaSB.reverse());\n",
    "System.out.println(cadenaSB); //Vemos que es mutable"
   ]
  }
 ],
 "metadata": {
  "kernelspec": {
   "display_name": "Java",
   "language": "java",
   "name": "java"
  },
  "language_info": {
   "codemirror_mode": "java",
   "file_extension": ".jshell",
   "mimetype": "text/x-java-source",
   "name": "Java",
   "pygments_lexer": "java",
   "version": "21.0.2+13-Ubuntu-122.04.1"
  }
 },
 "nbformat": 4,
 "nbformat_minor": 2
}
