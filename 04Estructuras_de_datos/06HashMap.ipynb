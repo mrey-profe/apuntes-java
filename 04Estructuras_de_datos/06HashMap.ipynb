{
 "cells": [
  {
   "cell_type": "markdown",
   "metadata": {},
   "source": [
    "# Maps\n",
    "\n",
    "Forman parte de la *Java Collections Framework* y son una colección de pares clave-valor. Existen diversas implementaciones como `HashMap`, `TreeMap` y `LinkedHashMap`.\n",
    "\n",
    "## HashMap\n",
    "\n",
    "Es la implementación más común de la interfaz `Map`. Permite almacenar pares clave-valor y no permite claves duplicadas.\n",
    "\n",
    "### Declaración\n",
    "\n",
    "```java\n",
    "HashMap<ClaseClave, ClaseValor> map = new HashMap<>();\n",
    "```\n",
    "\n",
    "### Métodos\n",
    "\n",
    "- `put(K key, V value)`: Inserta un par clave-valor en el mapa. Si ya existe una entrada con esa clave, el valor se reemplaza.\n",
    "- `replace(K key, V value)`: Reemplaza el valor asociado a la clave especificada y devuelve el valor anterior.\n",
    "- `get(Object key)`: Devuelve el valor asociado a la clave especificada.\n",
    "- `remove(Object key)`: Elimina la clave y su valor asociado.\n",
    "- `containsKey(Object key)`: Devuelve `true` si el mapa contiene la clave especificada.\n",
    "- `containsValue(Object value)`: Devuelve `true` si el mapa contiene el valor especificado.\n",
    "- `keySet()`: Devuelve un conjunto con las claves del mapa.\n",
    "- `values()`: Devuelve una colección con los valores del mapa.\n",
    "- `size()`: Devuelve el número de pares clave-valor en el mapa.\n",
    "- `isEmpty()`: Devuelve `true` si el mapa no contiene pares clave-valor.\n",
    "- `clear()`: Elimina todos los pares clave-valor del mapa.\n"
   ]
  },
  {
   "cell_type": "code",
   "execution_count": 2,
   "metadata": {
    "vscode": {
     "languageId": "java"
    }
   },
   "outputs": [
    {
     "name": "stdout",
     "output_type": "stream",
     "text": [
      "Madrid\n",
      "Tenemos almacenada la capital de Bután\n",
      "[Bután, España, Ucrania]\n",
      "[Timbu, Madrid, Kiev]\n"
     ]
    }
   ],
   "source": [
    "HashMap<String, String> capitales = new HashMap<>();\n",
    "capitales.put(\"Ucrania\", \"Kiev\");\n",
    "capitales.put(\"España\", \"Madrid\");\n",
    "capitales.put(\"Bután\", \"Timbu\");\n",
    "\n",
    "System.out.println(capitales.get(\"España\"));\n",
    "\n",
    "if(capitales.containsKey(\"Bután\")) {\n",
    "    System.out.println(\"Tenemos almacenada la capital de Bután\");\n",
    "}\n",
    "\n",
    "System.out.println(capitales.keySet());\n",
    "System.out.println(capitales.values());"
   ]
  },
  {
   "cell_type": "markdown",
   "metadata": {},
   "source": [
    "### Recorrido de un HashMap\n",
    "\n",
    "#### Bucle for mejorado"
   ]
  },
  {
   "cell_type": "code",
   "execution_count": 3,
   "metadata": {
    "vscode": {
     "languageId": "java"
    }
   },
   "outputs": [
    {
     "name": "stdout",
     "output_type": "stream",
     "text": [
      "La capital de Bután es Timbu\n",
      "La capital de España es Madrid\n",
      "La capital de Ucrania es Kiev\n"
     ]
    }
   ],
   "source": [
    "for (String pais : capitales.keySet()) {\n",
    "    System.out.println(\"La capital de \" + pais + \" es \" + capitales.get(pais));\n",
    "}"
   ]
  },
  {
   "cell_type": "markdown",
   "metadata": {},
   "source": [
    "#### Iteradores"
   ]
  },
  {
   "cell_type": "code",
   "execution_count": 4,
   "metadata": {
    "vscode": {
     "languageId": "java"
    }
   },
   "outputs": [
    {
     "name": "stdout",
     "output_type": "stream",
     "text": [
      "La capital de Bután es Timbu\n",
      "La capital de España es Madrid\n",
      "La capital de Ucrania es Kiev\n"
     ]
    }
   ],
   "source": [
    "Iterator<String> it = capitales.keySet().iterator();\n",
    "\n",
    "while(it.hasNext()) {\n",
    "    String pais = it.next();\n",
    "    System.out.println(\"La capital de \" + pais + \" es \" + capitales.get(pais));\n",
    "}"
   ]
  }
 ],
 "metadata": {
  "kernelspec": {
   "display_name": "Java",
   "language": "java",
   "name": "java"
  },
  "language_info": {
   "codemirror_mode": "java",
   "file_extension": ".jshell",
   "mimetype": "text/x-java-source",
   "name": "Java",
   "pygments_lexer": "java",
   "version": "21.0.2+13-Ubuntu-122.04.1"
  }
 },
 "nbformat": 4,
 "nbformat_minor": 2
}
