{
 "cells": [
  {
   "cell_type": "markdown",
   "metadata": {},
   "source": [
    "# Arrays\n",
    "\n",
    "Un array es una estructura de datos que contiene una colección de elementos del mismo tipo, de tamaño fijo, almacenados en posiciones contiguas de memoria. \n",
    "\n",
    "Su tamaño se establece en el momento de crearlo y no puede ser modificado.\n",
    "\n",
    "## Declaración\n",
    "\n",
    "```java\n",
    "tipo[] nombreArray;\n",
    "```\n",
    "\n",
    "## Inicialización\n",
    "\n",
    "Usamos el operador `new` e indicamos el tamaño del array.\n",
    "\n",
    "```java\n",
    "nombreArray = new tipo[tamaño];\n",
    "```"
   ]
  },
  {
   "cell_type": "code",
   "execution_count": 1,
   "metadata": {
    "vscode": {
     "languageId": "java"
    }
   },
   "outputs": [],
   "source": [
    "String[] nombres;\n",
    "nombres = new String[5];"
   ]
  },
  {
   "cell_type": "markdown",
   "metadata": {},
   "source": [
    "O podemos realizar la declaración e inicialización en una sola línea."
   ]
  },
  {
   "cell_type": "code",
   "execution_count": 2,
   "metadata": {
    "vscode": {
     "languageId": "java"
    }
   },
   "outputs": [],
   "source": [
    "String[] nombres = new String[5];"
   ]
  },
  {
   "cell_type": "markdown",
   "metadata": {},
   "source": [
    "\n",
    "\n",
    "## Operador `[]`\n",
    "\n",
    "Permite acceder a los elementos del array mediante un índice que indica la posición del elemento en el array. Este índice comienza en 0."
   ]
  },
  {
   "cell_type": "code",
   "execution_count": 3,
   "metadata": {
    "vscode": {
     "languageId": "java"
    }
   },
   "outputs": [
    {
     "data": {
      "text/plain": [
       "Luisa"
      ]
     },
     "execution_count": 3,
     "metadata": {},
     "output_type": "execute_result"
    }
   ],
   "source": [
    "nombres[0] = \"Juan\";\n",
    "nombres[1] = \"Pedro\";\n",
    "nombres[2] = \"Maria\";\n",
    "nombres[3] = \"Jose\";\n",
    "nombres[4] = \"Luisa\";"
   ]
  },
  {
   "cell_type": "markdown",
   "metadata": {},
   "source": [
    "## Inicialización con `{}`"
   ]
  },
  {
   "cell_type": "code",
   "execution_count": 4,
   "metadata": {
    "vscode": {
     "languageId": "java"
    }
   },
   "outputs": [],
   "source": [
    "String[] nombres;\n",
    "nombres = new String[]{\"Juan\", \"Pedro\", \"Maria\", \"Jose\", \"Luisa\"};"
   ]
  },
  {
   "cell_type": "markdown",
   "metadata": {},
   "source": [
    "## Declaración, instanciación e inicialización en una sola línea"
   ]
  },
  {
   "cell_type": "code",
   "execution_count": 5,
   "metadata": {
    "vscode": {
     "languageId": "java"
    }
   },
   "outputs": [],
   "source": [
    "String[] nombres = {\"Juan\", \"Pedro\", \"Maria\", \"Jose\", \"Luisa\"};"
   ]
  },
  {
   "cell_type": "markdown",
   "metadata": {},
   "source": [
    "## Longitud de un array\n",
    "\n",
    "Para obtener la longitud de un array usamos la propiedad `length`."
   ]
  },
  {
   "cell_type": "code",
   "execution_count": 6,
   "metadata": {
    "vscode": {
     "languageId": "java"
    }
   },
   "outputs": [
    {
     "name": "stdout",
     "output_type": "stream",
     "text": [
      "5\n"
     ]
    }
   ],
   "source": [
    "int[] numeros = {1, 2, 3, 4, 5};\n",
    "System.out.println(numeros.length); "
   ]
  },
  {
   "cell_type": "markdown",
   "metadata": {},
   "source": [
    "## Recorrido de un array\n",
    "\n",
    "### Bucle `for`"
   ]
  },
  {
   "cell_type": "code",
   "execution_count": 7,
   "metadata": {
    "vscode": {
     "languageId": "java"
    }
   },
   "outputs": [
    {
     "name": "stdout",
     "output_type": "stream",
     "text": [
      "1\n",
      "2\n",
      "3\n",
      "4\n",
      "5\n"
     ]
    }
   ],
   "source": [
    "for (int i = 0; i < numeros.length; i++) {\n",
    "    System.out.println(numeros[i]);\n",
    "}"
   ]
  },
  {
   "cell_type": "markdown",
   "metadata": {},
   "source": [
    "### Bucle `for-each`\n",
    "\n",
    "Con este bucle podemos recorrer un array sin necesidad de usar un índice, pero no podemos modificar los elementos del array.\n",
    "\n",
    "```java\n",
    "for (tipo elementos : nombreArray) {\n",
    "    // código\n",
    "}\n",
    "```"
   ]
  },
  {
   "cell_type": "code",
   "execution_count": 8,
   "metadata": {
    "vscode": {
     "languageId": "java"
    }
   },
   "outputs": [
    {
     "name": "stdout",
     "output_type": "stream",
     "text": [
      "Juan\n",
      "Pedro\n",
      "Maria\n",
      "Jose\n",
      "Luisa\n"
     ]
    }
   ],
   "source": [
    "for (String nombre : nombres) {\n",
    "    System.out.println(nombre);\n",
    "}"
   ]
  },
  {
   "cell_type": "markdown",
   "metadata": {},
   "source": [
    "## Paso de arrays a métodos"
   ]
  },
  {
   "cell_type": "code",
   "execution_count": 9,
   "metadata": {
    "vscode": {
     "languageId": "java"
    }
   },
   "outputs": [
    {
     "name": "stdout",
     "output_type": "stream",
     "text": [
      "3.0\n"
     ]
    }
   ],
   "source": [
    "public float calcularMedia(int[] numeros) {\n",
    "    float suma = 0;\n",
    "    for (int i = 0; i < numeros.length; i++) {\n",
    "        suma += numeros[i];\n",
    "    }\n",
    "    return suma / numeros.length;\n",
    "}\n",
    "\n",
    "int[] numeros = {1, 2, 3, 4, 5};\n",
    "float media = calcularMedia(numeros);\n",
    "System.out.println(media);"
   ]
  },
  {
   "cell_type": "markdown",
   "metadata": {},
   "source": [
    "El array se pasa por referencia, por lo que cualquier cambio que se haga en el array dentro del método afectará al array original."
   ]
  },
  {
   "cell_type": "code",
   "execution_count": 10,
   "metadata": {
    "vscode": {
     "languageId": "java"
    }
   },
   "outputs": [
    {
     "name": "stdout",
     "output_type": "stream",
     "text": [
      "6\n",
      "7\n",
      "8\n",
      "9\n",
      "10\n"
     ]
    }
   ],
   "source": [
    "public void aumentarNotas(int[] notas) {\n",
    "    for (int i = 0; i < notas.length; i++) {\n",
    "        notas[i] += 1;\n",
    "    }\n",
    "}\n",
    "\n",
    "int[] notas = {5, 6, 7, 8, 9};\n",
    "aumentarNotas(notas);\n",
    "for (int nota : notas) {\n",
    "    System.out.println(nota);\n",
    "}"
   ]
  },
  {
   "cell_type": "markdown",
   "metadata": {},
   "source": [
    "## Array como tipo de devolución de un método"
   ]
  },
  {
   "cell_type": "code",
   "execution_count": 11,
   "metadata": {
    "vscode": {
     "languageId": "java"
    }
   },
   "outputs": [
    {
     "name": "stdout",
     "output_type": "stream",
     "text": [
      "1\n",
      "2\n",
      "4\n",
      "8\n",
      "16\n"
     ]
    }
   ],
   "source": [
    "public static int[] potencias2(int n) {\n",
    "    int[] potencias = new int[n];\n",
    "    for (int i = 0; i < n; i++) {\n",
    "        potencias[i] = (int) Math.pow(2, i);\n",
    "    }\n",
    "    return potencias;\n",
    "}\n",
    "\n",
    "int[] potencias = potencias2(5);\n",
    "for (int potencia : potencias) {\n",
    "    System.out.println(potencia);\n",
    "}"
   ]
  },
  {
   "cell_type": "markdown",
   "metadata": {},
   "source": [
    "## Arrays multidimensionales\n",
    "\n",
    "```java\n",
    "int[][] matriz = new int[filas][columnas];\n",
    "```"
   ]
  },
  {
   "cell_type": "code",
   "execution_count": 12,
   "metadata": {
    "vscode": {
     "languageId": "java"
    }
   },
   "outputs": [
    {
     "name": "stdout",
     "output_type": "stream",
     "text": [
      "0 1 2 3 \n",
      "1 2 3 4 \n",
      "2 3 4 5 \n"
     ]
    }
   ],
   "source": [
    "int[][] matriz = new int[3][4];\n",
    "\n",
    "for (int i = 0; i < matriz.length; i++) {\n",
    "    for (int j = 0; j < matriz[i].length; j++) {\n",
    "        matriz[i][j] = i + j;\n",
    "    }\n",
    "}\n",
    "\n",
    "for (int i = 0; i < matriz.length; i++) {\n",
    "    for (int j = 0; j < matriz[i].length; j++) {\n",
    "        System.out.print(matriz[i][j] + \" \");\n",
    "    }\n",
    "    System.out.println();\n",
    "}"
   ]
  },
  {
   "cell_type": "markdown",
   "metadata": {},
   "source": [
    "## Arrays multidimensionales irregulares\n",
    "\n",
    "```java\n",
    "int[][] arrayIrreg = new int[3][];\n",
    "\n",
    "arrayIrreg[0] = new int[3];\n",
    "arrayIrreg[1] = new int[2];\n",
    "arrayIrreg[2] = new int[4];\n",
    "```"
   ]
  },
  {
   "cell_type": "code",
   "execution_count": 13,
   "metadata": {
    "vscode": {
     "languageId": "java"
    }
   },
   "outputs": [
    {
     "name": "stdout",
     "output_type": "stream",
     "text": [
      "2 3 \n",
      "4 5 6 \n",
      "7 8 9 10 \n"
     ]
    }
   ],
   "source": [
    "int[][] arrayIrreg = new int[3][];\n",
    "\n",
    "arrayIrreg[0] = new int[] {2, 3};\n",
    "arrayIrreg[1] = new int[] {4, 5, 6};\n",
    "arrayIrreg[2] = new int[] {7, 8, 9, 10};\n",
    "\n",
    "for (int i = 0; i < arrayIrreg.length; i++) {\n",
    "    for (int j = 0; j < arrayIrreg[i].length; j++) {\n",
    "        System.out.print(arrayIrreg[i][j] + \" \");\n",
    "    }\n",
    "    System.out.println();\n",
    "}"
   ]
  },
  {
   "cell_type": "markdown",
   "metadata": {},
   "source": [
    "# La clase `Arrays`\n",
    "\n",
    "La clase `Arrays` proporciona métodos estáticos para trabajar con arrays. Posee muchos métodos útiles para ordenar, buscar, comparar, rellenar, etc.\n",
    "\n",
    "- `static void fill(array, valor)`: Rellena el array con el valor indicado."
   ]
  },
  {
   "cell_type": "code",
   "execution_count": 14,
   "metadata": {
    "vscode": {
     "languageId": "java"
    }
   },
   "outputs": [
    {
     "name": "stdout",
     "output_type": "stream",
     "text": [
      "5\n",
      "5\n",
      "5\n",
      "5\n",
      "5\n"
     ]
    }
   ],
   "source": [
    "int[] miArray = new int[5];\n",
    "Arrays.fill(miArray, 5);\n",
    "\n",
    "for (int i = 0; i < miArray.length; i++) {\n",
    "    System.out.println(miArray[i]);\n",
    "}"
   ]
  },
  {
   "cell_type": "markdown",
   "metadata": {},
   "source": [
    "- `static void fill(array, desde, hasta, valor)`: Rellena el array con el valor indicado desde la posición `desde` hasta la posición `hasta`."
   ]
  },
  {
   "cell_type": "code",
   "execution_count": 15,
   "metadata": {
    "vscode": {
     "languageId": "java"
    }
   },
   "outputs": [
    {
     "name": "stdout",
     "output_type": "stream",
     "text": [
      "0\n",
      "0\n",
      "-1\n",
      "-1\n",
      "0\n"
     ]
    }
   ],
   "source": [
    "int[] miArray = new int[5];\n",
    "Arrays.fill(miArray, 2, 4, -1);\n",
    "\n",
    "for (int i = 0; i < miArray.length; i++) {\n",
    "    System.out.println(miArray[i]);\n",
    "}"
   ]
  },
  {
   "cell_type": "markdown",
   "metadata": {},
   "source": [
    "- `static boolean equals(array1, array2)`: Compara si dos arrays son iguales."
   ]
  },
  {
   "cell_type": "code",
   "execution_count": 16,
   "metadata": {
    "vscode": {
     "languageId": "java"
    }
   },
   "outputs": [
    {
     "name": "stdout",
     "output_type": "stream",
     "text": [
      "Los arrays son iguales\n"
     ]
    }
   ],
   "source": [
    "int[] array1 = {1, 2, 3, 4, 5};\n",
    "int[] array2 = {1, 2, 3, 4, 5};\n",
    "\n",
    "if (Arrays.equals(array1, array2)) {\n",
    "    System.out.println(\"Los arrays son iguales\");\n",
    "} else {\n",
    "    System.out.println(\"Los arrays son diferentes\");\n",
    "}"
   ]
  },
  {
   "cell_type": "markdown",
   "metadata": {},
   "source": [
    "- `static boolean deepEquals(array1, array2)`: Compara si dos arrays multidimensionales son iguales profundizando en las referencias y sucesivas dimensiones.\n",
    "- `static void sort(array)`: Ordena el array en orden ascendente.\n",
    "- `static void sort(array, desde, hasta)`: Ordena el array en orden ascendente desde la posición `desde` hasta la posición `hasta`."
   ]
  },
  {
   "cell_type": "code",
   "execution_count": 17,
   "metadata": {
    "vscode": {
     "languageId": "java"
    }
   },
   "outputs": [
    {
     "name": "stdout",
     "output_type": "stream",
     "text": [
      "2\n",
      "3\n",
      "5\n",
      "8\n",
      "9\n"
     ]
    }
   ],
   "source": [
    "int[] array1 = {9, 5, 8, 3, 2};\n",
    "\n",
    "Arrays.sort(array1);\n",
    "for (int i = 0; i < array1.length; i++) {\n",
    "    System.out.println(array1[i]);\n",
    "}"
   ]
  },
  {
   "cell_type": "markdown",
   "metadata": {},
   "source": [
    "- `static int binarySearch(array, valor)`: Busca un valor en un array ordenador y devuelve su posición si lo encuentra, en caso contrario devuelve un número negativo."
   ]
  },
  {
   "cell_type": "code",
   "execution_count": 18,
   "metadata": {
    "vscode": {
     "languageId": "java"
    }
   },
   "outputs": [
    {
     "name": "stdout",
     "output_type": "stream",
     "text": [
      "0: 1\n",
      "1: 2\n",
      "2: 3\n",
      "3: 4\n",
      "4: 5\n",
      "5: 6\n",
      "6: 7\n",
      "7: 8\n",
      "8: 9\n",
      "7\n"
     ]
    }
   ],
   "source": [
    "int[] miArray = {4, 5, 1, 3, 7, 8, 2, 9, 6};\n",
    "\n",
    "Arrays.sort(miArray);\n",
    "\n",
    "for (int i = 0; i < miArray.length; i++) {\n",
    "    System.out.println(i + \": \" + miArray[i]);\n",
    "}\n",
    "\n",
    "System.out.println(Arrays.binarySearch(miArray,8));"
   ]
  },
  {
   "cell_type": "markdown",
   "metadata": {},
   "source": [
    "- `static tipo[] copyOf(array, longitud)`: Copia el array en otro array de la longitud indicada. Si `n` es mayor que la longitud del array, rellena con 0, `false` o `null` según el tipo de datos. Si es menor, copia los `n` primeros elementos.\n",
    "- `static tipo[] copyOfRange(array, desde, hasta)`: Copia el array en otro array desde la posición `desde` hasta la posición `hasta`."
   ]
  },
  {
   "cell_type": "code",
   "execution_count": 19,
   "metadata": {
    "vscode": {
     "languageId": "java"
    }
   },
   "outputs": [
    {
     "name": "stdout",
     "output_type": "stream",
     "text": [
      "4\n",
      "5\n",
      "1\n",
      "3\n"
     ]
    }
   ],
   "source": [
    "int[] miArray = {4, 5, 1, 3, 7, 8, 2, 9, 6};\n",
    "\n",
    "int[] copiaArray = Arrays.copyOf(miArray, 4);\n",
    "\n",
    "for (int i = 0; i < copiaArray.length; i++) {\n",
    "    System.out.println(copiaArray[i]);\n",
    "}"
   ]
  },
  {
   "cell_type": "markdown",
   "metadata": {},
   "source": [
    "- `static String toString(array)`: Devuelve una cadena con el contenido del array.\n",
    "- `static String deepToString(array)`: Devuelve una cadena con el contenido de un array multidimensional."
   ]
  },
  {
   "cell_type": "code",
   "execution_count": 20,
   "metadata": {
    "vscode": {
     "languageId": "java"
    }
   },
   "outputs": [
    {
     "name": "stdout",
     "output_type": "stream",
     "text": [
      "[4, 5, 1, 3]\n"
     ]
    }
   ],
   "source": [
    "int[] miArray = {4, 5, 1, 3, 7, 8, 2, 9, 6};\n",
    "\n",
    "int[] copiaArray = Arrays.copyOf(miArray, 4);\n",
    "\n",
    "System.out.println(Arrays.toString(copiaArray));"
   ]
  },
  {
   "cell_type": "markdown",
   "metadata": {},
   "source": [
    "## Conversión de String a array\n",
    "\n",
    "`public String[] split(String regex)`\n",
    "\n",
    "Divide una cadena en un array de cadenas según el delimitador indicado.\n",
    "\n",
    "Se utiliza habitualmente para separar los elementos de una cadena, por ejemplo, sus palabras."
   ]
  },
  {
   "cell_type": "code",
   "execution_count": 21,
   "metadata": {
    "vscode": {
     "languageId": "java"
    }
   },
   "outputs": [
    {
     "name": "stdout",
     "output_type": "stream",
     "text": [
      "[En, un, lugar, de, la, Mancha, de, cuyo, nombre, no, quiero, acordarme]\n"
     ]
    }
   ],
   "source": [
    "String frase = \"En un lugar de la Mancha de cuyo nombre no quiero acordarme\";\n",
    "String[] palabras = frase.split(\" \");\n",
    "System.out.println(Arrays.toString(palabras));"
   ]
  },
  {
   "cell_type": "code",
   "execution_count": 22,
   "metadata": {
    "vscode": {
     "languageId": "java"
    }
   },
   "outputs": [
    {
     "name": "stdout",
     "output_type": "stream",
     "text": [
      "[una, dos, Tres, cuatro]\n"
     ]
    }
   ],
   "source": [
    "String frase = \"una, dos. Tres; cuatro\";\n",
    "String[] palabras = frase.split(\"[,.;]?\\\\s+\");\n",
    "System.out.println(Arrays.toString(palabras));"
   ]
  }
 ],
 "metadata": {
  "kernelspec": {
   "display_name": "Java",
   "language": "java",
   "name": "java"
  },
  "language_info": {
   "codemirror_mode": "java",
   "file_extension": ".jshell",
   "mimetype": "text/x-java-source",
   "name": "Java",
   "pygments_lexer": "java",
   "version": "21.0.2+13-Ubuntu-120.04.1"
  }
 },
 "nbformat": 4,
 "nbformat_minor": 2
}
