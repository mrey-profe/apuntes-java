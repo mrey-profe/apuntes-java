{
 "cells": [
  {
   "cell_type": "markdown",
   "metadata": {},
   "source": [
    "# Excepciones\n",
    "\n",
    "## Tratamiento de excepciones\n",
    "\n",
    "Un método en el que puede lanzarse una excepción debe:\n",
    "- Manejar la excepción\n",
    "- Indicar en su firma que se relanza la excepción para que la maneje alguno de los métodos que lo llamaron\n",
    "\n",
    "Para manejar la excepción, se utiliza la estructura `try`-`catch`:\n",
    "\n",
    "```java\n",
    "try {\n",
    "    // Código que puede lanzar una excepción\n",
    "} catch (Exception e) {\n",
    "    // Código que maneja la excepción\n",
    "} finally {\n",
    "    // Código que se ejecuta siempre\n",
    "}\n",
    "```"
   ]
  },
  {
   "cell_type": "code",
   "execution_count": 2,
   "metadata": {
    "metadata": {}
   },
   "outputs": [
    {
     "ename": "EvalException",
     "evalue": "null",
     "output_type": "error",
     "traceback": [
      "\u001b[1m\u001b[31m---------------------------------------------------------------------------\u001b[0m",
      "\u001b[1m\u001b[31mjava.util.InputMismatchException: null\u001b[0m",
      "\u001b[1m\u001b[31m\tat java.base/java.util.Scanner.throwFor(Scanner.java:947)\u001b[0m",
      "\u001b[1m\u001b[31m\tat java.base/java.util.Scanner.next(Scanner.java:1602)\u001b[0m",
      "\u001b[1m\u001b[31m\tat java.base/java.util.Scanner.nextInt(Scanner.java:2267)\u001b[0m",
      "\u001b[1m\u001b[31m\tat java.base/java.util.Scanner.nextInt(Scanner.java:2221)\u001b[0m",
      "\u001b[1m\u001b[31m\tat .(#14:1)\u001b[0m"
     ]
    }
   ],
   "source": [
    "Scanner teclado = new Scanner(System.in);\n",
    "int n = teclado.nextInt();"
   ]
  },
  {
   "cell_type": "code",
   "execution_count": 1,
   "metadata": {
    "metadata": {}
   },
   "outputs": [
    {
     "name": "stdout",
     "output_type": "stream",
     "text": [
      "Esto no es un entero\n"
     ]
    }
   ],
   "source": [
    "try {\n",
    "    Scanner teclado = new Scanner(System.in);\n",
    "    int n = teclado.nextInt();\n",
    "} catch (InputMismatchException e) {\n",
    "    System.out.println(\"Esto no es un entero\");\n",
    "}"
   ]
  },
  {
   "cell_type": "markdown",
   "metadata": {},
   "source": [
    "Si declaramos varias cláusulas `catch`, se ejecutará la primera que coincida con el tipo de excepción lanzada."
   ]
  },
  {
   "cell_type": "code",
   "execution_count": 4,
   "metadata": {},
   "outputs": [
    {
     "name": "stdout",
     "output_type": "stream",
     "text": [
      "No se puede dividir entre cero\n"
     ]
    }
   ],
   "source": [
    "try {\n",
    "    Scanner teclado = new Scanner(System.in);\n",
    "    int numerador = teclado.nextInt();\n",
    "    int denominador = teclado.nextInt();\n",
    "    int division = numerador / denominador;\n",
    "} catch (InputMismatchException e) {\n",
    "    System.out.println(\"Esto no es un entero\");\n",
    "} catch (ArithmeticException e) {\n",
    "    System.out.println(\"No se puede dividir entre cero\");\n",
    "} catch (Exception e) {\n",
    "    System.out.println(\"Ha ocurrido un error\");\n",
    "}"
   ]
  },
  {
   "cell_type": "markdown",
   "metadata": {},
   "source": [
    "## Relanzamiento de excepciones\n",
    "\n",
    "Para indicar que una excepción se relanza, se utiliza la palabra clave `throws` en la firma del método:\n",
    "\n",
    "```java\n",
    "public void metodo() throws Exception {\n",
    "    // Código que puede lanzar una excepción\n",
    "}\n",
    "```"
   ]
  },
  {
   "cell_type": "code",
   "execution_count": null,
   "metadata": {},
   "outputs": [],
   "source": [
    "public int leeEntero() throws InputMismatchException {\n",
    "    Scanner teclado = new Scanner(System.in);\n",
    "    return teclado.nextInt();\n",
    "}"
   ]
  },
  {
   "cell_type": "markdown",
   "metadata": {},
   "source": [
    "## Excepciones más comunes\n",
    "\n",
    "- `ArithmeticException`: Se lanza cuando se produce un error aritmético, como la división entre cero.\n",
    "- `ArrayIndexOutOfBoundsException`: Se lanza cuando se intenta acceder a un índice de un array que no existe.\n",
    "- `ClassCastException`: Se lanza cuando se intenta convertir un objeto a un tipo incompatible.\n",
    "- `IllegalArgumentException​`: Se lanza cuando se pasa un argumento ilegal a un método.\n",
    "- `IndexOutOfBoundsException`: Se lanza cuando se intenta acceder a un índice de una colección que no existe.\n",
    "- `NegativeArraySizeException`: Se lanza cuando se intenta crear un array con un tamaño negativo.\n",
    "- `NullPointerException`: Se lanza cuando se intenta acceder a un objeto que no ha sido inicializado.\n",
    "- `NumberFormatException`: Se lanza cuando se intenta convertir una cadena a un número y la cadena no tiene el formato correcto.\n",
    "- `StringIndexOutOfBounds`: Se lanza cuando se intenta acceder a un índice de una cadena que no existe.\n",
    "\n"
   ]
  },
  {
   "cell_type": "markdown",
   "metadata": {},
   "source": [
    "## Clases de excepciones\n",
    "\n",
    "Las excepciones de Java heredan de la clase `Throwable`.\n",
    "\n",
    "- Tienen constructor con un mensaje de error.\n",
    "- Tienen métodos `getMessage()` y `toString()` que devuelven el mensaje de error.\n",
    "- Tienen un método `printStackTrace()` que imprime la pila de ejecución (todos los métodos que se han llamado hasta llegar al método que ha lanzado la excepción). Es lo que se imprime habitualmente en consola cuando se produce una excepción.\n",
    "\n",
    "La cláusula `catch` de un bloque `try` capturará un objeto de tipo `Throwable` o de una de sus subclases (dependiendo de la excepción que se haya indicado que se va a capturar). Utilizando los métodos de ese objeto, se puede obtener información sobre la excepción que se ha producido."
   ]
  },
  {
   "cell_type": "code",
   "execution_count": 4,
   "metadata": {
    "metadata": {}
   },
   "outputs": [
    {
     "name": "stdout",
     "output_type": "stream",
     "text": [
      "Esto no es un entero\n",
      "null\n",
      "java.util.InputMismatchException\n"
     ]
    },
    {
     "name": "stderr",
     "output_type": "stream",
     "text": [
      "java.util.InputMismatchException\n",
      "\tat java.base/java.util.Scanner.throwFor(Scanner.java:947)\n",
      "\tat java.base/java.util.Scanner.next(Scanner.java:1602)\n",
      "\tat java.base/java.util.Scanner.nextInt(Scanner.java:2267)\n",
      "\tat java.base/java.util.Scanner.nextInt(Scanner.java:2221)\n",
      "\tat REPL.$JShell$16.do_it$($JShell$16.java:17)\n",
      "\tat java.base/jdk.internal.reflect.DirectMethodHandleAccessor.invoke(DirectMethodHandleAccessor.java:103)\n",
      "\tat java.base/java.lang.reflect.Method.invoke(Method.java:580)\n",
      "\tat io.github.spencerpark.ijava.execution.IJavaExecutionControl.lambda$execute$1(IJavaExecutionControl.java:95)\n",
      "\tat java.base/java.util.concurrent.FutureTask.run(FutureTask.java:317)\n",
      "\tat java.base/java.util.concurrent.ThreadPoolExecutor.runWorker(ThreadPoolExecutor.java:1144)\n",
      "\tat java.base/java.util.concurrent.ThreadPoolExecutor$Worker.run(ThreadPoolExecutor.java:642)\n",
      "\tat java.base/java.lang.Thread.run(Thread.java:1583)\n"
     ]
    }
   ],
   "source": [
    "try {\n",
    "    Scanner teclado = new Scanner(System.in);\n",
    "    int n = teclado.nextInt();\n",
    "} catch (InputMismatchException e) {\n",
    "    System.out.println(\"Esto no es un entero\");\n",
    "    System.out.println(e.getMessage());\n",
    "    System.out.println(e.toString());\n",
    "    e.printStackTrace();\n",
    "} "
   ]
  },
  {
   "cell_type": "markdown",
   "metadata": {},
   "source": [
    "Debido al polimorfismo, una cláusula `catch` capturará cualquier excepción que herede de la clase `Throwable` que se haya indicado en la cláusula `catch`."
   ]
  },
  {
   "cell_type": "markdown",
   "metadata": {},
   "source": [
    "## Lanzamiento de excepciones\n",
    "\n",
    "Cualquier método puede lanzar una excepción en cualquier momento, tanto si es una excepción creada en el propio método como relanzada.\n",
    "\n",
    "Para lanzar una excepción, se utiliza la palabra clave `throw` seguida de un objeto de tipo `Throwable` o de una de sus subclases.\n",
    "\n",
    "Todo método que lance una excepción debe indicarlo en su firma con la palabra clave `throws`. Un método puede lanzar más de una excepción, separándolas por comas.\n",
    "\n",
    "Después de lanzar una excepción, el método se detiene y no se ejecuta más código. Si no se captura la excepción, se relanza al método que llamó al método que la lanzó."
   ]
  },
  {
   "cell_type": "code",
   "execution_count": null,
   "metadata": {},
   "outputs": [],
   "source": [
    "static void rango(int edad) throws Exception{\n",
    "    if ((edad > 120) || (edad < 0)){\n",
    "        throw new Exception(\"Edad inválida\");\n",
    "    } \n",
    "}"
   ]
  },
  {
   "cell_type": "markdown",
   "metadata": {},
   "source": [
    "Al construir una excepción, se puede indicar un mensaje de error que se mostrará al capturar la excepción."
   ]
  },
  {
   "cell_type": "markdown",
   "metadata": {},
   "source": [
    "## Creación de excepciones\n",
    "\n",
    "Podemos crear nuestras propias excepciones heredando de la clase `Exception` o de alguna de sus subclases.\n"
   ]
  },
  {
   "cell_type": "code",
   "execution_count": 5,
   "metadata": {},
   "outputs": [],
   "source": [
    "public class SaldoNegativoExcepcion extends Exception {\n",
    "    public SaldoNegativoExcepcion() {\n",
    "        super(\"El saldo no puede ser negativo\");    \n",
    "    }\n",
    "}"
   ]
  },
  {
   "cell_type": "code",
   "execution_count": null,
   "metadata": {},
   "outputs": [],
   "source": [
    "import SaldoNegativoExcepcion;\n",
    "\n",
    "class CuentaBancaria {\n",
    "    private double saldo;\n",
    "    \n",
    "    public CuentaBancaria(double saldo) {\n",
    "        if (saldo < 0) {\n",
    "            throw new SaldoNegativoExcepcion();\n",
    "        }\n",
    "        this.saldo = saldo;\n",
    "    }\n",
    "}"
   ]
  }
 ],
 "metadata": {
  "kernelspec": {
   "display_name": "Java",
   "language": "java",
   "name": "java"
  },
  "language_info": {
   "codemirror_mode": "java",
   "file_extension": ".jshell",
   "mimetype": "text/x-java-source",
   "name": "java",
   "pygments_lexer": "java",
   "version": "21.0.2+13-Ubuntu-120.04.1"
  }
 },
 "nbformat": 4,
 "nbformat_minor": 2
}
