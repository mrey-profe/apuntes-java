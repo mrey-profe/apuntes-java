{
 "cells": [
  {
   "cell_type": "markdown",
   "metadata": {},
   "source": [
    "# Enumerados\n",
    "\n",
    "Los enumerados son una forma de definir un tipo de dato que puede tomar un número finito de valores. En Java, son un tipo especial de clases.\n",
    "\n",
    "Se declaran:\n",
    "\n",
    "```java\n",
    "[modificadoresVisibilidad] enum NombreEnum {\n",
    "    VALOR1,\n",
    "    VALOR2,\n",
    "    ...\n",
    "}\n",
    "```\n",
    "\n",
    "Accederemos a sus valores como en cualquier clase:\n",
    "\n",
    "```java\n",
    "NombreEnum.VALOR1\n",
    "```"
   ]
  },
  {
   "cell_type": "code",
   "execution_count": 1,
   "metadata": {},
   "outputs": [],
   "source": [
    "public enum Direccion {\n",
    "    NORTE, SUR, ESTE, OESTE\n",
    "}\n",
    "\n",
    "Direccion d = Direccion.NORTE;"
   ]
  },
  {
   "cell_type": "code",
   "execution_count": 2,
   "metadata": {},
   "outputs": [],
   "source": [
    "public enum Dia {\n",
    "    LUNES, MARTES, MIERCOLES, JUEVES, VIERNES, SABADO, DOMINGO\n",
    "}\n",
    "\n",
    "Dia hoy = Dia.VIERNES;"
   ]
  },
  {
   "cell_type": "markdown",
   "metadata": {},
   "source": [
    "Todos los enumerados heredan de la clase `Enum`, por lo que heredarán sus métodos:\n",
    "\n",
    "- `name()` o `toString()`: Devuelve un String con el nombre de la constante.\n",
    "- `ordinal()`: Devuelve un entero con la posición de la constante en la declaración.\n",
    "- `values()`: Devuelve un array con todas las constantes del enumerado.\n",
    "- `valueOf(String)`: Devuelve la constante cuyo nombre coincide con el String pasado como argumento.\n",
    "- `equals(Object)`: Devuelve `true` si el objeto pasado como argumento es igual a la constante.\n",
    "- `compareTo(Enum)`: Compara la posición de la constante con la pasada como argumento."
   ]
  },
  {
   "cell_type": "code",
   "execution_count": 10,
   "metadata": {},
   "outputs": [
    {
     "name": "stdout",
     "output_type": "stream",
     "text": [
      "NORTE\n",
      "NORTE\n"
     ]
    },
    {
     "name": "stdout",
     "output_type": "stream",
     "text": [
      "0\n",
      "true\n",
      "-1\n",
      "[NORTE, SUR, ESTE, OESTE]\n",
      "SUR\n"
     ]
    }
   ],
   "source": [
    "System.out.println(d.name());\n",
    "System.out.println(d);\n",
    "System.out.println(d.ordinal());\n",
    "System.out.println(d.equals(Direccion.NORTE));\n",
    "System.out.println(d.compareTo(Direccion.SUR));\n",
    "System.out.println(Arrays.toString(Direccion.values()));\n",
    "Direccion s = Direccion.valueOf(\"SUR\");\n",
    "System.out.println(s);"
   ]
  },
  {
   "cell_type": "markdown",
   "metadata": {},
   "source": [
    "Un enumerado para Java es una clase, por lo tanto:\n",
    "\n",
    "- Puede tener atributos y métodos.\n",
    "- Puede tener constructores, pero serán privados.\n",
    "\n",
    "Pero no va a poder tener setters, ya que las constantes son inmutables.\n",
    "\n",
    "Es un tipo de clase especial en el que los atributos solo pueden tener un valor de un conjunto finito de valores."
   ]
  },
  {
   "cell_type": "code",
   "execution_count": null,
   "metadata": {},
   "outputs": [],
   "source": [
    "public enum TipoCafe {\n",
    "    CORTADO(1.5),\n",
    "    LARGO(1.8),\n",
    "    CAPUCHINO(2.0),\n",
    "    EXPRESO(1.2);\n",
    "\n",
    "    private double precio;\n",
    "    \n",
    "    TipoCafe(double precio) { // Este constructor es privado\n",
    "        this.precio = precio;\n",
    "    }\n",
    "    public double getPrecio() {\n",
    "        return precio;\n",
    "    }\n",
    "}\n",
    "\n",
    "TipoCafe cafe = TipoCafe.CORTADO;\n",
    "cafe = TipoCafe.LARGO;"
   ]
  },
  {
   "cell_type": "code",
   "execution_count": 1,
   "metadata": {},
   "outputs": [
    {
     "name": "stdout",
     "output_type": "stream",
     "text": [
      "false\n",
      "false\n"
     ]
    }
   ],
   "source": [
    "public enum Enseñanza {\n",
    "    INFANTIL(0, 5),\n",
    "    PRIMARIA(6, 12),\n",
    "    SECUNDARIA(12, 16),\n",
    "    BACHILLERATO(16, 18);\n",
    "\n",
    "    private int edadMinima;\n",
    "    private int edadMaxima;\n",
    "\n",
    "    Enseñanza(int min, int max) {\n",
    "        edadMinima = min;\n",
    "        edadMaxima = max;\n",
    "    }\n",
    "\n",
    "    public int getEdadMinima() {\n",
    "        return edadMinima;\n",
    "    }\n",
    "\n",
    "    public int getEdadMaxima() {\n",
    "        return edadMaxima;\n",
    "    }\n",
    "\n",
    "    public boolean estaEnRango(int edad) {\n",
    "        return edad >= edadMinima && edad <= edadMaxima;\n",
    "    }\n",
    "}\n",
    "\n",
    "Enseñanza e = Enseñanza.SECUNDARIA;\n",
    "System.out.println(e.estaEnRango(10));\n",
    "System.out.println(Enseñanza.PRIMARIA.estaEnRango(15));"
   ]
  },
  {
   "cell_type": "code",
   "execution_count": 2,
   "metadata": {},
   "outputs": [
    {
     "name": "stdout",
     "output_type": "stream",
     "text": [
      "Raquel estudia PRIMARIA\n",
      "\n"
     ]
    }
   ],
   "source": [
    "public enum Enseñanza {\n",
    "    INFANTIL(0, 5),\n",
    "    PRIMARIA(6, 12),\n",
    "    SECUNDARIA(12, 16),\n",
    "    BACHILLERATO(16, 18);\n",
    "\n",
    "    private int edadMinima;\n",
    "    private int edadMaxima;\n",
    "\n",
    "    Enseñanza(int min, int max) {\n",
    "        edadMinima = min;\n",
    "        edadMaxima = max;\n",
    "    }\n",
    "\n",
    "    public int getEdadMinima() {\n",
    "        return edadMinima;\n",
    "    }\n",
    "\n",
    "    public int getEdadMaxima() {\n",
    "        return edadMaxima;\n",
    "    }\n",
    "\n",
    "    public boolean estaEnRango(int edad) {\n",
    "        return edad >= edadMinima && edad <= edadMaxima;\n",
    "    }\n",
    "}\n",
    "\n",
    "public class Alumnx {\n",
    "    private String nombre;\n",
    "    private Enseñanza enseñanza;\n",
    "\n",
    "    public Alumnx(String nombre, Enseñanza enseñanza) {\n",
    "        this.nombre = nombre;\n",
    "        this.enseñanza = enseñanza;\n",
    "    }\n",
    "\n",
    "    public String toString() {\n",
    "        return String.format(\"%s estudia %s\\n\", nombre, enseñanza);\n",
    "    }\n",
    "}\n",
    "\n",
    "Alumnx a = new Alumnx(\"Raquel\", Enseñanza.PRIMARIA);\n",
    "System.out.println(a);"
   ]
  }
 ],
 "metadata": {
  "kernelspec": {
   "display_name": "Java",
   "language": "java",
   "name": "java"
  },
  "language_info": {
   "codemirror_mode": "java",
   "file_extension": ".jshell",
   "mimetype": "text/x-java-source",
   "name": "java",
   "pygments_lexer": "java",
   "version": "21.0.2+13-Ubuntu-120.04.1"
  }
 },
 "nbformat": 4,
 "nbformat_minor": 2
}
