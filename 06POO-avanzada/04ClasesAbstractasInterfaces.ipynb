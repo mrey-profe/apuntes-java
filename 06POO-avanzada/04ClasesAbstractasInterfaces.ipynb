{
 "cells": [
  {
   "cell_type": "markdown",
   "id": "311c5d99",
   "metadata": {},
   "source": [
    "## Clases abstractas\n",
    "\n",
    "Las clases abstractas son aquellas que no pueden ser instanciadas. Se utilizan únicamente como clases madre para otras clases. Sirven para poder organizar mejor el código y también para poder definir estructuras polimórficas que podrán contener objetos de cualquiera de sus clases hijas.\n",
    "\n",
    "En Java, las clases abstractas se definen con la palabra reservada `abstract` antes de la palabra `class`. Por ejemplo:\n",
    "\n",
    "```java\n",
    "abstract class Animal {\n",
    "    public abstract void hacerSonido();\n",
    "}\n",
    "```"
   ]
  },
  {
   "cell_type": "markdown",
   "id": "cfed002d",
   "metadata": {},
   "source": [
    "Estas clases **pueden** contener métodos abstractos (sin implementación) y métodos concretos (con implementación). Es posible que exista una clase abstracta que no contenga ningún método abstracto.\n",
    "\n",
    "Una clase que contenga un método abstracto debe ser declarada como abstracta.\n",
    "\n",
    "Un método abstracto no tiene cuerpo, es decir, no tiene implementación, sino únicamente la declaración (también llamado firma) del método. "
   ]
  },
  {
   "cell_type": "markdown",
   "id": "388e349e",
   "metadata": {},
   "source": [
    "\n",
    "Las clases hijas deben implementar (sobreescribir) todos los métodos abstractos de la clase madre o ser declaradas como abstractas."
   ]
  },
  {
   "cell_type": "markdown",
   "id": "f23c79c6",
   "metadata": {
    "vscode": {
     "languageId": "java"
    }
   },
   "source": [
    "Veamos este ejemplo, cada una de las piezas del ajedrez tienen un movimiento diferente, por ello, crearemos una clase abstracta `Pieza` que contendrá un método abstracto `mover()`. Luego, cada una de las piezas del ajedrez (Rey, Reina, Torre, etc.) heredará de la clase `Pieza` y sobreescribirá el método `mover()` con el movimiento correspondiente a cada pieza.\n",
    "\n",
    "Además de por el hecho de que que cada pieza tenga un movimiento diferente, no tiene sentido crear instancias de la clase `Pieza`, puesto que no existe en la realidad una pieza genérica de ajedrez. Por ello, la clase `Pieza` será abstracta.\n",
    "\n",
    "```java\n",
    "    public abstract class Pieza {\n",
    "        //atributos\n",
    "        ...\n",
    "        //constructores y métodos\n",
    "        ...\n",
    "        public abstract mover ();\n",
    "    }\n",
    "\n",
    "    public class Rey {\n",
    "        //atributos\n",
    "        ...\n",
    "        //constructores y métodos\n",
    "        ...\n",
    "\n",
    "        @Override\n",
    "        public mover () { // La clase hija debe implementar el método abstracto o ser declarada abstracta\n",
    "            // Implementación del movimiento del Rey\n",
    "        }\n",
    "        ...\n",
    "        }\n",
    "    }\n",
    "```"
   ]
  },
  {
   "cell_type": "markdown",
   "id": "eb5a298c",
   "metadata": {},
   "source": [
    "Desde Java 8, también es posible definir métodos estáticos en las clases abstractas. "
   ]
  },
  {
   "cell_type": "markdown",
   "id": "9f37f5ae",
   "metadata": {},
   "source": [
    "### Definición de estructura polimórfica\n",
    "\n",
    "```Java\n",
    "    ArrayList<Pieza> piezas = new ArrayList<Pieza>();\n",
    "    piezas.add(new Rey());\n",
    "    piezas.add(new Reina());\n",
    "    piezas.add(new Torre());\n",
    "    piezas.add(new Caballo());\n",
    "\n",
    "    for (Pieza pieza : piezas) {\n",
    "        pieza.mover(); // Cada pieza ejecuta su propio método mover()\n",
    "    }\n",
    "```"
   ]
  },
  {
   "cell_type": "markdown",
   "id": "2b783f50",
   "metadata": {},
   "source": [
    "## Interfaces\n",
    "\n",
    "La definición original de una interfaz nos dice que se trata de una clase abstracta pura, que no contine implementación de ninguno de sus métodos, ni atributos. \n",
    "\n",
    "Se trata de un contrato que define un comportamiento que las clases que implementen la interfaz deben cumplir. Por lo tanto, una interfaz no puede contener atributos, sólo métodos abstractos (sin implementación).\n",
    "Las interfaces se definen con la palabra reservada `interface` y no pueden contener constructores. Por lo tanto, no pueden ser instanciadas. \n",
    "\n",
    "Sin embargo, en versiones más recientes de Java, se han añadido también otros tipos de métodos a las interfaces:\n",
    "\n",
    "- **Métodos por defecto** (*default*): Son métodos que tienen una implementación por defecto. Las clases que implementen la interfaz pueden sobreescribir este método si lo desean. La idea de la creación de estos métodos es que las interfaces puedan evolucionar sin romper la compatibilidad con versiones anteriores, mientras que las clases que implementaban la interfaz no implementen el nuevo método, podrán seguir funcionando sin problemas.\n",
    "- **Métodos estáticos** (*static*): Son métodos que pertenecen a la interfaz y no a las clases que la implementan. Se pueden llamar directamente desde la interfaz.\n",
    "- **Métodos privados** (*private*): Son métodos que sólo pueden ser utilizados dentro de la interfaz. Se utilizan para evitar la duplicación de código en los métodos por defecto.\n",
    "\n",
    "Además, pueden contener atributos, pero estos deben ser `public static final`, es decir, constantes. Por lo tanto, no pueden ser modificados.\n",
    "\n",
    "Si no indicamos modificadores de acceso:\n",
    "- Los métodos son `public abstract` por defecto.\n",
    "- Los métodos estáticos o por defecto son `public`, pero no son abstractos.\n",
    "- Los atributos son `public static final` por defecto.\n",
    "- La interfaz es `public abstract` por defecto."
   ]
  },
  {
   "cell_type": "markdown",
   "id": "1ef3ddd7",
   "metadata": {},
   "source": [
    "### Implementación de una interfaz\n",
    "\n",
    "Para implementar una interfaz, se utiliza la palabra reservada `implements` y se deben implementar todos los métodos de la interfaz. \n",
    "\n",
    "Una clase puede implementar varias interfaces, separando los nombres de las interfaces con comas. Este es el modo en el que Java implementa, de algún modo, la herencia múltiple.\n",
    "\n",
    "Si no se implementan todos los métodos, la clase debe ser declarada como abstracta."
   ]
  },
  {
   "cell_type": "code",
   "execution_count": null,
   "id": "1f3fa05e",
   "metadata": {
    "vscode": {
     "languageId": "java"
    }
   },
   "outputs": [],
   "source": [
    "interface Cantante { // public abstract\n",
    "    String formatoCancion = \"mp3\"; // public static final\n",
    "    void cantar(); // public abstract\n",
    "    default double tarifa() {\n",
    "        return 0;\n",
    "    }\n",
    "}\n",
    "\n",
    "class Persona implements Cantante {\n",
    "    // public abstract\n",
    "    // añadiríamos atributos y métodos de persona y ...\n",
    "    @Override\n",
    "    public void cantar() {\n",
    "        System.out.println(\"La laa la raa laaa!\");\n",
    "    }\n",
    "\n",
    "    @Override\n",
    "    public double tarifa() {\n",
    "        return 1000d;\n",
    "    }\n",
    "}\n",
    "\n",
    "class Canario implements Cantante {\n",
    "    // no implementa método tarifa\n",
    "    // añadiríamos atributos y métodos de canario y...\n",
    "    public void cantar() {\n",
    "        System.out.println(\"Pío Pío Pío\");\n",
    "    }\n",
    "}"
   ]
  },
  {
   "cell_type": "markdown",
   "id": "96b61c5c",
   "metadata": {},
   "source": [
    "### Estructuras polimórficas con interfaces\n",
    "\n",
    "Del mismo modo que con la herencia de clases, podemos crear estructuras polimórficas con interfaces. En este caso, las clases que implementen la interfaz serán tratadas como objetos de la interfaz.\n",
    "\n",
    "```java\n",
    "    ArrayList<Cantante> cantantes = new ArrayList<Cantante>();\n",
    "    cantantes.add(new Persona());\n",
    "    cantantes.add(new Canario());\n",
    "    \n",
    "    for (Cantante cantante : cantantes) {\n",
    "        cantante.cantar();\n",
    "    }\n",
    "```"
   ]
  },
  {
   "cell_type": "markdown",
   "id": "a6756403",
   "metadata": {},
   "source": [
    "## Diferencias entre clases abstractas e interfaces\n",
    "\n",
    "La diferencia entre ambas es, principalmente, semántica. Se utiliza herencia mediante una clase abstracta cuando se trata de algo que la clase **es**. Por ejemplo, un `Animal` es un `Mamífero`, por lo que la clase `Mamífero` hereda de la clase `Animal`. En este caso, se trata de una relación de herencia. Por el contrario, se utiliza una interfaz cuando se trata de algo que la clase **hace**. Por ejemplo, un `Perro` **ladra**. En este caso, la clase `Perro` implementa la interfaz `Ladrador`. En este caso, se trata de una relación de comportamiento."
   ]
  },
  {
   "cell_type": "markdown",
   "id": "1039908e",
   "metadata": {},
   "source": [
    "Una clase puede, a la vez, heredar de una clase abstracta y de varias interfaces. Por ejemplo, un `Perro` es un `Mamífero` (herencia), **ladra** (comportamiento) y **protege** (comportamiento). Por lo tanto, la clase `Perro` hereda de la clase `Mamífero` e implementa las interfaces `Ladrador` y `Protector`.\n",
    "\n",
    "```java\n",
    "        // Clase abstracta Mamífero\n",
    "    public abstract class Mamifero {\n",
    "        // Método abstracto: todas las subclases deben implementarlo\n",
    "        public abstract void amamantar();\n",
    "\n",
    "        // Método concreto: opcional sobrescribir\n",
    "        public void respirar() {\n",
    "            System.out.println(\"El mamífero respira aire.\");\n",
    "        }\n",
    "    }\n",
    "\n",
    "    // Interfaz Ladrador\n",
    "    public interface Ladrador {\n",
    "        // Método abstracto (por defecto en interfaces)\n",
    "        void ladrar();\n",
    "    }\n",
    "\n",
    "    // Interfaz Protector\n",
    "    public interface Protector {\n",
    "        // Método abstracto\n",
    "        void proteger();\n",
    "    }\n",
    "\n",
    "    // Clase concreta Perro\n",
    "    public class Perro extends Mamifero implements Ladrador, Protector {\n",
    "        // Implementación del método abstracto de Mamífero\n",
    "        @Override\n",
    "        public void amamantar() {\n",
    "            System.out.println(\"El perro amamanta a sus crías.\");\n",
    "        }\n",
    "\n",
    "        // Implementación del método de la interfaz Ladrador\n",
    "        @Override\n",
    "        public void ladrar() {\n",
    "            System.out.println(\"El perro ladra: ¡Guau guau!\");\n",
    "        }\n",
    "\n",
    "        // Implementación del método de la interfaz Protector\n",
    "        @Override\n",
    "        public void proteger() {\n",
    "            System.out.println(\"El perro protege su territorio.\");\n",
    "        }\n",
    "    }\n",
    "    // Clase concreta Gato\n",
    "    public class Gato extends Mamifero {\n",
    "        // Implementación del método abstracto de Mamífero\n",
    "        @Override\n",
    "        public void amamantar() {\n",
    "            System.out.println(\"El gato amamanta a sus crías.\");\n",
    "        }\n",
    "    }\n",
    "```\n",
    "\n",
    "Esta clase debe implementar todos los métodos abstractos de la clase `Mamífero` y de la interfaz `Ladrador`. Si no lo hace, debe ser declarada como abstracta."
   ]
  }
 ],
 "metadata": {
  "language_info": {
   "name": "python"
  }
 },
 "nbformat": 4,
 "nbformat_minor": 5
}
