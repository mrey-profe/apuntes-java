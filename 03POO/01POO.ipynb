{
 "cells": [
  {
   "cell_type": "markdown",
   "metadata": {},
   "source": [
    "# POO en Java\n",
    "\n",
    "## Clases\n",
    "\n",
    "### Definición\n",
    "\n",
    "Para definir una clase en Java, se utiliza la palabra reservada `class` seguida del nombre de la clase y el cuerpo de la clase entre llaves `{}`.\n",
    "\n",
    "```java\n",
    "[acceso] class NombreClase [herencia] [interfaces] {\n",
    "    [acceso] [static] tipo atributo1;\n",
    "    [acceso] [static] tipo atributo2;\n",
    "    [acceso] [static] tipo atributo3;\n",
    "    ...\n",
    "\n",
    "    [acceso] [static] tipo_devuelto nomeMétodo1([listaDeParametros]) {\n",
    "        ...código do método...\n",
    "    }\n",
    "    \n",
    "    [acceso] [static] tipo_devuelto nomeMétodo2([listaDeParametros]) {\n",
    "        ...código do método...\n",
    "    }\n",
    "    ...\n",
    "    \n",
    "}\n",
    "```\n",
    "\n",
    "El uso de `[]` indica que el contenido es opcional.\n",
    "\n",
    "El acceso puede ser `public`, `protected` o `private`. Si no se especifica, el acceso por defecto es `package-private`.\n",
    "\n",
    "\n",
    "\n"
   ]
  }
 ],
 "metadata": {
  "kernelspec": {
   "display_name": "Java",
   "language": "java",
   "name": "java"
  },
  "language_info": {
   "name": "java"
  }
 },
 "nbformat": 4,
 "nbformat_minor": 2
}
