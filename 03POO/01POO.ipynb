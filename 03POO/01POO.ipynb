{
 "cells": [
  {
   "cell_type": "markdown",
   "metadata": {},
   "source": [
    "# POO en Java\n",
    "\n",
    "## Clases\n",
    "\n",
    "### Definición\n",
    "\n",
    "Para definir una clase en Java, se utiliza la palabra reservada `class` seguida del nombre de la clase y el cuerpo de la clase entre llaves `{}`.\n",
    "\n",
    "```java\n",
    "[acceso] class NombreClase [herencia] [interfaces] {\n",
    "    [acceso] [static] [final] tipo atributo1;\n",
    "    [acceso] [static] [final] tipo atributo2;\n",
    "    [acceso] [static] [final] tipo atributo3;\n",
    "    ...\n",
    "\n",
    "    [acceso] [static] tipo_devuelto nomeMétodo1([listaDeParametros]) {\n",
    "        ...código del método...\n",
    "    }\n",
    "    \n",
    "    [acceso] [static] tipo_devuelto nomeMétodo2([listaDeParametros]) {\n",
    "        ...código del método...\n",
    "    }\n",
    "    ...\n",
    "    \n",
    "}\n",
    "```\n",
    "\n",
    "El uso de `[]` indica que el contenido es opcional.\n",
    "\n",
    "El acceso puede ser `public`, `protected`, `private` o ninguno. Lo más habitual en lo que respecta a las clases es que sea `public`."
   ]
  },
  {
   "cell_type": "code",
   "execution_count": 1,
   "metadata": {},
   "outputs": [],
   "source": [
    "public class Persona {\n",
    "    /*Atributos de la clase*/\n",
    "    private String nombre;\n",
    "    private String dni;\n",
    "    private int edad; \n",
    "    private double peso; //peso en kg\n",
    "    private int altura; //altura en cm\n",
    "    \n",
    "    /*Constructores*/\n",
    "    public Persona(String nombre, String dni, int edad, double peso, int altura) {\n",
    "        this.nombre = nombre;\n",
    "        this.dni = dni;\n",
    "        this.edad = edad;\n",
    "        this.peso = peso;\n",
    "        this.altura = altura;\n",
    "    }\n",
    "\n",
    "    public double calcularIMC() {\n",
    "        return peso / (Math.pow(altura, 2));\n",
    "    }\n",
    "}"
   ]
  },
  {
   "cell_type": "markdown",
   "metadata": {},
   "source": [
    "## Objetos: declaración e instanciación\n",
    "\n",
    "Para declarar un objeto de una clase, se utiliza la siguiente sintaxis:\n",
    "\n",
    "```java\n",
    "NombreClase nombreObjeto;\n",
    "``` \n",
    "\n",
    "Para instanciar un objeto de una clase, se utiliza la siguiente sintaxis:\n",
    "\n",
    "```java\n",
    "nombreObjeto = new NombreClase([parámetros]);\n",
    "```\n",
    "Si queremos declarar e instanciar un objeto en una sola línea, se utiliza la siguiente sintaxis:\n",
    "\n",
    "```java\n",
    "NombreClase nombreObjeto = new NombreClase([parámetros]);\n",
    "```"
   ]
  },
  {
   "cell_type": "code",
   "execution_count": 4,
   "metadata": {},
   "outputs": [],
   "source": [
    "Persona persona = new Persona(\"Juan\", \"12345678A\", 25, 75, 180);"
   ]
  },
  {
   "cell_type": "markdown",
   "metadata": {},
   "source": [
    "Al igual que en Python, los objetos en Java son referencias a la memoria, por lo que si se asigna un objeto a otro, ambos apuntarán a la misma dirección de memoria."
   ]
  },
  {
   "cell_type": "code",
   "execution_count": 6,
   "metadata": {},
   "outputs": [],
   "source": [
    "Persona p = persona; // No existen dos objetos, solo dos referencias al mismo objeto"
   ]
  },
  {
   "cell_type": "markdown",
   "metadata": {},
   "source": [
    "## Métodos de una clase\n",
    "\n",
    "Definen el comportamiento de los objetos de la clase.\n",
    "\n",
    "Los nombres de los métodos deben ser descriptivos y utilizar la notación camelCase.\n",
    "\n",
    "```java\n",
    "[acceso] [modificadores] tipoDatoDevuelto nombreMetodo (tipoPar1 par1, tipoPar2 par2, …) {\n",
    "    // Cuerpo del método\n",
    "}\n",
    "```\n",
    "\n",
    "El paso de parámetros en los métodos se realiza:\n",
    "- Por valor: para los tipos primitivos. Significa que se pasa una copia del valor. Si se modifica el valor dentro del método, no se modifica el valor original.\n",
    "- Por referencia: para los objetos. Significa que se pasa la dirección de memoria del objeto, si se modifica el objeto dentro del método, se modifica el objeto original."
   ]
  },
  {
   "cell_type": "markdown",
   "metadata": {},
   "source": [
    "## Acceso a los atributos y métodos de un objeto\n",
    "\n",
    "Para acceder a los atributos y métodos de un objeto, se utiliza el operador `.`.\n",
    "\n",
    "```java\n",
    "nombreObjeto.atributo;\n",
    "nombreObjeto.metodo([parámetros]);\n",
    "```\n",
    "\n",
    "Solo se puede acceder a los atributos y métodos de un objeto si el modificador de acceso lo permite."
   ]
  },
  {
   "cell_type": "code",
   "execution_count": 2,
   "metadata": {},
   "outputs": [
    {
     "name": "stdout",
     "output_type": "stream",
     "text": [
      "0.00234375\n"
     ]
    },
    {
     "ename": "CompilationException",
     "evalue": "",
     "output_type": "error",
     "traceback": [
      "\u001b[1m\u001b[30m|   \u001b[1m\u001b[30mSystem.out.println(\u001b[0m\u001b[1m\u001b[30m\u001b[41mpersona2.edad\u001b[0m\u001b[1m\u001b[30m);\u001b[0m",
      "\u001b[1m\u001b[31medad has private access in Persona\u001b[0m",
      ""
     ]
    }
   ],
   "source": [
    "Persona persona2 = new Persona(\"Maria\", \"87654321B\", 30, 60, 160);\n",
    "System.out.println(persona2.calcularIMC());\n",
    "System.out.println(persona2.edad);"
   ]
  },
  {
   "cell_type": "markdown",
   "metadata": {},
   "source": [
    "## `null`\n",
    "\n",
    "En Java, `null` es un valor especial que se puede asignar a cualquier variable, significa que la variable no apunta a ningún objeto.\n",
    "\n",
    "Mientras no se inicialice un objeto, su valor es `null`."
   ]
  },
  {
   "cell_type": "code",
   "execution_count": 7,
   "metadata": {},
   "outputs": [
    {
     "name": "stdout",
     "output_type": "stream",
     "text": [
      "null\n"
     ]
    }
   ],
   "source": [
    "Persona p1;\n",
    "System.out.println(p1);"
   ]
  },
  {
   "cell_type": "markdown",
   "metadata": {},
   "source": [
    "## `this`\n",
    "\n",
    "`this` es una palabra reservada que se utiliza para hacer referencia al objeto actual.\n",
    "\n",
    "En Java no es necesario utilizar `this` para acceder a los atributos y métodos de un objeto, se utiliza cuando queremos evitar ambigüedades, por ejemplo, si uno de los parámetros del método se llama igual que el atributo de la clase.\n",
    "\n",
    "Así, en los constructores se usa casi siempre."
   ]
  },
  {
   "cell_type": "code",
   "execution_count": null,
   "metadata": {},
   "outputs": [],
   "source": [
    "public class Circulo {\n",
    "    private double radio;\n",
    "\n",
    "    public Circulo(double radio) {\n",
    "        this.radio = radio; // Tenemos otra variable llamada radio, si no usamos this, se refiere a la más cercana, es decir, el parámetro\n",
    "    }\n",
    "}"
   ]
  },
  {
   "cell_type": "markdown",
   "metadata": {},
   "source": [
    "## Métodos accesores y modificadores\n",
    "\n",
    "Los atributos de una clase deben ser privados, para protegerlos de accesos y modificaciones no deseadas. Para acceder y modificar los atributos de una clase, se utilizan los métodos accesores y modificadores, habitualmente llamados `getters` y `setters`.\n",
    "\n",
    "Dentro de los `setters` se pueden realizar comprobaciones para asegurarnos de que el valor que se le quiere asignar al atributo es válido.\n",
    "\n",
    "En los `getters` se puede realizar alguna operación antes de devolver el valor del atributo, como por ejemplo, formatear una fecha. Aunque lo más habitual es que simplemente devuelvan el valor del atributo."
   ]
  },
  {
   "cell_type": "code",
   "execution_count": null,
   "metadata": {},
   "outputs": [],
   "source": [
    "public class Circulo {\n",
    "    private double radio;\n",
    "\n",
    "    public Circulo(double radio) {\n",
    "        this.radio = radio; // Tenemos otra variable llamada radio, si no usamos this, se refiere a la más cercana, es decir, el parámetro\n",
    "    }\n",
    "\n",
    "    public void setRadio(double radio) {\n",
    "        this.radio = radio;\n",
    "    }\n",
    "\n",
    "    public double getRadio() {\n",
    "        return radio;\n",
    "    }\n",
    "}"
   ]
  },
  {
   "cell_type": "code",
   "execution_count": 2,
   "metadata": {},
   "outputs": [],
   "source": [
    "//Con comprobación de valores\n",
    "public class Circulo {\n",
    "    private double radio;\n",
    "\n",
    "    public Circulo(double radio) {\n",
    "        if (radioCorrecto(radio)) {\n",
    "            this.radio = radio;\n",
    "        } else {\n",
    "            this.radio = 0;\n",
    "        }\n",
    "    }\n",
    "\n",
    "    private boolean radioCorrecto(double radio) {\n",
    "        return radio >= 0;\n",
    "    }\n",
    "\n",
    "    public void setRadio(double radio) {\n",
    "        if (radioCorrecto(radio)) {\n",
    "            this.radio = radio;\n",
    "        }\n",
    "    }\n",
    "\n",
    "    public double getRadio() {\n",
    "        return radio;\n",
    "    }\n",
    "}"
   ]
  },
  {
   "cell_type": "code",
   "execution_count": 3,
   "metadata": {},
   "outputs": [
    {
     "name": "stdout",
     "output_type": "stream",
     "text": [
      "10.0\n",
      "5.0\n",
      "5.0\n"
     ]
    }
   ],
   "source": [
    "Circulo c = new Circulo(10);\n",
    "System.out.println(c.getRadio());\n",
    "c.setRadio(5);\n",
    "System.out.println(c.getRadio());\n",
    "c.setRadio(-3);\n",
    "System.out.println(c.getRadio());"
   ]
  },
  {
   "cell_type": "markdown",
   "metadata": {},
   "source": [
    "Se pueden autogenerar los constructores en el IDE:\n",
    "- NetBeans: Botón derecho -> Insert code... (o Alt + Insert) -> Getter and Setter\n",
    "- IntelliJ: Botón derecho -> Generate... (o Alt + Insert) -> Getter and Setter"
   ]
  },
  {
   "cell_type": "markdown",
   "metadata": {},
   "source": [
    "## Constructores\n",
    "\n",
    "Un constructor es un método especial que se llama automáticamente cuando se crea un objeto de una clase. Su objetivo es inicializar los atributos de la clase.\n",
    "\n",
    "Si no se define un constructor en una clase, Java proporciona un constructor por defecto que no recibe parámetros y no hace nada.\n",
    "\n",
    "Si se define un constructor en una clase, Java no proporciona el constructor por defecto.\n",
    "\n",
    "Un constructor se define con el mismo nombre que la clase y no tiene tipo de retorno.\n",
    "\n",
    "Pueden existir varios constructores en una clase, siempre y cuando tengan diferente número y/o tipo de parámetros. Si no fuese así, no sería posible diferenciarlos."
   ]
  },
  {
   "cell_type": "code",
   "execution_count": null,
   "metadata": {},
   "outputs": [],
   "source": [
    "public class Circulo {\n",
    "    private double radio;\n",
    "\n",
    "    public Circulo() {\n",
    "        this.radio = 0;\n",
    "    }\n",
    "\n",
    "    public Circulo(double radio) {\n",
    "        if (radioCorrecto(radio)) {\n",
    "            this.radio = radio;\n",
    "        } else {\n",
    "            this.radio = 0;\n",
    "        }\n",
    "    }\n",
    "\n",
    "    private boolean radioCorrecto(double radio) {\n",
    "        return radio >= 0;\n",
    "    }\n",
    "}"
   ]
  },
  {
   "cell_type": "markdown",
   "metadata": {},
   "source": [
    "Se pueden autogenerar los constructores en el IDE:\n",
    "- NetBeans: Botón derecho -> Insert code... (o Alt + Insert) -> Constructor\n",
    "- IntelliJ: Botón derecho -> Generate... (o Alt + Insert) -> Constructor"
   ]
  },
  {
   "cell_type": "markdown",
   "metadata": {},
   "source": [
    "## Atributos y métodos estáticos\n",
    "\n",
    "Los atributos y métodos estáticos pertenecen a la clase, no a los objetos de la clase. Se pueden acceder a ellos sin necesidad de instanciar un objeto de la clase.\n",
    "\n",
    "Los atributos estáticos se inicializan en su declaración o en un bloque estático.\n",
    "\n",
    "Los métodos estáticos no pueden acceder a los atributos no estáticos de la clase.\n",
    "\n",
    "Para acceder a los atributos y métodos estáticos de una clase, se utiliza el nombre de la clase seguido del operador `.`.\n",
    "\n",
    "```java\n",
    "NombreClase.atributo;\n",
    "NombreClase.metodo([parámetros]);\n",
    "```"
   ]
  },
  {
   "cell_type": "code",
   "execution_count": null,
   "metadata": {},
   "outputs": [],
   "source": [
    "public class Persona{\n",
    "    private String nombre;\n",
    "    private String dni;\n",
    "\n",
    "    public Persona(String nombre, String dni) {\n",
    "        this.nombre = nombre;\n",
    "        if (DNIcorrecto(dni)) {\n",
    "            this.dni = dni;\n",
    "        }\n",
    "    }\n",
    "\n",
    "    public static boolean DNIcorrecto(String dni) {\n",
    "        if (dni.length() != 9) {\n",
    "            return false;\n",
    "        } else {\n",
    "            return true;\n",
    "        }\n",
    "    }\n",
    "}"
   ]
  }
 ],
 "metadata": {
  "kernelspec": {
   "display_name": "Java",
   "language": "java",
   "name": "java"
  },
  "language_info": {
   "codemirror_mode": "java",
   "file_extension": ".jshell",
   "mimetype": "text/x-java-source",
   "name": "java",
   "pygments_lexer": "java",
   "version": "21.0.2+13-LTS-58"
  }
 },
 "nbformat": 4,
 "nbformat_minor": 2
}
