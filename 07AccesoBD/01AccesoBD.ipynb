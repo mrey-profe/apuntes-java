{
 "cells": [
  {
   "cell_type": "markdown",
   "metadata": {},
   "source": [
    "# Acceso a Bases de Datos\n",
    "\n",
    "Para conectarnos desde nuestro código Java a una base de datos necesitamos un driver que nos permita realizar la conexión. En este caso vamos a utilizar el driver de MySQL.\n",
    "\n",
    "El driver de MySQL se puede descargar desde la página oficial de MySQL: [https://dev.mysql.com/downloads/connector/j/](https://dev.mysql.com/downloads/connector/j/). Nos descargaremos la versión \"Platform Independent\" en formato ZIP.\n",
    "\n",
    "Una vez descargado el driver, lo descomprimimos y escogemos el fichero `mysql-connector-java-8.0.23.jar` haciendo botón derecho sobre las librerías de nuestro proyecto y seleccionando \"Add JAR/Folder\".\n",
    "\n",
    "El proceso para conectarnos a una base de datos MySQL desde Java es el siguiente:\n",
    "\n",
    "- Establecer los datos de conexión y conectarnos a la base de datos mediante un objeto `Connection`.\n",
    "- Ejecutar las consultas SQL mediante un objeto `PreparedStatement`.\n",
    "- Tratar los resultados obtenidos mediante un objeto `ResultSet`.\n",
    "- Cerrar la conexión con la base de datos y otros objetos utilizados."
   ]
  },
  {
   "cell_type": "markdown",
   "metadata": {},
   "source": [
    "## Conexión\n",
    "\n",
    "Para conectarnos a una base de datos MySQL necesitamos los siguientes datos:\n",
    "\n",
    "- `url`: URL de la base de datos.\n",
    "- `user`: Usuario de la base de datos.\n",
    "- `password`: Contraseña del usuario de la base de datos."
   ]
  },
  {
   "cell_type": "code",
   "execution_count": null,
   "metadata": {},
   "outputs": [],
   "source": [
    "import java.sql.*;\n",
    "\n",
    "Connection conexion = DriverManager.getConnection(\"jdbc:mysql://localhost:3306/pruebas\", \"root\", \"password\");"
   ]
  },
  {
   "cell_type": "markdown",
   "metadata": {},
   "source": [
    "Debemos capturar las posibles excepciones que puedan producirse al intentar establecer la conexión."
   ]
  },
  {
   "cell_type": "code",
   "execution_count": null,
   "metadata": {},
   "outputs": [],
   "source": [
    "import java.sql.*;\n",
    "\n",
    "try {\n",
    "    Connection conexion = DriverManager.getConnection(\"jdbc:mysql://localhost:3306/pruebas\", \"root\", \"password\");\n",
    "    conexion.close(); //Al finalizar, cerramos la conexión\n",
    "} catch (SQLException e) {\n",
    "    System.out.println(\"Error al conectar a la base de datos: \" + e.getMessage());\n",
    "}"
   ]
  },
  {
   "cell_type": "markdown",
   "metadata": {},
   "source": [
    "Tras realizar nuestras consultas a la base de datos, debemos cerrar la conexión, para ello utilizamos el método `close()`.\n",
    "\n",
    "Aunque podríamos evitarlo si utilizamos la construcción de Java `try-with-resources` que cierra automáticamente los recursos abiertos al finalizar el bloque `try`. En esta construcción, todos los recursos que se abran dentro del paréntesis de apertura del `try` se cerrarán automáticamente al finalizar el bloque `try`."
   ]
  },
  {
   "cell_type": "code",
   "execution_count": null,
   "metadata": {},
   "outputs": [],
   "source": [
    "try (Connection conexion = DriverManager.getConnection(\"jdbc:mysql://localhost:3306/pruebas\", \"root\", \"password\")) {\n",
    "    //Aquí dentro realizamos las operaciones con la base de datos\n",
    "} catch (SQLException e) {\n",
    "    System.out.println(\"Error al conectar a la base de datos: \" + e.getMessage());\n",
    "}"
   ]
  },
  {
   "cell_type": "markdown",
   "metadata": {},
   "source": [
    "# Operaciones CRUD\n",
    "\n",
    "Las operaciones CRUD son las operaciones básicas que se pueden realizar sobre una base de datos: Create, Read, Update y Delete.\n",
    "\n",
    "Para ello, utilizaremos la clase `PreparedStatement`. También existe la clase `Statement`, pero es más seguro utilizar `PreparedStatement` ya que evita la inyección SQL, por lo que solo utilizaremos esta última.\n",
    "\n",
    "Un objeto de esta clase se genera de la siguiente manera:\n",
    "\n",
    "```java\n",
    "PreparedStatement ps = conexion.prepareStatement(sentenciaSQL);\n",
    "```\n",
    "\n",
    "Esta clase dispone de dos métodos para ejecutar consultas SQL: \n",
    "\n",
    "- `executeQuery()`. Se utiliza para consultas de tipo `SELECT` y devuelve un objeto `ResultSet` con los resultados obtenidos.\n",
    "- `executeUpdate()`. Se utiliza para consultas de tipo `INSERT`, `UPDATE` y `DELETE` y devuelve un entero con el número de filas afectadas."
   ]
  },
  {
   "cell_type": "code",
   "execution_count": null,
   "metadata": {},
   "outputs": [],
   "source": [
    "String sql = \"SELECT * FROM Alumnos\";\n",
    "\n",
    "try (Connection conexion = DriverManager.getConnection(\"jdbc:mysql://localhost:3306/pruebas\", \"root\", \"password\");\n",
    "     PreparedStatement sentencia = conexion.prepareStatement(sql);\n",
    "     ResultSet resultado = sentencia.executeQuery()) {\n",
    "    while (resultado.next()) {\n",
    "        System.out.println(resultado.getString(\"nombre\"));\n",
    "    }\n",
    "} catch (SQLException e) {\n",
    "    System.out.println(\"Error al conectar a la base de datos: \" + e.getMessage());\n",
    "}"
   ]
  },
  {
   "cell_type": "markdown",
   "metadata": {},
   "source": [
    "## Manejo del `ResultSet`"
   ]
  },
  {
   "cell_type": "markdown",
   "metadata": {},
   "source": [
    "## Consultas preparadas"
   ]
  },
  {
   "cell_type": "markdown",
   "metadata": {},
   "source": [
    "## Transacciones"
   ]
  }
 ],
 "metadata": {
  "kernelspec": {
   "display_name": "Java",
   "language": "java",
   "name": "java"
  },
  "language_info": {
   "name": "java"
  }
 },
 "nbformat": 4,
 "nbformat_minor": 2
}
