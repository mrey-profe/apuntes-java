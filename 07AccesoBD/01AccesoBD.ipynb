{
 "cells": [
  {
   "cell_type": "markdown",
   "metadata": {},
   "source": [
    "# Acceso a Bases de Datos\n",
    "\n",
    "Para conectarnos desde nuestro código Java a una base de datos necesitamos un driver que nos permita realizar la conexión. En este caso vamos a utilizar el driver de MySQL.\n",
    "\n",
    "El driver de MySQL se puede descargar desde la página oficial de MySQL: [https://dev.mysql.com/downloads/connector/j/](https://dev.mysql.com/downloads/connector/j/). Nos descargaremos la versión \"Platform Independent\" en formato ZIP.\n",
    "\n",
    "Una vez descargado el driver, lo descomprimimos y escogemos el fichero `mysql-connector-java-8.0.23.jar` haciendo botón derecho sobre las librerías de nuestro proyecto y seleccionando \"Add JAR/Folder\".\n",
    "\n",
    "El proceso para conectarnos a una base de datos MySQL desde Java es el siguiente:\n",
    "\n",
    "- Establecer los datos de conexión y conectarnos a la base de datos mediante un objeto `Connection`.\n",
    "- Ejecutar las consultas SQL mediante un objeto `PreparedStatement`.\n",
    "- Tratar los resultados obtenidos mediante un objeto `ResultSet`.\n",
    "- Cerrar la conexión con la base de datos y otros objetos utilizados."
   ]
  },
  {
   "cell_type": "markdown",
   "metadata": {},
   "source": [
    "## Conexión\n",
    "\n",
    "Para conectarnos a una base de datos MySQL necesitamos los siguientes datos:\n",
    "\n",
    "- `url`: URL de la base de datos.\n",
    "- `user`: Usuario de la base de datos.\n",
    "- `password`: Contraseña del usuario de la base de datos."
   ]
  },
  {
   "cell_type": "code",
   "execution_count": null,
   "metadata": {
    "vscode": {
     "languageId": "java"
    }
   },
   "outputs": [],
   "source": [
    "import java.sql.*;\n",
    "\n",
    "Connection conexion = DriverManager.getConnection(\"jdbc:mysql://localhost:3306/pruebas\", \"root\", \"password\");"
   ]
  },
  {
   "cell_type": "markdown",
   "metadata": {},
   "source": [
    "Debemos capturar las posibles excepciones que puedan producirse al intentar establecer la conexión."
   ]
  },
  {
   "cell_type": "code",
   "execution_count": null,
   "metadata": {
    "vscode": {
     "languageId": "java"
    }
   },
   "outputs": [],
   "source": [
    "import java.sql.*;\n",
    "\n",
    "try {\n",
    "    Connection conexion = DriverManager.getConnection(\"jdbc:mysql://localhost:3306/pruebas\", \"root\", \"password\");\n",
    "    conexion.close(); //Al finalizar, cerramos la conexión\n",
    "} catch (SQLException e) {\n",
    "    System.out.println(\"Error al conectar a la base de datos: \" + e.getMessage());\n",
    "}"
   ]
  },
  {
   "cell_type": "markdown",
   "metadata": {},
   "source": [
    "Tras realizar nuestras consultas a la base de datos, debemos cerrar la conexión, para ello utilizamos el método `close()`.\n",
    "\n",
    "Aunque podríamos evitarlo si utilizamos la construcción de Java `try-with-resources` que cierra automáticamente los recursos abiertos al finalizar el bloque `try`. En esta construcción, todos los recursos que se abran dentro del paréntesis de apertura del `try` se cerrarán automáticamente al finalizar el bloque `try`."
   ]
  },
  {
   "cell_type": "code",
   "execution_count": null,
   "metadata": {
    "vscode": {
     "languageId": "java"
    }
   },
   "outputs": [],
   "source": [
    "try (Connection conexion = DriverManager.getConnection(\"jdbc:mysql://localhost:3306/pruebas\", \"root\", \"password\")) {\n",
    "    //Aquí dentro realizamos las operaciones con la base de datos\n",
    "} catch (SQLException e) {\n",
    "    System.out.println(\"Error al conectar a la base de datos: \" + e.getMessage());\n",
    "}"
   ]
  },
  {
   "cell_type": "markdown",
   "metadata": {},
   "source": [
    "# Operaciones CRUD\n",
    "\n",
    "Las operaciones CRUD son las operaciones básicas que se pueden realizar sobre una base de datos: Create, Read, Update y Delete.\n",
    "\n",
    "Para ello, utilizaremos la clase `PreparedStatement`. También existe la clase `Statement`, pero es más seguro utilizar `PreparedStatement` ya que evita la inyección SQL, por lo que solo utilizaremos esta última.\n",
    "\n",
    "Un objeto de esta clase se genera de la siguiente manera:\n",
    "\n",
    "```java\n",
    "PreparedStatement ps = conexion.prepareStatement(sentenciaSQL);\n",
    "```\n",
    "\n",
    "Esta clase dispone de dos métodos para ejecutar consultas SQL: \n",
    "\n",
    "- `executeQuery()`. Se utiliza para consultas de tipo `SELECT` y devuelve un objeto `ResultSet` con los resultados obtenidos.\n",
    "- `executeUpdate()`. Se utiliza para consultas de tipo `INSERT`, `UPDATE` y `DELETE` y devuelve un entero con el número de filas afectadas."
   ]
  },
  {
   "cell_type": "code",
   "execution_count": null,
   "metadata": {
    "vscode": {
     "languageId": "java"
    }
   },
   "outputs": [],
   "source": [
    "String sql = \"SELECT * FROM Alumnos\";\n",
    "\n",
    "try (Connection conexion = DriverManager.getConnection(\"jdbc:mysql://localhost:3306/pruebas\", \"root\", \"password\");\n",
    "     PreparedStatement sentencia = conexion.prepareStatement(sql);\n",
    "     ResultSet resultado = sentencia.executeQuery()) {\n",
    "    while (resultado.next()) {\n",
    "        System.out.println(resultado.getString(\"nombre\"));\n",
    "    }\n",
    "} catch (SQLException e) {\n",
    "    System.out.println(\"Error al conectar a la base de datos: \" + e.getMessage());\n",
    "}"
   ]
  },
  {
   "cell_type": "code",
   "execution_count": null,
   "metadata": {
    "vscode": {
     "languageId": "java"
    }
   },
   "outputs": [],
   "source": [
    "String sql = \"DELETE FROM city WHERE CountryCode='ESP'\";\n",
    "\n",
    "        try (Connection conexion = DriverManager.getConnection(\"jdbc:mysql://localhost:3306/world\", \"root\", \"renaido\");\n",
    "             PreparedStatement sentencia = conexion.prepareStatement(sql);) {\n",
    "            int numFilas = sentencia.executeUpdate();\n",
    "            System.out.println(numFilas + \" filas borradas\");\n",
    "        } catch (SQLException e) {\n",
    "            System.out.println(\"Error al conectar a la base de datos: \" + e.getMessage());\n",
    "        }"
   ]
  },
  {
   "cell_type": "markdown",
   "metadata": {},
   "source": [
    "## Manejo del `ResultSet`\n",
    "\n",
    "Un objeto `ResultSet` es una estructura en la que se almacenan los datos que devuelve la consulta. Se puede acceder a dichos datos mediante los siguientes métodos:\n",
    "\n",
    "- `next()`. Se utiliza para avanzar al siguiente registro. Devuelve `true` si hay más registros y `false` si no hay más registros.\n",
    "- `getTipoDato(\"nombreColumna\")`. Se utiliza para obtener el valor de una columna. El tipo de dato debe ser el adecuado para la columna que se está consultando.\n",
    "- `getTipoDato(posiciónColumna)`. Se utiliza para obtener el valor de una columna. El tipo de dato debe ser el adecuado para la columna que se está consultando. En este caso, la primera columna es la 1.\n",
    "- `getRow()`. Devuelve el número de fila actual."
   ]
  },
  {
   "cell_type": "markdown",
   "metadata": {},
   "source": [
    "## Cierre de objetos\n",
    "\n",
    "Es importante cerrar los objetos `PreparedStatement`, `ResultSet` y `Connection` una vez que hayamos terminado de utilizarlos. Para ello, utilizamos el método `close()`.\n",
    "\n",
    "En el caso de que los hayamos creado dentro de una cláusula `try-with-resources`, no será necesario cerrarlos ya que se cerrarán automáticamente al finalizar el bloque `try`."
   ]
  },
  {
   "cell_type": "markdown",
   "metadata": {},
   "source": [
    "## Consultas preparadas (parametrización de consultas)\n",
    "\n",
    "Las consultas preparadas son consultas SQL que contienen parámetros. Estos parámetros se representan con el símbolo `?` y se sustituyen por los valores correspondientes mediante el método `setTipoDato(posición, valor)`. el primero de los parámetros tendrá la posición 1.\n",
    "\n",
    "Estas son las principales ventajas de utilizar consultas preparadas:\n",
    "\n",
    "- Evitan la inyección SQL.\n",
    "- Mejoran el rendimiento de la consulta.\n",
    "- Permiten reutilizar la consulta con diferentes valores."
   ]
  },
  {
   "cell_type": "code",
   "execution_count": null,
   "metadata": {
    "vscode": {
     "languageId": "java"
    }
   },
   "outputs": [],
   "source": [
    "String sql = \"SELECT * FROM Alumnos WHERE YEAR(fecha_nacimiento) = ?;\";\n",
    "\n",
    "try (Connection conexion = DriverManager.getConnection(\"jdbc:mysql://localhost:3306/pruebas\", \"root\", \"renaido\"); \n",
    "        PreparedStatement sentencia = conexion.prepareStatement(sql);) {\n",
    "    sentencia.setInt(1, 2005);\n",
    "    try (ResultSet resultado = sentencia.executeQuery()) {\n",
    "        while (resultado.next()) {\n",
    "            System.out.println(resultado.getString(\"nombre\"));\n",
    "        }\n",
    "    }\n",
    "} catch (SQLException e) {\n",
    "    System.out.println(\"Error al conectar a la base de datos: \" + e.getMessage());\n",
    "}"
   ]
  },
  {
   "cell_type": "code",
   "execution_count": null,
   "metadata": {
    "vscode": {
     "languageId": "java"
    }
   },
   "outputs": [],
   "source": [
    "// Repetición de consultas\n",
    "\n",
    "String sql = \"SELECT * FROM Alumnos WHERE YEAR(fecha_nacimiento) = ?;\";\n",
    "\n",
    "try (Connection conexion = DriverManager.getConnection(\"jdbc:mysql://localhost:3306/pruebas\", \"root\", \"renaido\"); \n",
    "        PreparedStatement sentencia = conexion.prepareStatement(sql);) {\n",
    "    for (int anho = 2000; anho <= 2010; anho++) {\n",
    "    sentencia.setInt(1, anho);\n",
    "        System.out.println(\"Año: \" + anho);\n",
    "        try (ResultSet resultado = sentencia.executeQuery()) {\n",
    "            while (resultado.next()) {\n",
    "                System.out.println(resultado.getString(\"nombre\"));\n",
    "            }\n",
    "        }\n",
    "    }\n",
    "} catch (SQLException e) {\n",
    "    System.out.println(\"Error al conectar a la base de datos: \" + e.getMessage());\n",
    "}"
   ]
  },
  {
   "cell_type": "code",
   "execution_count": null,
   "metadata": {
    "vscode": {
     "languageId": "java"
    }
   },
   "outputs": [],
   "source": [
    "String sql = \"SELECT * FROM Alumnos WHERE YEAR(fecha_nacimiento) = ? and apellido LIKE ?\";\n",
    "\n",
    "try (Connection conexion = DriverManager.getConnection(\"jdbc:mysql://localhost:3306/pruebas\", \"root\", \"renaido\"); PreparedStatement sentencia = conexion.prepareStatement(sql);) {\n",
    "\n",
    "    sentencia.setInt(1, 2005);\n",
    "    sentencia.setString(2, \"R%\");\n",
    "\n",
    "    try (ResultSet resultado = sentencia.executeQuery()) {\n",
    "        while (resultado.next()) {\n",
    "            System.out.println(resultado.getString(\"nombre\"));\n",
    "        }\n",
    "    }\n",
    "\n",
    "} catch (SQLException e) {\n",
    "    System.out.println(\"Error al conectar a la base de datos: \" + e.getMessage());\n",
    "}"
   ]
  },
  {
   "cell_type": "markdown",
   "metadata": {},
   "source": [
    "- Aunque los parámetros sean textos o fechas, no tenemos que preocuparnos de las\n",
    "comillas en la consulta, al sustituir la interrogación por el valor, JDBC se encarga\n",
    "de ello.\n",
    "- Si el parámetro es una fecha, el valor debe ser de tipo `java.sql.Date`, no `LocalDate`."
   ]
  },
  {
   "cell_type": "code",
   "execution_count": null,
   "metadata": {
    "vscode": {
     "languageId": "java"
    }
   },
   "outputs": [],
   "source": [
    "LocalDate fecha = LocalDate.now();\n",
    "ps.setDate(1, java.sql.Date.valueOf(fecha));"
   ]
  },
  {
   "cell_type": "markdown",
   "metadata": {},
   "source": [
    "## Inserción, modificación y eliminación de registros\n",
    "\n",
    "Para insertar, modificar o eliminar registros de una base de datos, utilizamos el método `executeUpdate()`. Este método devuelve un entero con el número de filas afectadas."
   ]
  },
  {
   "cell_type": "code",
   "execution_count": null,
   "metadata": {
    "vscode": {
     "languageId": "java"
    }
   },
   "outputs": [],
   "source": [
    "String sql = \"INSERT INTO Alumnos (nombre, apellido, fecha_nacimiento) VALUES (?, ?, ?)\";\n",
    "\n",
    "try (Connection conexion = DriverManager.getConnection(\"jdbc:mysql://localhost:3306/pruebas\", \"root\", \"renaido\"); PreparedStatement sentencia = conexion.prepareStatement(sql);) {\n",
    "\n",
    "    sentencia.setString(1, \"Fernando\");\n",
    "    sentencia.setString(2, \"Gómez\");\n",
    "    LocalDate fecha = LocalDate.of(2004, 4, 13);\n",
    "    sentencia.setDate(3, Date.valueOf(fecha));\n",
    "\n",
    "    int cantidadFilas = sentencia.executeUpdate();\n",
    "    System.out.printf(\"Insertadas %d filas\\n\", cantidadFilas);\n",
    "\n",
    "} catch (SQLException e) {\n",
    "    System.out.println(\"Error al conectar a la base de datos: \" + e.getMessage());\n",
    "}"
   ]
  },
  {
   "cell_type": "code",
   "execution_count": null,
   "metadata": {
    "vscode": {
     "languageId": "java"
    }
   },
   "outputs": [],
   "source": [
    "// Repetición de consultas\n",
    "sql = \"SELECT Name FROM country WHERE Population >= ? and Population < ?\";\n",
    "\n",
    "try (Connection conexion = DriverManager.getConnection(\"jdbc:mysql://localhost:3306/world\", \"root\", \"renaido\"); \n",
    "        PreparedStatement sentencia = conexion.prepareStatement(sql);) {\n",
    "    for (int limite = 1; limite <= 100000; limite *= 10) {\n",
    "        sentencia.setInt(1, limite);\n",
    "        int limiteSuperior = limite * 10;\n",
    "        sentencia.setInt(2, limiteSuperior);\n",
    "        System.out.println(\"\");\n",
    "        System.out.println(\"Entre \" + limite + \" y \" + limiteSuperior);\n",
    "        try (ResultSet resultado = sentencia.executeQuery()) {\n",
    "            while (resultado.next()) {\n",
    "                System.out.println(resultado.getString(\"Name\"));\n",
    "            }\n",
    "        }\n",
    "    }\n",
    "} catch (SQLException e) {\n",
    "    System.out.println(\"Error al conectar a la base de datos: \" + e.getMessage());\n",
    "}"
   ]
  },
  {
   "cell_type": "markdown",
   "metadata": {},
   "source": [
    "## Transacciones\n",
    "\n",
    "Una transacción es un conjunto de operaciones que se ejecutan como una sola unidad. Si una de las operaciones falla, se deshacen todas las operaciones realizadas hasta ese momento. Este tipo de operaciones se conocen como **operaciones atómicas** y se utilizan para garantizar la integridad de los datos.\n",
    "\n",
    "Para trabajar con transacciones en Java, utilizamos los métodos:\n",
    "- `setAutoCommit(false)`. Deshabilita el modo de autocommit. Habitualmente, las operaciones se realizan en modo autocommit, es decir, cada operación se confirma automáticamente.\n",
    "- `commit()`. Confirma la transacción.\n",
    "- `rollback()`. Deshace la transacción. "
   ]
  },
  {
   "cell_type": "code",
   "execution_count": null,
   "metadata": {
    "vscode": {
     "languageId": "java"
    }
   },
   "outputs": [],
   "source": [
    "String url = \"jdbc:mysql://localhost:3306/nombre_base_datos\";\n",
    "String user = \"usuario\";\n",
    "String password = \"contraseña\";\n",
    "\n",
    "try (Connection conn = DriverManager.getConnection(url, user, password)) {\n",
    "    conn.setAutoCommit(false); // Deshabilitar auto-commit\n",
    "\n",
    "    try (PreparedStatement sentencia = conn.prepareStatement(\"INSERT INTO Alumnos (nombre, apellido, fecha_nacimiento) VALUES (?, ?, ?)\")) {\n",
    "\n",
    "        sentencia.setString(1, \"Juan\");\n",
    "        sentencia.setString(2, \"Pérez\");\n",
    "        sentencia.setDate(3, java.sql.Date.valueOf(\"2005-09-01\"));\n",
    "        sentencia.executeUpdate();\n",
    "\n",
    "        sentencia.setString(1, \"María\");\n",
    "        sentencia.setString(2, \"González\");\n",
    "        sentencia.setDate(3, java.sql.Date.valueOf(\"2006-10-15\"));\n",
    "        sentencia.executeUpdate();\n",
    "\n",
    "        conn.commit(); // Confirmar la transacción\n",
    "    } catch (SQLException e) {\n",
    "        conn.rollback(); // Deshacer la transacción en caso de error de la BD\n",
    "        throw e;\n",
    "    } catch (Exception e) {\n",
    "        conn.rollback(); // Deshacer la transacción en caso de otro error\n",
    "} catch (SQLException e) {\n",
    "    e.printStackTrace();\n",
    "}\n",
    "    "
   ]
  },
  {
   "cell_type": "markdown",
   "metadata": {},
   "source": [
    "## Patrón DAO\n",
    "\n",
    "El patrón DAO (Data Access Object) es un patrón de diseño que se utiliza para abstraer y encapsular el acceso a la base de datos. De esta forma, separamos la lógica de negocio de la lógica de acceso a la base de datos.\n",
    "\n",
    "Debe crearse una clase DAO que contenga todos los métodos de acceso a la base de datos. De este modo, si en el futuro cambiamos la base de datos, solo tendremos que modificar esta clase."
   ]
  },
  {
   "cell_type": "code",
   "execution_count": null,
   "metadata": {
    "vscode": {
     "languageId": "java"
    }
   },
   "outputs": [],
   "source": [
    "pulic class DAO {\n",
    "    private String url;\n",
    "    private String usuario;\n",
    "    private String password;\n",
    "\n",
    "    public DAO(String url, String usuario, String password) {\n",
    "        this.url = url;\n",
    "        this.usuario = usuario;\n",
    "        this.password = password;\n",
    "    }\n",
    "\n",
    "    public boolean insertarAlumno(String nombre, String apellido, LocalDate fechaNacimiento) throws SQLException {\n",
    "        String sql = \"INSERT INTO Alumnos (nombre, apellido, fecha_nacimiento) VALUES (?, ?, ?)\";\n",
    "\n",
    "        try (Connection conexion = DriverManager.getConnection(url, usuario, password); PreparedStatement sentencia = conexion.prepareStatement(sql);) {\n",
    "\n",
    "            sentencia.setString(1, nombre);\n",
    "            sentencia.setString(2, apellido);\n",
    "            sentencia.setDate(3, Date.valueOf(fechaNacimiento));\n",
    "\n",
    "            int cantidadFilas = sentencia.executeUpdate();\n",
    "            System.out.printf(\"Insertadas %d filas\\n\", cantidadFilas);\n",
    "\n",
    "            return cantidadFilas > 0;\n",
    "        } catch (SQLException e) {\n",
    "            System.out.println(\"Error al conectar a la base de datos: \" + e.getMessage());\n",
    "        }\n",
    "    }\n",
    "\n",
    "    public List<Alumno> obtenerAlumnosPorAnho(int anho) throws SQLException {\n",
    "        String sql = \"SELECT * FROM Alumnos WHERE YEAR(fecha_nacimiento) = ?\";\n",
    "\n",
    "        try (Connection conexion = DriverManager.getConnection(url, usuario, password); \n",
    "        PreparedStatement sentencia = conexion.prepareStatement(sql);) {\n",
    "            sentencia.setInt(1, anho);\n",
    "\n",
    "            try (ResultSet resultado = sentencia.executeQuery()) {\n",
    "                List<Alumno> alumnos = new ArrayList<>();\n",
    "                while (resultado.next()) {\n",
    "                    Alumno alumno = new Alumno();\n",
    "                    alumno.setNombre(resultado.getString(\"nombre\"));\n",
    "                    alumno.setApellido(resultado.getString(\"apellido\"));\n",
    "                    alumno.setFechaNacimiento(resultado.getDate(\"fecha_nacimiento\").toLocalDate());\n",
    "                    alumnos.add(alumno);\n",
    "                }\n",
    "                return alumnos;\n",
    "            }\n",
    "        } catch (SQLException e) {\n",
    "            System.out.println(\"Error al conectar a la base de datos: \" + e.getMessage());\n",
    "        }\n",
    "    }\n",
    "}"
   ]
  },
  {
   "cell_type": "markdown",
   "metadata": {},
   "source": [
    "De hecho, es aún más recomendable crear una interfaz DAO que contenga los métodos de acceso a la base de datos y una clase DAO que implemente dicha interfaz. En el programa principal, se creará un objeto de la interfaz DAO y se llamará a los métodos de la interfaz.\n",
    "\n",
    "Así, si en el futuro cambiamos la base de datos, solo tendremos que modificar la clase DAO que implementa la interfaz."
   ]
  },
  {
   "cell_type": "code",
   "execution_count": null,
   "metadata": {
    "vscode": {
     "languageId": "java"
    }
   },
   "outputs": [],
   "source": [
    "public interface DAO {\n",
    "    public boolean insertarAlumno(String nombre, String apellido, LocalDate fechaNacimiento) throws SQLException;\n",
    "    public List<Alumno> obtenerAlumnosPorAnho(int anho) throws SQLException;\n",
    "}\n",
    "\n",
    "public class DAOImplementacion implements DAO {\n",
    "    String url;\n",
    "    String usuario;\n",
    "    String password;\n",
    "\n",
    "    public DAOImplementacion(String url, String usuario, String password) {\n",
    "        this.url = url;\n",
    "        this.usuario = usuario;\n",
    "        this.password = password;\n",
    "    }\n",
    "\n",
    "    @Override\n",
    "    public boolean insertarAlumno(String nombre, String apellido, LocalDate fechaNacimiento) throws SQLException {\n",
    "        String sql = \"INSERT INTO Alumnos (nombre, apellido, fecha_nacimiento) VALUES (?, ?, ?)\";\n",
    "\n",
    "        try (Connection conexion = DriverManager.getConnection(url, usuario, password); PreparedStatement sentencia = conexion.prepareStatement(sql);) {\n",
    "\n",
    "            sentencia.setString(1, nombre);\n",
    "            sentencia.setString(2, apellido);\n",
    "            sentencia.setDate(3, Date.valueOf(fechaNacimiento));\n",
    "\n",
    "            int cantidadFilas = sentencia.executeUpdate();\n",
    "            System.out.printf(\"Insertadas %d filas\\n\", cantidadFilas);\n",
    "\n",
    "            return cantidadFilas > 0;\n",
    "        }\n",
    "    }\n",
    "\n",
    "    @Override\n",
    "    public List<Alumno> obtenerAlumnosPorAnho(int anho) throws SQLException {\n",
    "        String sql = \"SELECT * FROM Alumnos WHERE YEAR(fecha_nacimiento) = ?\";\n",
    "\n",
    "        try (Connection conexion = DriverManager.getConnection(url, usuario, password); \n",
    "        PreparedStatement sentencia = conexion.prepareStatement(sql);) {\n",
    "            sentencia.setInt(1, anho);\n",
    "\n",
    "            try (ResultSet resultado = sentencia.executeQuery()) {\n",
    "                List<Alumno> alumnos = new ArrayList<>();\n",
    "                while (resultado.next()) {\n",
    "                    Alumno alumno = new Alumno();\n",
    "                    alumno.setNombre(resultado.getString(\"nombre\"));\n",
    "                    alumno.setApellido(resultado.getString(\"apellido\"));\n",
    "                    alumno.setFechaNacimiento(resultado.getDate(\"fecha_nacimiento\").toLocalDate());\n",
    "                    alumnos.add(alumno);\n",
    "                }\n",
    "                return alumnos;\n",
    "            }\n",
    "        }\n",
    "    }\n",
    "}"
   ]
  }
 ],
 "metadata": {
  "kernelspec": {
   "display_name": "Java",
   "language": "java",
   "name": "java"
  },
  "language_info": {
   "codemirror_mode": "java",
   "file_extension": ".jshell",
   "mimetype": "text/x-java-source",
   "name": "Java",
   "pygments_lexer": "java",
   "version": "21.0.2+13-Ubuntu-122.04.1"
  }
 },
 "nbformat": 4,
 "nbformat_minor": 2
}
